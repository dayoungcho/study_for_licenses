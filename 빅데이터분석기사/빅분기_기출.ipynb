{
 "cells": [
  {
   "cell_type": "markdown",
   "metadata": {},
   "source": [
    "# 7회"
   ]
  },
  {
   "cell_type": "markdown",
   "metadata": {},
   "source": [
    "## 1유형"
   ]
  },
  {
   "cell_type": "markdown",
   "metadata": {},
   "source": [
    "### 1. 국어,수학,영어,과학 과목 중 가장 많은 학생들이 응시한 시험을 선택하고 해당과목의 점수를 표준화 했을 때 가장 큰 표준화 점수를 구하여라"
   ]
  },
  {
   "cell_type": "code",
   "execution_count": 2,
   "metadata": {},
   "outputs": [
    {
     "data": {
      "text/html": [
       "<div>\n",
       "<style scoped>\n",
       "    .dataframe tbody tr th:only-of-type {\n",
       "        vertical-align: middle;\n",
       "    }\n",
       "\n",
       "    .dataframe tbody tr th {\n",
       "        vertical-align: top;\n",
       "    }\n",
       "\n",
       "    .dataframe thead th {\n",
       "        text-align: right;\n",
       "    }\n",
       "</style>\n",
       "<table border=\"1\" class=\"dataframe\">\n",
       "  <thead>\n",
       "    <tr style=\"text-align: right;\">\n",
       "      <th></th>\n",
       "      <th>학생</th>\n",
       "      <th>국어</th>\n",
       "      <th>수학</th>\n",
       "      <th>영어</th>\n",
       "      <th>과학</th>\n",
       "    </tr>\n",
       "  </thead>\n",
       "  <tbody>\n",
       "    <tr>\n",
       "      <th>0</th>\n",
       "      <td>ID_0</td>\n",
       "      <td>63.0</td>\n",
       "      <td>NaN</td>\n",
       "      <td>79.0</td>\n",
       "      <td>84.0</td>\n",
       "    </tr>\n",
       "    <tr>\n",
       "      <th>1</th>\n",
       "      <td>ID_1</td>\n",
       "      <td>91.0</td>\n",
       "      <td>93.0</td>\n",
       "      <td>NaN</td>\n",
       "      <td>73.0</td>\n",
       "    </tr>\n",
       "    <tr>\n",
       "      <th>2</th>\n",
       "      <td>ID_2</td>\n",
       "      <td>59.0</td>\n",
       "      <td>55.0</td>\n",
       "      <td>NaN</td>\n",
       "      <td>56.0</td>\n",
       "    </tr>\n",
       "    <tr>\n",
       "      <th>3</th>\n",
       "      <td>ID_3</td>\n",
       "      <td>71.0</td>\n",
       "      <td>83.0</td>\n",
       "      <td>82.0</td>\n",
       "      <td>NaN</td>\n",
       "    </tr>\n",
       "    <tr>\n",
       "      <th>4</th>\n",
       "      <td>ID_4</td>\n",
       "      <td>62.0</td>\n",
       "      <td>72.0</td>\n",
       "      <td>56.0</td>\n",
       "      <td>NaN</td>\n",
       "    </tr>\n",
       "  </tbody>\n",
       "</table>\n",
       "</div>"
      ],
      "text/plain": [
       "     학생    국어    수학    영어    과학\n",
       "0  ID_0  63.0   NaN  79.0  84.0\n",
       "1  ID_1  91.0  93.0   NaN  73.0\n",
       "2  ID_2  59.0  55.0   NaN  56.0\n",
       "3  ID_3  71.0  83.0  82.0   NaN\n",
       "4  ID_4  62.0  72.0  56.0   NaN"
      ]
     },
     "execution_count": 2,
     "metadata": {},
     "output_type": "execute_result"
    }
   ],
   "source": [
    "import pandas as pd\n",
    "\n",
    "df = pd.read_csv('https://raw.githubusercontent.com/Datamanim/datarepo/main/krdatacertificate/e7_p1.csv')\n",
    "df.head()"
   ]
  },
  {
   "cell_type": "code",
   "execution_count": 10,
   "metadata": {},
   "outputs": [
    {
     "data": {
      "text/plain": [
       "학생    0\n",
       "국어    2\n",
       "수학    3\n",
       "영어    4\n",
       "과학    6\n",
       "dtype: int64"
      ]
     },
     "execution_count": 10,
     "metadata": {},
     "output_type": "execute_result"
    }
   ],
   "source": [
    "df.isnull().sum()    # 가장 많이 응시한 시험: 국어"
   ]
  },
  {
   "cell_type": "code",
   "execution_count": null,
   "metadata": {},
   "outputs": [],
   "source": [
    "df['표준화'] = ( df['국어'] - df['국어'].mean()) / df['국어'].std(ddof=0)  # ddof=0 설정해줘야 모표준편차 나옴"
   ]
  },
  {
   "cell_type": "code",
   "execution_count": 20,
   "metadata": {},
   "outputs": [
    {
     "data": {
      "text/plain": [
       "1.713855688712825"
      ]
     },
     "execution_count": 20,
     "metadata": {},
     "output_type": "execute_result"
    }
   ],
   "source": [
    "df['표준화'].max()"
   ]
  },
  {
   "cell_type": "markdown",
   "metadata": {},
   "source": [
    "### 2. 32개의 변수간 상관관계를 확인 했을 때, var_11 컬럼과 상관계수의 절댓값이 가장 큰 변수를 찾아 해당 변수의 평균값을 구하여라."
   ]
  },
  {
   "cell_type": "code",
   "execution_count": 34,
   "metadata": {},
   "outputs": [],
   "source": [
    "import pandas as pd\n",
    "\n",
    "df = pd.read_csv('https://raw.githubusercontent.com/Datamanim/datarepo/main/krdatacertificate/e7_p2_.csv')"
   ]
  },
  {
   "cell_type": "code",
   "execution_count": 35,
   "metadata": {},
   "outputs": [
    {
     "data": {
      "text/html": [
       "<div>\n",
       "<style scoped>\n",
       "    .dataframe tbody tr th:only-of-type {\n",
       "        vertical-align: middle;\n",
       "    }\n",
       "\n",
       "    .dataframe tbody tr th {\n",
       "        vertical-align: top;\n",
       "    }\n",
       "\n",
       "    .dataframe thead th {\n",
       "        text-align: right;\n",
       "    }\n",
       "</style>\n",
       "<table border=\"1\" class=\"dataframe\">\n",
       "  <thead>\n",
       "    <tr style=\"text-align: right;\">\n",
       "      <th></th>\n",
       "      <th>var_1</th>\n",
       "      <th>var_2</th>\n",
       "      <th>var_3</th>\n",
       "      <th>var_4</th>\n",
       "      <th>var_5</th>\n",
       "      <th>var_6</th>\n",
       "      <th>var_7</th>\n",
       "      <th>var_8</th>\n",
       "      <th>var_9</th>\n",
       "      <th>var_10</th>\n",
       "      <th>...</th>\n",
       "      <th>var_23</th>\n",
       "      <th>var_24</th>\n",
       "      <th>var_25</th>\n",
       "      <th>var_26</th>\n",
       "      <th>var_27</th>\n",
       "      <th>var_28</th>\n",
       "      <th>var_29</th>\n",
       "      <th>var_30</th>\n",
       "      <th>var_31</th>\n",
       "      <th>var_32</th>\n",
       "    </tr>\n",
       "  </thead>\n",
       "  <tbody>\n",
       "    <tr>\n",
       "      <th>0</th>\n",
       "      <td>-0.335864</td>\n",
       "      <td>-2.425701</td>\n",
       "      <td>0.452851</td>\n",
       "      <td>-1.381924</td>\n",
       "      <td>-0.425591</td>\n",
       "      <td>-1.461498</td>\n",
       "      <td>-0.417082</td>\n",
       "      <td>-0.944226</td>\n",
       "      <td>-0.351224</td>\n",
       "      <td>1.474046</td>\n",
       "      <td>...</td>\n",
       "      <td>1.715714</td>\n",
       "      <td>0.300227</td>\n",
       "      <td>0.439828</td>\n",
       "      <td>-0.094772</td>\n",
       "      <td>1.551995</td>\n",
       "      <td>3.308446</td>\n",
       "      <td>-0.391377</td>\n",
       "      <td>1.963829</td>\n",
       "      <td>-1.458605</td>\n",
       "      <td>-0.348652</td>\n",
       "    </tr>\n",
       "    <tr>\n",
       "      <th>1</th>\n",
       "      <td>0.803535</td>\n",
       "      <td>-0.699433</td>\n",
       "      <td>0.095579</td>\n",
       "      <td>0.788053</td>\n",
       "      <td>-0.267674</td>\n",
       "      <td>-0.370746</td>\n",
       "      <td>0.636034</td>\n",
       "      <td>-1.674584</td>\n",
       "      <td>-0.058465</td>\n",
       "      <td>-1.188973</td>\n",
       "      <td>...</td>\n",
       "      <td>-1.348879</td>\n",
       "      <td>-0.899480</td>\n",
       "      <td>-1.271886</td>\n",
       "      <td>0.333734</td>\n",
       "      <td>-0.373565</td>\n",
       "      <td>-2.091508</td>\n",
       "      <td>-0.715245</td>\n",
       "      <td>-0.688441</td>\n",
       "      <td>0.910927</td>\n",
       "      <td>-0.746899</td>\n",
       "    </tr>\n",
       "    <tr>\n",
       "      <th>2</th>\n",
       "      <td>-0.408470</td>\n",
       "      <td>-0.361105</td>\n",
       "      <td>-0.857278</td>\n",
       "      <td>0.338294</td>\n",
       "      <td>2.317821</td>\n",
       "      <td>-0.099928</td>\n",
       "      <td>0.557053</td>\n",
       "      <td>-0.847932</td>\n",
       "      <td>0.973471</td>\n",
       "      <td>0.101203</td>\n",
       "      <td>...</td>\n",
       "      <td>-0.388353</td>\n",
       "      <td>0.918553</td>\n",
       "      <td>-1.984422</td>\n",
       "      <td>0.385055</td>\n",
       "      <td>1.161414</td>\n",
       "      <td>-1.280253</td>\n",
       "      <td>2.831802</td>\n",
       "      <td>-0.953771</td>\n",
       "      <td>-0.228466</td>\n",
       "      <td>0.766254</td>\n",
       "    </tr>\n",
       "    <tr>\n",
       "      <th>3</th>\n",
       "      <td>-0.690599</td>\n",
       "      <td>0.777928</td>\n",
       "      <td>-0.079963</td>\n",
       "      <td>0.164086</td>\n",
       "      <td>1.721702</td>\n",
       "      <td>0.146761</td>\n",
       "      <td>-0.988636</td>\n",
       "      <td>0.885344</td>\n",
       "      <td>0.647053</td>\n",
       "      <td>0.674609</td>\n",
       "      <td>...</td>\n",
       "      <td>0.337074</td>\n",
       "      <td>-1.406224</td>\n",
       "      <td>-0.699728</td>\n",
       "      <td>-0.836068</td>\n",
       "      <td>-0.226315</td>\n",
       "      <td>1.260893</td>\n",
       "      <td>-0.781630</td>\n",
       "      <td>-0.219995</td>\n",
       "      <td>0.871289</td>\n",
       "      <td>0.017578</td>\n",
       "    </tr>\n",
       "    <tr>\n",
       "      <th>4</th>\n",
       "      <td>0.179819</td>\n",
       "      <td>-0.668267</td>\n",
       "      <td>0.381849</td>\n",
       "      <td>-0.884196</td>\n",
       "      <td>0.758519</td>\n",
       "      <td>-1.026190</td>\n",
       "      <td>0.986227</td>\n",
       "      <td>-1.663167</td>\n",
       "      <td>2.290551</td>\n",
       "      <td>0.564845</td>\n",
       "      <td>...</td>\n",
       "      <td>-0.700137</td>\n",
       "      <td>-0.153825</td>\n",
       "      <td>-1.835313</td>\n",
       "      <td>0.182131</td>\n",
       "      <td>0.890247</td>\n",
       "      <td>0.024791</td>\n",
       "      <td>1.489955</td>\n",
       "      <td>1.276357</td>\n",
       "      <td>-0.285144</td>\n",
       "      <td>1.066486</td>\n",
       "    </tr>\n",
       "    <tr>\n",
       "      <th>...</th>\n",
       "      <td>...</td>\n",
       "      <td>...</td>\n",
       "      <td>...</td>\n",
       "      <td>...</td>\n",
       "      <td>...</td>\n",
       "      <td>...</td>\n",
       "      <td>...</td>\n",
       "      <td>...</td>\n",
       "      <td>...</td>\n",
       "      <td>...</td>\n",
       "      <td>...</td>\n",
       "      <td>...</td>\n",
       "      <td>...</td>\n",
       "      <td>...</td>\n",
       "      <td>...</td>\n",
       "      <td>...</td>\n",
       "      <td>...</td>\n",
       "      <td>...</td>\n",
       "      <td>...</td>\n",
       "      <td>...</td>\n",
       "      <td>...</td>\n",
       "    </tr>\n",
       "    <tr>\n",
       "      <th>995</th>\n",
       "      <td>0.490434</td>\n",
       "      <td>-1.197004</td>\n",
       "      <td>-0.479932</td>\n",
       "      <td>0.742293</td>\n",
       "      <td>0.030237</td>\n",
       "      <td>-0.917399</td>\n",
       "      <td>-0.456485</td>\n",
       "      <td>-0.073727</td>\n",
       "      <td>0.315860</td>\n",
       "      <td>0.494952</td>\n",
       "      <td>...</td>\n",
       "      <td>0.051177</td>\n",
       "      <td>-0.352919</td>\n",
       "      <td>1.165803</td>\n",
       "      <td>1.022760</td>\n",
       "      <td>-0.430430</td>\n",
       "      <td>-1.752405</td>\n",
       "      <td>1.268725</td>\n",
       "      <td>0.835590</td>\n",
       "      <td>-0.640479</td>\n",
       "      <td>0.896333</td>\n",
       "    </tr>\n",
       "    <tr>\n",
       "      <th>996</th>\n",
       "      <td>-0.473478</td>\n",
       "      <td>-0.288961</td>\n",
       "      <td>0.760027</td>\n",
       "      <td>0.290169</td>\n",
       "      <td>1.480012</td>\n",
       "      <td>-0.133223</td>\n",
       "      <td>-0.253417</td>\n",
       "      <td>-1.694322</td>\n",
       "      <td>-0.619197</td>\n",
       "      <td>-1.656501</td>\n",
       "      <td>...</td>\n",
       "      <td>0.039316</td>\n",
       "      <td>1.581424</td>\n",
       "      <td>-0.031658</td>\n",
       "      <td>1.527934</td>\n",
       "      <td>0.515152</td>\n",
       "      <td>-1.323778</td>\n",
       "      <td>0.122720</td>\n",
       "      <td>1.677778</td>\n",
       "      <td>-1.499085</td>\n",
       "      <td>1.061794</td>\n",
       "    </tr>\n",
       "    <tr>\n",
       "      <th>997</th>\n",
       "      <td>0.466743</td>\n",
       "      <td>-0.590503</td>\n",
       "      <td>0.018420</td>\n",
       "      <td>-0.466678</td>\n",
       "      <td>-0.546611</td>\n",
       "      <td>-2.276084</td>\n",
       "      <td>0.015573</td>\n",
       "      <td>2.168013</td>\n",
       "      <td>-0.669260</td>\n",
       "      <td>0.289482</td>\n",
       "      <td>...</td>\n",
       "      <td>0.145285</td>\n",
       "      <td>1.673797</td>\n",
       "      <td>0.640994</td>\n",
       "      <td>0.628243</td>\n",
       "      <td>0.202849</td>\n",
       "      <td>0.373191</td>\n",
       "      <td>0.677001</td>\n",
       "      <td>1.200631</td>\n",
       "      <td>-0.681883</td>\n",
       "      <td>-1.426339</td>\n",
       "    </tr>\n",
       "    <tr>\n",
       "      <th>998</th>\n",
       "      <td>-0.662948</td>\n",
       "      <td>-0.472974</td>\n",
       "      <td>0.246858</td>\n",
       "      <td>-1.258131</td>\n",
       "      <td>-1.345171</td>\n",
       "      <td>0.517870</td>\n",
       "      <td>-0.410059</td>\n",
       "      <td>-0.700673</td>\n",
       "      <td>0.101443</td>\n",
       "      <td>-0.623119</td>\n",
       "      <td>...</td>\n",
       "      <td>1.501711</td>\n",
       "      <td>-1.109268</td>\n",
       "      <td>1.454441</td>\n",
       "      <td>-2.391655</td>\n",
       "      <td>0.652381</td>\n",
       "      <td>0.478351</td>\n",
       "      <td>-0.191029</td>\n",
       "      <td>-1.120244</td>\n",
       "      <td>1.964952</td>\n",
       "      <td>0.372213</td>\n",
       "    </tr>\n",
       "    <tr>\n",
       "      <th>999</th>\n",
       "      <td>0.544267</td>\n",
       "      <td>1.727658</td>\n",
       "      <td>0.308647</td>\n",
       "      <td>-1.622876</td>\n",
       "      <td>0.858703</td>\n",
       "      <td>-0.263262</td>\n",
       "      <td>-0.325299</td>\n",
       "      <td>-0.298618</td>\n",
       "      <td>0.991313</td>\n",
       "      <td>0.099296</td>\n",
       "      <td>...</td>\n",
       "      <td>1.063176</td>\n",
       "      <td>-0.191063</td>\n",
       "      <td>-1.026710</td>\n",
       "      <td>0.945256</td>\n",
       "      <td>2.150945</td>\n",
       "      <td>0.459874</td>\n",
       "      <td>0.589407</td>\n",
       "      <td>1.764326</td>\n",
       "      <td>-0.121256</td>\n",
       "      <td>1.208216</td>\n",
       "    </tr>\n",
       "  </tbody>\n",
       "</table>\n",
       "<p>1000 rows × 32 columns</p>\n",
       "</div>"
      ],
      "text/plain": [
       "        var_1     var_2     var_3     var_4     var_5     var_6     var_7  \\\n",
       "0   -0.335864 -2.425701  0.452851 -1.381924 -0.425591 -1.461498 -0.417082   \n",
       "1    0.803535 -0.699433  0.095579  0.788053 -0.267674 -0.370746  0.636034   \n",
       "2   -0.408470 -0.361105 -0.857278  0.338294  2.317821 -0.099928  0.557053   \n",
       "3   -0.690599  0.777928 -0.079963  0.164086  1.721702  0.146761 -0.988636   \n",
       "4    0.179819 -0.668267  0.381849 -0.884196  0.758519 -1.026190  0.986227   \n",
       "..        ...       ...       ...       ...       ...       ...       ...   \n",
       "995  0.490434 -1.197004 -0.479932  0.742293  0.030237 -0.917399 -0.456485   \n",
       "996 -0.473478 -0.288961  0.760027  0.290169  1.480012 -0.133223 -0.253417   \n",
       "997  0.466743 -0.590503  0.018420 -0.466678 -0.546611 -2.276084  0.015573   \n",
       "998 -0.662948 -0.472974  0.246858 -1.258131 -1.345171  0.517870 -0.410059   \n",
       "999  0.544267  1.727658  0.308647 -1.622876  0.858703 -0.263262 -0.325299   \n",
       "\n",
       "        var_8     var_9    var_10  ...    var_23    var_24    var_25  \\\n",
       "0   -0.944226 -0.351224  1.474046  ...  1.715714  0.300227  0.439828   \n",
       "1   -1.674584 -0.058465 -1.188973  ... -1.348879 -0.899480 -1.271886   \n",
       "2   -0.847932  0.973471  0.101203  ... -0.388353  0.918553 -1.984422   \n",
       "3    0.885344  0.647053  0.674609  ...  0.337074 -1.406224 -0.699728   \n",
       "4   -1.663167  2.290551  0.564845  ... -0.700137 -0.153825 -1.835313   \n",
       "..        ...       ...       ...  ...       ...       ...       ...   \n",
       "995 -0.073727  0.315860  0.494952  ...  0.051177 -0.352919  1.165803   \n",
       "996 -1.694322 -0.619197 -1.656501  ...  0.039316  1.581424 -0.031658   \n",
       "997  2.168013 -0.669260  0.289482  ...  0.145285  1.673797  0.640994   \n",
       "998 -0.700673  0.101443 -0.623119  ...  1.501711 -1.109268  1.454441   \n",
       "999 -0.298618  0.991313  0.099296  ...  1.063176 -0.191063 -1.026710   \n",
       "\n",
       "       var_26    var_27    var_28    var_29    var_30    var_31    var_32  \n",
       "0   -0.094772  1.551995  3.308446 -0.391377  1.963829 -1.458605 -0.348652  \n",
       "1    0.333734 -0.373565 -2.091508 -0.715245 -0.688441  0.910927 -0.746899  \n",
       "2    0.385055  1.161414 -1.280253  2.831802 -0.953771 -0.228466  0.766254  \n",
       "3   -0.836068 -0.226315  1.260893 -0.781630 -0.219995  0.871289  0.017578  \n",
       "4    0.182131  0.890247  0.024791  1.489955  1.276357 -0.285144  1.066486  \n",
       "..        ...       ...       ...       ...       ...       ...       ...  \n",
       "995  1.022760 -0.430430 -1.752405  1.268725  0.835590 -0.640479  0.896333  \n",
       "996  1.527934  0.515152 -1.323778  0.122720  1.677778 -1.499085  1.061794  \n",
       "997  0.628243  0.202849  0.373191  0.677001  1.200631 -0.681883 -1.426339  \n",
       "998 -2.391655  0.652381  0.478351 -0.191029 -1.120244  1.964952  0.372213  \n",
       "999  0.945256  2.150945  0.459874  0.589407  1.764326 -0.121256  1.208216  \n",
       "\n",
       "[1000 rows x 32 columns]"
      ]
     },
     "execution_count": 35,
     "metadata": {},
     "output_type": "execute_result"
    }
   ],
   "source": [
    "df"
   ]
  },
  {
   "cell_type": "code",
   "execution_count": null,
   "metadata": {},
   "outputs": [
    {
     "data": {
      "text/plain": [
       "var_32    0.024758\n",
       "var_24    0.028243\n",
       "var_14    0.039606\n",
       "var_26    0.057167\n",
       "var_20    0.082657\n",
       "var_6     0.086658\n",
       "var_15    0.090952\n",
       "var_13    0.097608\n",
       "var_5     0.105060\n",
       "var_17    0.108236\n",
       "var_21    0.116214\n",
       "var_12    0.126660\n",
       "var_19    0.135727\n",
       "var_25    0.139099\n",
       "var_7     0.155746\n",
       "var_10    0.159161\n",
       "var_4     0.163446\n",
       "var_31    0.167667\n",
       "var_18    0.170196\n",
       "var_27    0.173340\n",
       "var_9     0.186233\n",
       "var_2     0.193347\n",
       "var_22    0.193929\n",
       "var_3     0.195323\n",
       "var_23    0.199264\n",
       "var_29    0.203869\n",
       "var_8     0.227340\n",
       "var_30    0.243578\n",
       "var_1     0.311209\n",
       "var_16    0.327004\n",
       "var_28    0.392672\n",
       "var_11    1.000000\n",
       "Name: var_11, dtype: float64"
      ]
     },
     "execution_count": 40,
     "metadata": {},
     "output_type": "execute_result"
    }
   ],
   "source": [
    "num_2 = df.corr()\n",
    "num_2['var_11'].abs().sort_values()   # var_28이 제일 큼"
   ]
  },
  {
   "cell_type": "code",
   "execution_count": 41,
   "metadata": {},
   "outputs": [
    {
     "data": {
      "text/plain": [
       "-0.06289356546077182"
      ]
     },
     "execution_count": 41,
     "metadata": {},
     "output_type": "execute_result"
    }
   ],
   "source": [
    "df['var_28'].mean()"
   ]
  },
  {
   "cell_type": "markdown",
   "metadata": {},
   "source": [
    "### 3. var_6 컬럼의 1,3사분위수 각각 IQR의 1.5배 벗어난 이상치의 숫자를 구하라"
   ]
  },
  {
   "cell_type": "code",
   "execution_count": 49,
   "metadata": {},
   "outputs": [
    {
     "data": {
      "text/plain": [
       "8"
      ]
     },
     "execution_count": 49,
     "metadata": {},
     "output_type": "execute_result"
    }
   ],
   "source": [
    "iqr = df['var_6'].quantile(0.75) - df['var_6'].quantile(0.25)\n",
    "lst = list()\n",
    "for i in range(len(df)):\n",
    "    if (df.var_6[i] < (df['var_6'].quantile(0.25) - iqr * 1.5)) | (df.var_6[i] > (df['var_6'].quantile(0.75) + iqr * 1.5)):\n",
    "        lst.append(i)\n",
    "\n",
    "len(lst)"
   ]
  },
  {
   "cell_type": "code",
   "execution_count": 47,
   "metadata": {},
   "outputs": [
    {
     "data": {
      "text/plain": [
       "-1.4614984092198338"
      ]
     },
     "execution_count": 47,
     "metadata": {},
     "output_type": "execute_result"
    }
   ],
   "source": [
    "df.var_6[0]"
   ]
  },
  {
   "cell_type": "markdown",
   "metadata": {},
   "source": [
    "## 2유형"
   ]
  },
  {
   "cell_type": "code",
   "execution_count": 50,
   "metadata": {},
   "outputs": [
    {
     "data": {
      "text/html": [
       "<div>\n",
       "<style scoped>\n",
       "    .dataframe tbody tr th:only-of-type {\n",
       "        vertical-align: middle;\n",
       "    }\n",
       "\n",
       "    .dataframe tbody tr th {\n",
       "        vertical-align: top;\n",
       "    }\n",
       "\n",
       "    .dataframe thead th {\n",
       "        text-align: right;\n",
       "    }\n",
       "</style>\n",
       "<table border=\"1\" class=\"dataframe\">\n",
       "  <thead>\n",
       "    <tr style=\"text-align: right;\">\n",
       "      <th></th>\n",
       "      <th>ID</th>\n",
       "      <th>연월</th>\n",
       "      <th>업종명</th>\n",
       "      <th>이용자구분</th>\n",
       "      <th>성별</th>\n",
       "      <th>이용자수</th>\n",
       "      <th>이용건수</th>\n",
       "      <th>이용금액</th>\n",
       "    </tr>\n",
       "  </thead>\n",
       "  <tbody>\n",
       "    <tr>\n",
       "      <th>0</th>\n",
       "      <td>ID_5020</td>\n",
       "      <td>202201</td>\n",
       "      <td>여관업</td>\n",
       "      <td>법인</td>\n",
       "      <td>알수없음</td>\n",
       "      <td>7693</td>\n",
       "      <td>12105</td>\n",
       "      <td>3049021809</td>\n",
       "    </tr>\n",
       "    <tr>\n",
       "      <th>1</th>\n",
       "      <td>ID_5021</td>\n",
       "      <td>202201</td>\n",
       "      <td>여관업</td>\n",
       "      <td>제주도민</td>\n",
       "      <td>남성</td>\n",
       "      <td>3990</td>\n",
       "      <td>4291</td>\n",
       "      <td>294163241</td>\n",
       "    </tr>\n",
       "  </tbody>\n",
       "</table>\n",
       "</div>"
      ],
      "text/plain": [
       "        ID      연월  업종명 이용자구분    성별  이용자수   이용건수        이용금액\n",
       "0  ID_5020  202201  여관업    법인  알수없음  7693  12105  3049021809\n",
       "1  ID_5021  202201  여관업  제주도민    남성  3990   4291   294163241"
      ]
     },
     "metadata": {},
     "output_type": "display_data"
    },
    {
     "data": {
      "text/html": [
       "<div>\n",
       "<style scoped>\n",
       "    .dataframe tbody tr th:only-of-type {\n",
       "        vertical-align: middle;\n",
       "    }\n",
       "\n",
       "    .dataframe tbody tr th {\n",
       "        vertical-align: top;\n",
       "    }\n",
       "\n",
       "    .dataframe thead th {\n",
       "        text-align: right;\n",
       "    }\n",
       "</style>\n",
       "<table border=\"1\" class=\"dataframe\">\n",
       "  <thead>\n",
       "    <tr style=\"text-align: right;\">\n",
       "      <th></th>\n",
       "      <th>ID</th>\n",
       "      <th>연월</th>\n",
       "      <th>업종명</th>\n",
       "      <th>이용자구분</th>\n",
       "      <th>성별</th>\n",
       "      <th>이용자수</th>\n",
       "      <th>이용건수</th>\n",
       "    </tr>\n",
       "  </thead>\n",
       "  <tbody>\n",
       "    <tr>\n",
       "      <th>0</th>\n",
       "      <td>ID_2575</td>\n",
       "      <td>201911</td>\n",
       "      <td>한식 음식점업</td>\n",
       "      <td>제주도민</td>\n",
       "      <td>여성</td>\n",
       "      <td>153363</td>\n",
       "      <td>163462</td>\n",
       "    </tr>\n",
       "    <tr>\n",
       "      <th>1</th>\n",
       "      <td>ID_6637</td>\n",
       "      <td>202305</td>\n",
       "      <td>건강보조식품 소매업</td>\n",
       "      <td>법인</td>\n",
       "      <td>알수없음</td>\n",
       "      <td>136</td>\n",
       "      <td>144</td>\n",
       "    </tr>\n",
       "  </tbody>\n",
       "</table>\n",
       "</div>"
      ],
      "text/plain": [
       "        ID      연월         업종명 이용자구분    성별    이용자수    이용건수\n",
       "0  ID_2575  201911     한식 음식점업  제주도민    여성  153363  163462\n",
       "1  ID_6637  202305  건강보조식품 소매업    법인  알수없음     136     144"
      ]
     },
     "execution_count": 50,
     "metadata": {},
     "output_type": "execute_result"
    }
   ],
   "source": [
    "import pandas as pd\n",
    "\n",
    "train = pd.read_csv('https://raw.githubusercontent.com/Datamanim/datarepo/main/krdatacertificate/e7_p2_train2.csv')\n",
    "test = pd.read_csv('https://raw.githubusercontent.com/Datamanim/datarepo/main/krdatacertificate/e7_p2_test2.csv')\n",
    "\n",
    "display(train.head(2))\n",
    "test.head(2)"
   ]
  },
  {
   "cell_type": "markdown",
   "metadata": {},
   "source": [
    "종속변수: 이용금액, 평가지표: rmse"
   ]
  },
  {
   "cell_type": "code",
   "execution_count": 58,
   "metadata": {},
   "outputs": [],
   "source": [
    "X_train = train[[ '업종명', '이용자구분', '성별', '이용자수', '이용건수']]\n",
    "X_test = test.drop(['ID', '연월'], axis=1)\n",
    "\n",
    "y_train = train['이용금액']"
   ]
  },
  {
   "cell_type": "code",
   "execution_count": 59,
   "metadata": {},
   "outputs": [
    {
     "name": "stdout",
     "output_type": "stream",
     "text": [
      "업종명        15\n",
      "이용자구분       7\n",
      "성별          3\n",
      "이용자수     1839\n",
      "이용건수     1856\n",
      "dtype: int64\n",
      "업종명        15\n",
      "이용자구분       7\n",
      "성별          3\n",
      "이용자수     2823\n",
      "이용건수     2849\n",
      "dtype: int64\n"
     ]
    }
   ],
   "source": [
    "print(X_train.nunique())\n",
    "print(X_test.nunique())"
   ]
  },
  {
   "cell_type": "code",
   "execution_count": 53,
   "metadata": {},
   "outputs": [
    {
     "data": {
      "text/plain": [
       "ID       0\n",
       "연월       0\n",
       "업종명      0\n",
       "이용자구분    0\n",
       "성별       0\n",
       "이용자수     0\n",
       "이용건수     0\n",
       "dtype: int64"
      ]
     },
     "execution_count": 53,
     "metadata": {},
     "output_type": "execute_result"
    }
   ],
   "source": [
    "X_train.isnull().sum()"
   ]
  },
  {
   "cell_type": "code",
   "execution_count": 63,
   "metadata": {},
   "outputs": [],
   "source": [
    "from sklearn.model_selection import train_test_split\n",
    "\n",
    "X_train_dum = pd.get_dummies(X_train)\n",
    "X_test_dum = pd.get_dummies(X_test)\n",
    "\n",
    "X_train, X_val, y_train, y_val = train_test_split(X_train_dum, y_train, test_size = 0.3)\n"
   ]
  },
  {
   "cell_type": "code",
   "execution_count": 65,
   "metadata": {},
   "outputs": [],
   "source": [
    "from sklearn.ensemble import RandomForestRegressor\n",
    "\n",
    "rf = RandomForestRegressor()\n",
    "rf.fit(X_train, y_train)\n",
    "\n",
    "y_val_predict = rf.predict(X_val)"
   ]
  },
  {
   "cell_type": "code",
   "execution_count": 69,
   "metadata": {},
   "outputs": [
    {
     "name": "stdout",
     "output_type": "stream",
     "text": [
      "test rmse: 154305538.21133155\n"
     ]
    }
   ],
   "source": [
    "from sklearn.metrics import mean_squared_error\n",
    "import numpy as np\n",
    "\n",
    "print('test rmse:', np.sqrt(mean_squared_error(y_val, y_val_predict)) )"
   ]
  },
  {
   "cell_type": "code",
   "execution_count": 73,
   "metadata": {},
   "outputs": [
    {
     "data": {
      "text/html": [
       "<div>\n",
       "<style scoped>\n",
       "    .dataframe tbody tr th:only-of-type {\n",
       "        vertical-align: middle;\n",
       "    }\n",
       "\n",
       "    .dataframe tbody tr th {\n",
       "        vertical-align: top;\n",
       "    }\n",
       "\n",
       "    .dataframe thead th {\n",
       "        text-align: right;\n",
       "    }\n",
       "</style>\n",
       "<table border=\"1\" class=\"dataframe\">\n",
       "  <thead>\n",
       "    <tr style=\"text-align: right;\">\n",
       "      <th></th>\n",
       "      <th>ID</th>\n",
       "      <th>price</th>\n",
       "    </tr>\n",
       "  </thead>\n",
       "  <tbody>\n",
       "    <tr>\n",
       "      <th>0</th>\n",
       "      <td>ID_2575</td>\n",
       "      <td>6.306101e+09</td>\n",
       "    </tr>\n",
       "    <tr>\n",
       "      <th>1</th>\n",
       "      <td>ID_6637</td>\n",
       "      <td>3.970911e+07</td>\n",
       "    </tr>\n",
       "    <tr>\n",
       "      <th>2</th>\n",
       "      <td>ID_5704</td>\n",
       "      <td>2.904501e+06</td>\n",
       "    </tr>\n",
       "    <tr>\n",
       "      <th>3</th>\n",
       "      <td>ID_3606</td>\n",
       "      <td>2.015782e+06</td>\n",
       "    </tr>\n",
       "    <tr>\n",
       "      <th>4</th>\n",
       "      <td>ID_6443</td>\n",
       "      <td>5.392371e+05</td>\n",
       "    </tr>\n",
       "  </tbody>\n",
       "</table>\n",
       "</div>"
      ],
      "text/plain": [
       "        ID         price\n",
       "0  ID_2575  6.306101e+09\n",
       "1  ID_6637  3.970911e+07\n",
       "2  ID_5704  2.904501e+06\n",
       "3  ID_3606  2.015782e+06\n",
       "4  ID_6443  5.392371e+05"
      ]
     },
     "execution_count": 73,
     "metadata": {},
     "output_type": "execute_result"
    }
   ],
   "source": [
    "# submission\n",
    "\n",
    "submission = pd.DataFrame()\n",
    "submission['ID'] = test['ID']\n",
    "submission['price'] = rf.predict(X_test_dum)\n",
    "submission.head()"
   ]
  },
  {
   "cell_type": "markdown",
   "metadata": {},
   "source": [
    "## 3유형"
   ]
  },
  {
   "cell_type": "code",
   "execution_count": 231,
   "metadata": {},
   "outputs": [
    {
     "data": {
      "text/html": [
       "<div>\n",
       "<style scoped>\n",
       "    .dataframe tbody tr th:only-of-type {\n",
       "        vertical-align: middle;\n",
       "    }\n",
       "\n",
       "    .dataframe tbody tr th {\n",
       "        vertical-align: top;\n",
       "    }\n",
       "\n",
       "    .dataframe thead th {\n",
       "        text-align: right;\n",
       "    }\n",
       "</style>\n",
       "<table border=\"1\" class=\"dataframe\">\n",
       "  <thead>\n",
       "    <tr style=\"text-align: right;\">\n",
       "      <th></th>\n",
       "      <th>Target</th>\n",
       "      <th>v1</th>\n",
       "      <th>v2</th>\n",
       "      <th>v3</th>\n",
       "      <th>v4</th>\n",
       "      <th>v5</th>\n",
       "      <th>v6</th>\n",
       "      <th>v7</th>\n",
       "      <th>v8</th>\n",
       "      <th>v9</th>\n",
       "      <th>...</th>\n",
       "      <th>v12</th>\n",
       "      <th>v13</th>\n",
       "      <th>v14</th>\n",
       "      <th>v15</th>\n",
       "      <th>v16</th>\n",
       "      <th>v17</th>\n",
       "      <th>v18</th>\n",
       "      <th>v19</th>\n",
       "      <th>v20</th>\n",
       "      <th>v21</th>\n",
       "    </tr>\n",
       "  </thead>\n",
       "  <tbody>\n",
       "    <tr>\n",
       "      <th>0</th>\n",
       "      <td>21.650072</td>\n",
       "      <td>0.496714</td>\n",
       "      <td>-0.138264</td>\n",
       "      <td>0.647689</td>\n",
       "      <td>1.523030</td>\n",
       "      <td>-0.234153</td>\n",
       "      <td>-0.234137</td>\n",
       "      <td>1.579213</td>\n",
       "      <td>0.767435</td>\n",
       "      <td>-0.469474</td>\n",
       "      <td>...</td>\n",
       "      <td>-0.465730</td>\n",
       "      <td>0.241962</td>\n",
       "      <td>-1.913280</td>\n",
       "      <td>-1.724918</td>\n",
       "      <td>-0.562288</td>\n",
       "      <td>-1.012831</td>\n",
       "      <td>0.314247</td>\n",
       "      <td>-0.908024</td>\n",
       "      <td>-1.412304</td>\n",
       "      <td>1.465649</td>\n",
       "    </tr>\n",
       "    <tr>\n",
       "      <th>1</th>\n",
       "      <td>-19.469855</td>\n",
       "      <td>-0.225776</td>\n",
       "      <td>0.067528</td>\n",
       "      <td>-1.424748</td>\n",
       "      <td>-0.544383</td>\n",
       "      <td>0.110923</td>\n",
       "      <td>-1.150994</td>\n",
       "      <td>0.375698</td>\n",
       "      <td>-0.600639</td>\n",
       "      <td>-0.291694</td>\n",
       "      <td>...</td>\n",
       "      <td>-0.013497</td>\n",
       "      <td>-1.057711</td>\n",
       "      <td>0.822545</td>\n",
       "      <td>-1.220844</td>\n",
       "      <td>0.208864</td>\n",
       "      <td>-1.959670</td>\n",
       "      <td>-1.328186</td>\n",
       "      <td>0.196861</td>\n",
       "      <td>0.738467</td>\n",
       "      <td>0.171368</td>\n",
       "    </tr>\n",
       "    <tr>\n",
       "      <th>2</th>\n",
       "      <td>-24.475600</td>\n",
       "      <td>-0.115648</td>\n",
       "      <td>-0.301104</td>\n",
       "      <td>-1.478522</td>\n",
       "      <td>-0.719844</td>\n",
       "      <td>-0.460639</td>\n",
       "      <td>1.057122</td>\n",
       "      <td>0.343618</td>\n",
       "      <td>-1.763040</td>\n",
       "      <td>0.324084</td>\n",
       "      <td>...</td>\n",
       "      <td>0.611676</td>\n",
       "      <td>1.031000</td>\n",
       "      <td>0.931280</td>\n",
       "      <td>-0.839218</td>\n",
       "      <td>-0.309212</td>\n",
       "      <td>0.331263</td>\n",
       "      <td>0.975545</td>\n",
       "      <td>-0.479174</td>\n",
       "      <td>-0.185659</td>\n",
       "      <td>-1.106335</td>\n",
       "    </tr>\n",
       "    <tr>\n",
       "      <th>3</th>\n",
       "      <td>13.476831</td>\n",
       "      <td>-1.196207</td>\n",
       "      <td>0.812526</td>\n",
       "      <td>1.356240</td>\n",
       "      <td>-0.072010</td>\n",
       "      <td>1.003533</td>\n",
       "      <td>0.361636</td>\n",
       "      <td>-0.645120</td>\n",
       "      <td>0.361396</td>\n",
       "      <td>1.538037</td>\n",
       "      <td>...</td>\n",
       "      <td>-2.619745</td>\n",
       "      <td>0.821903</td>\n",
       "      <td>0.087047</td>\n",
       "      <td>-0.299007</td>\n",
       "      <td>0.091761</td>\n",
       "      <td>-1.987569</td>\n",
       "      <td>-0.219672</td>\n",
       "      <td>0.357113</td>\n",
       "      <td>1.477894</td>\n",
       "      <td>-0.518270</td>\n",
       "    </tr>\n",
       "    <tr>\n",
       "      <th>4</th>\n",
       "      <td>3.505322</td>\n",
       "      <td>-0.808494</td>\n",
       "      <td>-0.501757</td>\n",
       "      <td>0.915402</td>\n",
       "      <td>0.328751</td>\n",
       "      <td>-0.529760</td>\n",
       "      <td>0.513267</td>\n",
       "      <td>0.097078</td>\n",
       "      <td>0.968645</td>\n",
       "      <td>-0.702053</td>\n",
       "      <td>...</td>\n",
       "      <td>-1.463515</td>\n",
       "      <td>0.296120</td>\n",
       "      <td>0.261055</td>\n",
       "      <td>0.005113</td>\n",
       "      <td>-0.234587</td>\n",
       "      <td>-1.415371</td>\n",
       "      <td>-0.420645</td>\n",
       "      <td>-0.342715</td>\n",
       "      <td>-0.802277</td>\n",
       "      <td>-0.161286</td>\n",
       "    </tr>\n",
       "  </tbody>\n",
       "</table>\n",
       "<p>5 rows × 22 columns</p>\n",
       "</div>"
      ],
      "text/plain": [
       "      Target        v1        v2        v3        v4        v5        v6  \\\n",
       "0  21.650072  0.496714 -0.138264  0.647689  1.523030 -0.234153 -0.234137   \n",
       "1 -19.469855 -0.225776  0.067528 -1.424748 -0.544383  0.110923 -1.150994   \n",
       "2 -24.475600 -0.115648 -0.301104 -1.478522 -0.719844 -0.460639  1.057122   \n",
       "3  13.476831 -1.196207  0.812526  1.356240 -0.072010  1.003533  0.361636   \n",
       "4   3.505322 -0.808494 -0.501757  0.915402  0.328751 -0.529760  0.513267   \n",
       "\n",
       "         v7        v8        v9  ...       v12       v13       v14       v15  \\\n",
       "0  1.579213  0.767435 -0.469474  ... -0.465730  0.241962 -1.913280 -1.724918   \n",
       "1  0.375698 -0.600639 -0.291694  ... -0.013497 -1.057711  0.822545 -1.220844   \n",
       "2  0.343618 -1.763040  0.324084  ...  0.611676  1.031000  0.931280 -0.839218   \n",
       "3 -0.645120  0.361396  1.538037  ... -2.619745  0.821903  0.087047 -0.299007   \n",
       "4  0.097078  0.968645 -0.702053  ... -1.463515  0.296120  0.261055  0.005113   \n",
       "\n",
       "        v16       v17       v18       v19       v20       v21  \n",
       "0 -0.562288 -1.012831  0.314247 -0.908024 -1.412304  1.465649  \n",
       "1  0.208864 -1.959670 -1.328186  0.196861  0.738467  0.171368  \n",
       "2 -0.309212  0.331263  0.975545 -0.479174 -0.185659 -1.106335  \n",
       "3  0.091761 -1.987569 -0.219672  0.357113  1.477894 -0.518270  \n",
       "4 -0.234587 -1.415371 -0.420645 -0.342715 -0.802277 -0.161286  \n",
       "\n",
       "[5 rows x 22 columns]"
      ]
     },
     "execution_count": 231,
     "metadata": {},
     "output_type": "execute_result"
    }
   ],
   "source": [
    "import pandas as pd\n",
    "df=pd.read_csv('https://raw.githubusercontent.com/Datamanim/datarepo/main/krdatacertificate/e7_p3_1.csv')\n",
    "df.head()"
   ]
  },
  {
   "cell_type": "markdown",
   "metadata": {},
   "source": [
    "### 1. 선형관계가 가장 큰 변수를 찾아 상관계수를 구하여라."
   ]
  },
  {
   "cell_type": "code",
   "execution_count": 77,
   "metadata": {},
   "outputs": [
    {
     "data": {
      "text/plain": [
       "v13      -0.063199\n",
       "v6       -0.052110\n",
       "v18      -0.049140\n",
       "v8       -0.047399\n",
       "v11      -0.023574\n",
       "v17      -0.021494\n",
       "v10      -0.005766\n",
       "v14      -0.005186\n",
       "v20       0.003682\n",
       "v7        0.006809\n",
       "v19       0.015678\n",
       "v16       0.018492\n",
       "v21       0.019341\n",
       "v12       0.026284\n",
       "v9        0.038795\n",
       "v15       0.051197\n",
       "v5        0.168748\n",
       "v1        0.345906\n",
       "v2        0.394673\n",
       "v4        0.600548\n",
       "v3        0.627025\n",
       "Target    1.000000\n",
       "Name: Target, dtype: float64"
      ]
     },
     "execution_count": 77,
     "metadata": {},
     "output_type": "execute_result"
    }
   ],
   "source": [
    "df.corr()['Target'].sort_values()"
   ]
  },
  {
   "cell_type": "code",
   "execution_count": 78,
   "metadata": {},
   "outputs": [
    {
     "data": {
      "text/plain": [
       "0.6270251925517436"
      ]
     },
     "execution_count": 78,
     "metadata": {},
     "output_type": "execute_result"
    }
   ],
   "source": [
    "df.corr().loc['Target','v3']"
   ]
  },
  {
   "cell_type": "markdown",
   "metadata": {},
   "source": [
    "### 2. Target 변수를 종속변수로 하여 다중선형회귀모델링을 진행했을 때 v2 칼럼의 회귀 계수는?"
   ]
  },
  {
   "cell_type": "code",
   "execution_count": 232,
   "metadata": {},
   "outputs": [
    {
     "name": "stdout",
     "output_type": "stream",
     "text": [
      "6.440301364843062\n"
     ]
    }
   ],
   "source": [
    "import numpy as np\n",
    "import pandas as pd\n",
    "import statsmodels.api as sm\n",
    "\n",
    "X = df.drop('Target', axis=1)\n",
    "X = sm.add_constant(X)\n",
    "\n",
    "y = df['Target']\n",
    "\n",
    "model = sm.OLS(y,X).fit()\n",
    "\n",
    "print(model.params['v2'])"
   ]
  },
  {
   "cell_type": "markdown",
   "metadata": {},
   "source": [
    "### 3. 회귀계수들이 가지는 p값들 중 최댓값은?"
   ]
  },
  {
   "cell_type": "code",
   "execution_count": 86,
   "metadata": {},
   "outputs": [
    {
     "data": {
      "text/plain": [
       "0.9179049883240253"
      ]
     },
     "execution_count": 86,
     "metadata": {},
     "output_type": "execute_result"
    }
   ],
   "source": [
    "model.pvalues.max()"
   ]
  },
  {
   "cell_type": "markdown",
   "metadata": {},
   "source": [
    "### 4. train 데이터로 target을 종속변수로 로지스틱 회귀를 진행할 때 age 컬럼의 오즈비를 구하여라"
   ]
  },
  {
   "cell_type": "code",
   "execution_count": 2,
   "metadata": {},
   "outputs": [
    {
     "data": {
      "text/html": [
       "<div>\n",
       "<style scoped>\n",
       "    .dataframe tbody tr th:only-of-type {\n",
       "        vertical-align: middle;\n",
       "    }\n",
       "\n",
       "    .dataframe tbody tr th {\n",
       "        vertical-align: top;\n",
       "    }\n",
       "\n",
       "    .dataframe thead th {\n",
       "        text-align: right;\n",
       "    }\n",
       "</style>\n",
       "<table border=\"1\" class=\"dataframe\">\n",
       "  <thead>\n",
       "    <tr style=\"text-align: right;\">\n",
       "      <th></th>\n",
       "      <th>age</th>\n",
       "      <th>sex</th>\n",
       "      <th>cp</th>\n",
       "      <th>trestbps</th>\n",
       "      <th>chol</th>\n",
       "      <th>fbs</th>\n",
       "      <th>restecg</th>\n",
       "      <th>thalach</th>\n",
       "      <th>exang</th>\n",
       "      <th>oldpeak</th>\n",
       "      <th>slope</th>\n",
       "      <th>ca</th>\n",
       "      <th>thal</th>\n",
       "      <th>target</th>\n",
       "    </tr>\n",
       "  </thead>\n",
       "  <tbody>\n",
       "    <tr>\n",
       "      <th>0</th>\n",
       "      <td>63.0</td>\n",
       "      <td>1.0</td>\n",
       "      <td>1.0</td>\n",
       "      <td>145.0</td>\n",
       "      <td>233.0</td>\n",
       "      <td>1.0</td>\n",
       "      <td>2.0</td>\n",
       "      <td>150.0</td>\n",
       "      <td>0.0</td>\n",
       "      <td>2.3</td>\n",
       "      <td>3.0</td>\n",
       "      <td>0.0</td>\n",
       "      <td>6.0</td>\n",
       "      <td>0</td>\n",
       "    </tr>\n",
       "    <tr>\n",
       "      <th>1</th>\n",
       "      <td>67.0</td>\n",
       "      <td>1.0</td>\n",
       "      <td>4.0</td>\n",
       "      <td>160.0</td>\n",
       "      <td>286.0</td>\n",
       "      <td>0.0</td>\n",
       "      <td>2.0</td>\n",
       "      <td>108.0</td>\n",
       "      <td>1.0</td>\n",
       "      <td>1.5</td>\n",
       "      <td>2.0</td>\n",
       "      <td>3.0</td>\n",
       "      <td>3.0</td>\n",
       "      <td>1</td>\n",
       "    </tr>\n",
       "    <tr>\n",
       "      <th>2</th>\n",
       "      <td>67.0</td>\n",
       "      <td>1.0</td>\n",
       "      <td>4.0</td>\n",
       "      <td>120.0</td>\n",
       "      <td>229.0</td>\n",
       "      <td>0.0</td>\n",
       "      <td>2.0</td>\n",
       "      <td>129.0</td>\n",
       "      <td>1.0</td>\n",
       "      <td>2.6</td>\n",
       "      <td>2.0</td>\n",
       "      <td>2.0</td>\n",
       "      <td>7.0</td>\n",
       "      <td>1</td>\n",
       "    </tr>\n",
       "    <tr>\n",
       "      <th>3</th>\n",
       "      <td>37.0</td>\n",
       "      <td>1.0</td>\n",
       "      <td>3.0</td>\n",
       "      <td>130.0</td>\n",
       "      <td>250.0</td>\n",
       "      <td>0.0</td>\n",
       "      <td>0.0</td>\n",
       "      <td>187.0</td>\n",
       "      <td>0.0</td>\n",
       "      <td>3.5</td>\n",
       "      <td>3.0</td>\n",
       "      <td>0.0</td>\n",
       "      <td>3.0</td>\n",
       "      <td>0</td>\n",
       "    </tr>\n",
       "    <tr>\n",
       "      <th>4</th>\n",
       "      <td>41.0</td>\n",
       "      <td>0.0</td>\n",
       "      <td>2.0</td>\n",
       "      <td>130.0</td>\n",
       "      <td>204.0</td>\n",
       "      <td>0.0</td>\n",
       "      <td>2.0</td>\n",
       "      <td>172.0</td>\n",
       "      <td>0.0</td>\n",
       "      <td>1.4</td>\n",
       "      <td>1.0</td>\n",
       "      <td>0.0</td>\n",
       "      <td>3.0</td>\n",
       "      <td>0</td>\n",
       "    </tr>\n",
       "  </tbody>\n",
       "</table>\n",
       "</div>"
      ],
      "text/plain": [
       "    age  sex   cp  trestbps   chol  fbs  restecg  thalach  exang  oldpeak  \\\n",
       "0  63.0  1.0  1.0     145.0  233.0  1.0      2.0    150.0    0.0      2.3   \n",
       "1  67.0  1.0  4.0     160.0  286.0  0.0      2.0    108.0    1.0      1.5   \n",
       "2  67.0  1.0  4.0     120.0  229.0  0.0      2.0    129.0    1.0      2.6   \n",
       "3  37.0  1.0  3.0     130.0  250.0  0.0      0.0    187.0    0.0      3.5   \n",
       "4  41.0  0.0  2.0     130.0  204.0  0.0      2.0    172.0    0.0      1.4   \n",
       "\n",
       "   slope   ca  thal  target  \n",
       "0    3.0  0.0   6.0       0  \n",
       "1    2.0  3.0   3.0       1  \n",
       "2    2.0  2.0   7.0       1  \n",
       "3    3.0  0.0   3.0       0  \n",
       "4    1.0  0.0   3.0       0  "
      ]
     },
     "execution_count": 2,
     "metadata": {},
     "output_type": "execute_result"
    }
   ],
   "source": [
    "import pandas as pd \n",
    "df= pd.read_csv('https://raw.githubusercontent.com/Datamanim/datarepo/main/krdatacertificate/e7_p3_t.csv')\n",
    "df.head()"
   ]
  },
  {
   "cell_type": "code",
   "execution_count": 3,
   "metadata": {},
   "outputs": [
    {
     "data": {
      "text/plain": [
       "(297, 14)"
      ]
     },
     "execution_count": 3,
     "metadata": {},
     "output_type": "execute_result"
    }
   ],
   "source": [
    "df.shape"
   ]
  },
  {
   "cell_type": "code",
   "execution_count": null,
   "metadata": {},
   "outputs": [
    {
     "name": "stdout",
     "output_type": "stream",
     "text": [
      "Optimization terminated successfully.\n",
      "         Current function value: 0.367479\n",
      "         Iterations 7\n"
     ]
    },
    {
     "data": {
      "text/plain": [
       "0.971916052047073"
      ]
     },
     "execution_count": 5,
     "metadata": {},
     "output_type": "execute_result"
    }
   ],
   "source": [
    "import statsmodels.api as sm\n",
    "from sklearn.model_selection import train_test_split\n",
    "import numpy as np\n",
    "\n",
    "X = df.drop('target', axis=1)\n",
    "y = df['target']\n",
    "\n",
    "X_train, X_test, y_train, y_test = train_test_split(X,y, test_size=0.3)\n",
    "\n",
    "model = sm.Logit(y_train,X_train).fit()\n",
    "\n",
    "# 오즈비\n",
    "np.exp(model.params['age'])"
   ]
  },
  {
   "cell_type": "markdown",
   "metadata": {},
   "source": [
    "### 5. train으로 로지스틱 회귀 진행했을 경우 잔차 이탈도(residual deviance)를 계산하라."
   ]
  },
  {
   "cell_type": "code",
   "execution_count": 9,
   "metadata": {},
   "outputs": [
    {
     "data": {
      "text/plain": [
       "211.60310196493361"
      ]
     },
     "execution_count": 9,
     "metadata": {},
     "output_type": "execute_result"
    }
   ],
   "source": [
    "model2 = sm.GLM(y,X, family = sm.families.Binomial()).fit()\n",
    "\n",
    "model2.deviance"
   ]
  },
  {
   "cell_type": "code",
   "execution_count": 10,
   "metadata": {},
   "outputs": [
    {
     "data": {
      "text/html": [
       "<table class=\"simpletable\">\n",
       "<caption>Logit Regression Results</caption>\n",
       "<tr>\n",
       "  <th>Dep. Variable:</th>        <td>target</td>      <th>  No. Observations:  </th>  <td>   207</td>  \n",
       "</tr>\n",
       "<tr>\n",
       "  <th>Model:</th>                 <td>Logit</td>      <th>  Df Residuals:      </th>  <td>   194</td>  \n",
       "</tr>\n",
       "<tr>\n",
       "  <th>Method:</th>                 <td>MLE</td>       <th>  Df Model:          </th>  <td>    12</td>  \n",
       "</tr>\n",
       "<tr>\n",
       "  <th>Date:</th>            <td>Mon, 25 Nov 2024</td> <th>  Pseudo R-squ.:     </th>  <td>0.4696</td>  \n",
       "</tr>\n",
       "<tr>\n",
       "  <th>Time:</th>                <td>18:50:34</td>     <th>  Log-Likelihood:    </th> <td> -76.068</td> \n",
       "</tr>\n",
       "<tr>\n",
       "  <th>converged:</th>             <td>True</td>       <th>  LL-Null:           </th> <td> -143.42</td> \n",
       "</tr>\n",
       "<tr>\n",
       "  <th>Covariance Type:</th>     <td>nonrobust</td>    <th>  LLR p-value:       </th> <td>6.991e-23</td>\n",
       "</tr>\n",
       "</table>\n",
       "<table class=\"simpletable\">\n",
       "<tr>\n",
       "      <td></td>        <th>coef</th>     <th>std err</th>      <th>z</th>      <th>P>|z|</th>  <th>[0.025</th>    <th>0.975]</th>  \n",
       "</tr>\n",
       "<tr>\n",
       "  <th>age</th>      <td>   -0.0285</td> <td>    0.024</td> <td>   -1.195</td> <td> 0.232</td> <td>   -0.075</td> <td>    0.018</td>\n",
       "</tr>\n",
       "<tr>\n",
       "  <th>sex</th>      <td>    0.9303</td> <td>    0.530</td> <td>    1.756</td> <td> 0.079</td> <td>   -0.108</td> <td>    1.968</td>\n",
       "</tr>\n",
       "<tr>\n",
       "  <th>cp</th>       <td>    0.3729</td> <td>    0.202</td> <td>    1.846</td> <td> 0.065</td> <td>   -0.023</td> <td>    0.769</td>\n",
       "</tr>\n",
       "<tr>\n",
       "  <th>trestbps</th> <td>    0.0132</td> <td>    0.012</td> <td>    1.142</td> <td> 0.254</td> <td>   -0.009</td> <td>    0.036</td>\n",
       "</tr>\n",
       "<tr>\n",
       "  <th>chol</th>     <td>    0.0019</td> <td>    0.004</td> <td>    0.461</td> <td> 0.645</td> <td>   -0.006</td> <td>    0.010</td>\n",
       "</tr>\n",
       "<tr>\n",
       "  <th>fbs</th>      <td>   -1.2249</td> <td>    0.606</td> <td>   -2.021</td> <td> 0.043</td> <td>   -2.413</td> <td>   -0.037</td>\n",
       "</tr>\n",
       "<tr>\n",
       "  <th>restecg</th>  <td>    0.2615</td> <td>    0.223</td> <td>    1.171</td> <td> 0.241</td> <td>   -0.176</td> <td>    0.699</td>\n",
       "</tr>\n",
       "<tr>\n",
       "  <th>thalach</th>  <td>   -0.0375</td> <td>    0.010</td> <td>   -3.918</td> <td> 0.000</td> <td>   -0.056</td> <td>   -0.019</td>\n",
       "</tr>\n",
       "<tr>\n",
       "  <th>exang</th>    <td>    0.9352</td> <td>    0.502</td> <td>    1.864</td> <td> 0.062</td> <td>   -0.048</td> <td>    1.919</td>\n",
       "</tr>\n",
       "<tr>\n",
       "  <th>oldpeak</th>  <td>    0.1511</td> <td>    0.250</td> <td>    0.604</td> <td> 0.546</td> <td>   -0.339</td> <td>    0.642</td>\n",
       "</tr>\n",
       "<tr>\n",
       "  <th>slope</th>    <td>    0.3080</td> <td>    0.410</td> <td>    0.751</td> <td> 0.453</td> <td>   -0.496</td> <td>    1.112</td>\n",
       "</tr>\n",
       "<tr>\n",
       "  <th>ca</th>       <td>    1.4838</td> <td>    0.308</td> <td>    4.814</td> <td> 0.000</td> <td>    0.880</td> <td>    2.088</td>\n",
       "</tr>\n",
       "<tr>\n",
       "  <th>thal</th>     <td>    0.2696</td> <td>    0.123</td> <td>    2.193</td> <td> 0.028</td> <td>    0.029</td> <td>    0.510</td>\n",
       "</tr>\n",
       "</table>"
      ],
      "text/latex": [
       "\\begin{center}\n",
       "\\begin{tabular}{lclc}\n",
       "\\toprule\n",
       "\\textbf{Dep. Variable:}   &      target      & \\textbf{  No. Observations:  } &      207    \\\\\n",
       "\\textbf{Model:}           &      Logit       & \\textbf{  Df Residuals:      } &      194    \\\\\n",
       "\\textbf{Method:}          &       MLE        & \\textbf{  Df Model:          } &       12    \\\\\n",
       "\\textbf{Date:}            & Mon, 25 Nov 2024 & \\textbf{  Pseudo R-squ.:     } &   0.4696    \\\\\n",
       "\\textbf{Time:}            &     18:50:34     & \\textbf{  Log-Likelihood:    } &   -76.068   \\\\\n",
       "\\textbf{converged:}       &       True       & \\textbf{  LL-Null:           } &   -143.42   \\\\\n",
       "\\textbf{Covariance Type:} &    nonrobust     & \\textbf{  LLR p-value:       } & 6.991e-23   \\\\\n",
       "\\bottomrule\n",
       "\\end{tabular}\n",
       "\\begin{tabular}{lcccccc}\n",
       "                  & \\textbf{coef} & \\textbf{std err} & \\textbf{z} & \\textbf{P$> |$z$|$} & \\textbf{[0.025} & \\textbf{0.975]}  \\\\\n",
       "\\midrule\n",
       "\\textbf{age}      &      -0.0285  &        0.024     &    -1.195  &         0.232        &       -0.075    &        0.018     \\\\\n",
       "\\textbf{sex}      &       0.9303  &        0.530     &     1.756  &         0.079        &       -0.108    &        1.968     \\\\\n",
       "\\textbf{cp}       &       0.3729  &        0.202     &     1.846  &         0.065        &       -0.023    &        0.769     \\\\\n",
       "\\textbf{trestbps} &       0.0132  &        0.012     &     1.142  &         0.254        &       -0.009    &        0.036     \\\\\n",
       "\\textbf{chol}     &       0.0019  &        0.004     &     0.461  &         0.645        &       -0.006    &        0.010     \\\\\n",
       "\\textbf{fbs}      &      -1.2249  &        0.606     &    -2.021  &         0.043        &       -2.413    &       -0.037     \\\\\n",
       "\\textbf{restecg}  &       0.2615  &        0.223     &     1.171  &         0.241        &       -0.176    &        0.699     \\\\\n",
       "\\textbf{thalach}  &      -0.0375  &        0.010     &    -3.918  &         0.000        &       -0.056    &       -0.019     \\\\\n",
       "\\textbf{exang}    &       0.9352  &        0.502     &     1.864  &         0.062        &       -0.048    &        1.919     \\\\\n",
       "\\textbf{oldpeak}  &       0.1511  &        0.250     &     0.604  &         0.546        &       -0.339    &        0.642     \\\\\n",
       "\\textbf{slope}    &       0.3080  &        0.410     &     0.751  &         0.453        &       -0.496    &        1.112     \\\\\n",
       "\\textbf{ca}       &       1.4838  &        0.308     &     4.814  &         0.000        &        0.880    &        2.088     \\\\\n",
       "\\textbf{thal}     &       0.2696  &        0.123     &     2.193  &         0.028        &        0.029    &        0.510     \\\\\n",
       "\\bottomrule\n",
       "\\end{tabular}\n",
       "%\\caption{Logit Regression Results}\n",
       "\\end{center}"
      ],
      "text/plain": [
       "<class 'statsmodels.iolib.summary.Summary'>\n",
       "\"\"\"\n",
       "                           Logit Regression Results                           \n",
       "==============================================================================\n",
       "Dep. Variable:                 target   No. Observations:                  207\n",
       "Model:                          Logit   Df Residuals:                      194\n",
       "Method:                           MLE   Df Model:                           12\n",
       "Date:                Mon, 25 Nov 2024   Pseudo R-squ.:                  0.4696\n",
       "Time:                        18:50:34   Log-Likelihood:                -76.068\n",
       "converged:                       True   LL-Null:                       -143.42\n",
       "Covariance Type:            nonrobust   LLR p-value:                 6.991e-23\n",
       "==============================================================================\n",
       "                 coef    std err          z      P>|z|      [0.025      0.975]\n",
       "------------------------------------------------------------------------------\n",
       "age           -0.0285      0.024     -1.195      0.232      -0.075       0.018\n",
       "sex            0.9303      0.530      1.756      0.079      -0.108       1.968\n",
       "cp             0.3729      0.202      1.846      0.065      -0.023       0.769\n",
       "trestbps       0.0132      0.012      1.142      0.254      -0.009       0.036\n",
       "chol           0.0019      0.004      0.461      0.645      -0.006       0.010\n",
       "fbs           -1.2249      0.606     -2.021      0.043      -2.413      -0.037\n",
       "restecg        0.2615      0.223      1.171      0.241      -0.176       0.699\n",
       "thalach       -0.0375      0.010     -3.918      0.000      -0.056      -0.019\n",
       "exang          0.9352      0.502      1.864      0.062      -0.048       1.919\n",
       "oldpeak        0.1511      0.250      0.604      0.546      -0.339       0.642\n",
       "slope          0.3080      0.410      0.751      0.453      -0.496       1.112\n",
       "ca             1.4838      0.308      4.814      0.000       0.880       2.088\n",
       "thal           0.2696      0.123      2.193      0.028       0.029       0.510\n",
       "==============================================================================\n",
       "\"\"\""
      ]
     },
     "execution_count": 10,
     "metadata": {},
     "output_type": "execute_result"
    }
   ],
   "source": [
    "model.summary()"
   ]
  },
  {
   "cell_type": "code",
   "execution_count": 12,
   "metadata": {},
   "outputs": [
    {
     "data": {
      "text/html": [
       "<table class=\"simpletable\">\n",
       "<caption>Generalized Linear Model Regression Results</caption>\n",
       "<tr>\n",
       "  <th>Dep. Variable:</th>        <td>target</td>      <th>  No. Observations:  </th>  <td>   297</td> \n",
       "</tr>\n",
       "<tr>\n",
       "  <th>Model:</th>                  <td>GLM</td>       <th>  Df Residuals:      </th>  <td>   284</td> \n",
       "</tr>\n",
       "<tr>\n",
       "  <th>Model Family:</th>        <td>Binomial</td>     <th>  Df Model:          </th>  <td>    12</td> \n",
       "</tr>\n",
       "<tr>\n",
       "  <th>Link Function:</th>         <td>Logit</td>      <th>  Scale:             </th> <td>  1.0000</td>\n",
       "</tr>\n",
       "<tr>\n",
       "  <th>Method:</th>                <td>IRLS</td>       <th>  Log-Likelihood:    </th> <td> -105.80</td>\n",
       "</tr>\n",
       "<tr>\n",
       "  <th>Date:</th>            <td>Mon, 25 Nov 2024</td> <th>  Deviance:          </th> <td>  211.60</td>\n",
       "</tr>\n",
       "<tr>\n",
       "  <th>Time:</th>                <td>18:51:10</td>     <th>  Pearson chi2:      </th>  <td>  294.</td> \n",
       "</tr>\n",
       "<tr>\n",
       "  <th>No. Iterations:</th>          <td>6</td>        <th>  Pseudo R-squ. (CS):</th>  <td>0.4872</td> \n",
       "</tr>\n",
       "<tr>\n",
       "  <th>Covariance Type:</th>     <td>nonrobust</td>    <th>                     </th>     <td> </td>   \n",
       "</tr>\n",
       "</table>\n",
       "<table class=\"simpletable\">\n",
       "<tr>\n",
       "      <td></td>        <th>coef</th>     <th>std err</th>      <th>z</th>      <th>P>|z|</th>  <th>[0.025</th>    <th>0.975]</th>  \n",
       "</tr>\n",
       "<tr>\n",
       "  <th>age</th>      <td>   -0.0454</td> <td>    0.020</td> <td>   -2.223</td> <td> 0.026</td> <td>   -0.085</td> <td>   -0.005</td>\n",
       "</tr>\n",
       "<tr>\n",
       "  <th>sex</th>      <td>    0.9617</td> <td>    0.451</td> <td>    2.134</td> <td> 0.033</td> <td>    0.078</td> <td>    1.845</td>\n",
       "</tr>\n",
       "<tr>\n",
       "  <th>cp</th>       <td>    0.3951</td> <td>    0.174</td> <td>    2.271</td> <td> 0.023</td> <td>    0.054</td> <td>    0.736</td>\n",
       "</tr>\n",
       "<tr>\n",
       "  <th>trestbps</th> <td>    0.0154</td> <td>    0.010</td> <td>    1.553</td> <td> 0.120</td> <td>   -0.004</td> <td>    0.035</td>\n",
       "</tr>\n",
       "<tr>\n",
       "  <th>chol</th>     <td>    0.0027</td> <td>    0.004</td> <td>    0.729</td> <td> 0.466</td> <td>   -0.005</td> <td>    0.010</td>\n",
       "</tr>\n",
       "<tr>\n",
       "  <th>fbs</th>      <td>   -0.8086</td> <td>    0.532</td> <td>   -1.519</td> <td> 0.129</td> <td>   -1.852</td> <td>    0.234</td>\n",
       "</tr>\n",
       "<tr>\n",
       "  <th>restecg</th>  <td>    0.2708</td> <td>    0.183</td> <td>    1.482</td> <td> 0.138</td> <td>   -0.087</td> <td>    0.629</td>\n",
       "</tr>\n",
       "<tr>\n",
       "  <th>thalach</th>  <td>   -0.0385</td> <td>    0.008</td> <td>   -4.837</td> <td> 0.000</td> <td>   -0.054</td> <td>   -0.023</td>\n",
       "</tr>\n",
       "<tr>\n",
       "  <th>exang</th>    <td>    0.8409</td> <td>    0.407</td> <td>    2.066</td> <td> 0.039</td> <td>    0.043</td> <td>    1.639</td>\n",
       "</tr>\n",
       "<tr>\n",
       "  <th>oldpeak</th>  <td>    0.2657</td> <td>    0.208</td> <td>    1.276</td> <td> 0.202</td> <td>   -0.142</td> <td>    0.674</td>\n",
       "</tr>\n",
       "<tr>\n",
       "  <th>slope</th>    <td>    0.2701</td> <td>    0.339</td> <td>    0.796</td> <td> 0.426</td> <td>   -0.395</td> <td>    0.935</td>\n",
       "</tr>\n",
       "<tr>\n",
       "  <th>ca</th>       <td>    1.2641</td> <td>    0.259</td> <td>    4.881</td> <td> 0.000</td> <td>    0.756</td> <td>    1.772</td>\n",
       "</tr>\n",
       "<tr>\n",
       "  <th>thal</th>     <td>    0.3485</td> <td>    0.101</td> <td>    3.443</td> <td> 0.001</td> <td>    0.150</td> <td>    0.547</td>\n",
       "</tr>\n",
       "</table>"
      ],
      "text/latex": [
       "\\begin{center}\n",
       "\\begin{tabular}{lclc}\n",
       "\\toprule\n",
       "\\textbf{Dep. Variable:}   &      target      & \\textbf{  No. Observations:  } &      297    \\\\\n",
       "\\textbf{Model:}           &       GLM        & \\textbf{  Df Residuals:      } &      284    \\\\\n",
       "\\textbf{Model Family:}    &     Binomial     & \\textbf{  Df Model:          } &       12    \\\\\n",
       "\\textbf{Link Function:}   &      Logit       & \\textbf{  Scale:             } &    1.0000   \\\\\n",
       "\\textbf{Method:}          &       IRLS       & \\textbf{  Log-Likelihood:    } &   -105.80   \\\\\n",
       "\\textbf{Date:}            & Mon, 25 Nov 2024 & \\textbf{  Deviance:          } &    211.60   \\\\\n",
       "\\textbf{Time:}            &     18:51:10     & \\textbf{  Pearson chi2:      } &     294.    \\\\\n",
       "\\textbf{No. Iterations:}  &        6         & \\textbf{  Pseudo R-squ. (CS):} &   0.4872    \\\\\n",
       "\\textbf{Covariance Type:} &    nonrobust     & \\textbf{                     } &             \\\\\n",
       "\\bottomrule\n",
       "\\end{tabular}\n",
       "\\begin{tabular}{lcccccc}\n",
       "                  & \\textbf{coef} & \\textbf{std err} & \\textbf{z} & \\textbf{P$> |$z$|$} & \\textbf{[0.025} & \\textbf{0.975]}  \\\\\n",
       "\\midrule\n",
       "\\textbf{age}      &      -0.0454  &        0.020     &    -2.223  &         0.026        &       -0.085    &       -0.005     \\\\\n",
       "\\textbf{sex}      &       0.9617  &        0.451     &     2.134  &         0.033        &        0.078    &        1.845     \\\\\n",
       "\\textbf{cp}       &       0.3951  &        0.174     &     2.271  &         0.023        &        0.054    &        0.736     \\\\\n",
       "\\textbf{trestbps} &       0.0154  &        0.010     &     1.553  &         0.120        &       -0.004    &        0.035     \\\\\n",
       "\\textbf{chol}     &       0.0027  &        0.004     &     0.729  &         0.466        &       -0.005    &        0.010     \\\\\n",
       "\\textbf{fbs}      &      -0.8086  &        0.532     &    -1.519  &         0.129        &       -1.852    &        0.234     \\\\\n",
       "\\textbf{restecg}  &       0.2708  &        0.183     &     1.482  &         0.138        &       -0.087    &        0.629     \\\\\n",
       "\\textbf{thalach}  &      -0.0385  &        0.008     &    -4.837  &         0.000        &       -0.054    &       -0.023     \\\\\n",
       "\\textbf{exang}    &       0.8409  &        0.407     &     2.066  &         0.039        &        0.043    &        1.639     \\\\\n",
       "\\textbf{oldpeak}  &       0.2657  &        0.208     &     1.276  &         0.202        &       -0.142    &        0.674     \\\\\n",
       "\\textbf{slope}    &       0.2701  &        0.339     &     0.796  &         0.426        &       -0.395    &        0.935     \\\\\n",
       "\\textbf{ca}       &       1.2641  &        0.259     &     4.881  &         0.000        &        0.756    &        1.772     \\\\\n",
       "\\textbf{thal}     &       0.3485  &        0.101     &     3.443  &         0.001        &        0.150    &        0.547     \\\\\n",
       "\\bottomrule\n",
       "\\end{tabular}\n",
       "%\\caption{Generalized Linear Model Regression Results}\n",
       "\\end{center}"
      ],
      "text/plain": [
       "<class 'statsmodels.iolib.summary.Summary'>\n",
       "\"\"\"\n",
       "                 Generalized Linear Model Regression Results                  \n",
       "==============================================================================\n",
       "Dep. Variable:                 target   No. Observations:                  297\n",
       "Model:                            GLM   Df Residuals:                      284\n",
       "Model Family:                Binomial   Df Model:                           12\n",
       "Link Function:                  Logit   Scale:                          1.0000\n",
       "Method:                          IRLS   Log-Likelihood:                -105.80\n",
       "Date:                Mon, 25 Nov 2024   Deviance:                       211.60\n",
       "Time:                        18:51:10   Pearson chi2:                     294.\n",
       "No. Iterations:                     6   Pseudo R-squ. (CS):             0.4872\n",
       "Covariance Type:            nonrobust                                         \n",
       "==============================================================================\n",
       "                 coef    std err          z      P>|z|      [0.025      0.975]\n",
       "------------------------------------------------------------------------------\n",
       "age           -0.0454      0.020     -2.223      0.026      -0.085      -0.005\n",
       "sex            0.9617      0.451      2.134      0.033       0.078       1.845\n",
       "cp             0.3951      0.174      2.271      0.023       0.054       0.736\n",
       "trestbps       0.0154      0.010      1.553      0.120      -0.004       0.035\n",
       "chol           0.0027      0.004      0.729      0.466      -0.005       0.010\n",
       "fbs           -0.8086      0.532     -1.519      0.129      -1.852       0.234\n",
       "restecg        0.2708      0.183      1.482      0.138      -0.087       0.629\n",
       "thalach       -0.0385      0.008     -4.837      0.000      -0.054      -0.023\n",
       "exang          0.8409      0.407      2.066      0.039       0.043       1.639\n",
       "oldpeak        0.2657      0.208      1.276      0.202      -0.142       0.674\n",
       "slope          0.2701      0.339      0.796      0.426      -0.395       0.935\n",
       "ca             1.2641      0.259      4.881      0.000       0.756       1.772\n",
       "thal           0.3485      0.101      3.443      0.001       0.150       0.547\n",
       "==============================================================================\n",
       "\"\"\""
      ]
     },
     "execution_count": 12,
     "metadata": {},
     "output_type": "execute_result"
    }
   ],
   "source": [
    "model2.summary() # 암튼 결과가 다르다.."
   ]
  },
  {
   "cell_type": "markdown",
   "metadata": {},
   "source": [
    "### 6. train으로 로지스틱 회귀를 진행했을 경우의 로짓 우도값을 도출하라."
   ]
  },
  {
   "cell_type": "code",
   "execution_count": 13,
   "metadata": {},
   "outputs": [],
   "source": [
    "# 모르겠다.."
   ]
  },
  {
   "cell_type": "markdown",
   "metadata": {},
   "source": [
    "### 7. test 데이터의 독립변수로 target 예측 후 오류율을 구하여라"
   ]
  },
  {
   "cell_type": "code",
   "execution_count": 22,
   "metadata": {},
   "outputs": [
    {
     "data": {
      "text/plain": [
       "0.1333333333333333"
      ]
     },
     "execution_count": 22,
     "metadata": {},
     "output_type": "execute_result"
    }
   ],
   "source": [
    "# 오류율 = 1 - accuracy\n",
    "from sklearn.metrics import accuracy_score\n",
    "\n",
    "pred = (model.predict(X_test) > 0.5).astype('int')\n",
    "error_rate = 1 - accuracy_score(pred,y_test)\n",
    "error_rate"
   ]
  },
  {
   "cell_type": "code",
   "execution_count": 17,
   "metadata": {},
   "outputs": [
    {
     "data": {
      "text/plain": [
       "24     1\n",
       "110    1\n",
       "53     0\n",
       "257    0\n",
       "26     0\n",
       "      ..\n",
       "10     0\n",
       "259    0\n",
       "277    0\n",
       "8      1\n",
       "273    0\n",
       "Name: target, Length: 90, dtype: int64"
      ]
     },
     "execution_count": 17,
     "metadata": {},
     "output_type": "execute_result"
    }
   ],
   "source": [
    "y_test"
   ]
  },
  {
   "cell_type": "markdown",
   "metadata": {},
   "source": [
    "# 6회"
   ]
  },
  {
   "cell_type": "markdown",
   "metadata": {},
   "source": [
    "## 1유형"
   ]
  },
  {
   "cell_type": "code",
   "execution_count": 23,
   "metadata": {},
   "outputs": [
    {
     "data": {
      "text/html": [
       "<div>\n",
       "<style scoped>\n",
       "    .dataframe tbody tr th:only-of-type {\n",
       "        vertical-align: middle;\n",
       "    }\n",
       "\n",
       "    .dataframe tbody tr th {\n",
       "        vertical-align: top;\n",
       "    }\n",
       "\n",
       "    .dataframe thead th {\n",
       "        text-align: right;\n",
       "    }\n",
       "</style>\n",
       "<table border=\"1\" class=\"dataframe\">\n",
       "  <thead>\n",
       "    <tr style=\"text-align: right;\">\n",
       "      <th></th>\n",
       "      <th>구급보고서번호</th>\n",
       "      <th>소방서명</th>\n",
       "      <th>환자증상구분명1</th>\n",
       "      <th>신고일자</th>\n",
       "      <th>신고시각</th>\n",
       "      <th>출동일자</th>\n",
       "      <th>출동시각</th>\n",
       "      <th>환자직업명</th>\n",
       "      <th>사고발생장소</th>\n",
       "    </tr>\n",
       "  </thead>\n",
       "  <tbody>\n",
       "    <tr>\n",
       "      <th>0</th>\n",
       "      <td>20211122103M01526</td>\n",
       "      <td>중랑소방서</td>\n",
       "      <td>심계항진</td>\n",
       "      <td>20210330</td>\n",
       "      <td>104800</td>\n",
       "      <td>20210330</td>\n",
       "      <td>105042</td>\n",
       "      <td>무직</td>\n",
       "      <td>집</td>\n",
       "    </tr>\n",
       "    <tr>\n",
       "      <th>1</th>\n",
       "      <td>20211111105M00771</td>\n",
       "      <td>노원소방서</td>\n",
       "      <td>복통</td>\n",
       "      <td>20210412</td>\n",
       "      <td>225600</td>\n",
       "      <td>20210412</td>\n",
       "      <td>225827</td>\n",
       "      <td>기타</td>\n",
       "      <td>집</td>\n",
       "    </tr>\n",
       "    <tr>\n",
       "      <th>2</th>\n",
       "      <td>20211115104M00864</td>\n",
       "      <td>서초소방서</td>\n",
       "      <td>심계항진</td>\n",
       "      <td>20210303</td>\n",
       "      <td>194100</td>\n",
       "      <td>20210303</td>\n",
       "      <td>194500</td>\n",
       "      <td>직장인</td>\n",
       "      <td>상업시설</td>\n",
       "    </tr>\n",
       "    <tr>\n",
       "      <th>3</th>\n",
       "      <td>20211113107M01869</td>\n",
       "      <td>마포소방서</td>\n",
       "      <td>고열</td>\n",
       "      <td>20211225</td>\n",
       "      <td>235400</td>\n",
       "      <td>20211226</td>\n",
       "      <td>331</td>\n",
       "      <td>유아</td>\n",
       "      <td>집</td>\n",
       "    </tr>\n",
       "    <tr>\n",
       "      <th>4</th>\n",
       "      <td>20211118102M05820</td>\n",
       "      <td>강동소방서</td>\n",
       "      <td>고열</td>\n",
       "      <td>20211019</td>\n",
       "      <td>12100</td>\n",
       "      <td>20211019</td>\n",
       "      <td>12322</td>\n",
       "      <td>무직</td>\n",
       "      <td>집</td>\n",
       "    </tr>\n",
       "  </tbody>\n",
       "</table>\n",
       "</div>"
      ],
      "text/plain": [
       "             구급보고서번호   소방서명 환자증상구분명1      신고일자    신고시각      출동일자    출동시각  \\\n",
       "0  20211122103M01526  중랑소방서     심계항진  20210330  104800  20210330  105042   \n",
       "1  20211111105M00771  노원소방서       복통  20210412  225600  20210412  225827   \n",
       "2  20211115104M00864  서초소방서     심계항진  20210303  194100  20210303  194500   \n",
       "3  20211113107M01869  마포소방서       고열  20211225  235400  20211226     331   \n",
       "4  20211118102M05820  강동소방서       고열  20211019   12100  20211019   12322   \n",
       "\n",
       "  환자직업명 사고발생장소  \n",
       "0    무직      집  \n",
       "1    기타      집  \n",
       "2   직장인   상업시설  \n",
       "3    유아      집  \n",
       "4    무직      집  "
      ]
     },
     "execution_count": 23,
     "metadata": {},
     "output_type": "execute_result"
    }
   ],
   "source": [
    "import pandas as pd\n",
    "df = pd.read_csv('https://raw.githubusercontent.com/Datamanim/datarepo/main/krdatacertificate/e6_p1_1.csv')\n",
    "df.head(5)"
   ]
  },
  {
   "cell_type": "markdown",
   "metadata": {},
   "source": [
    "### 1. 각 구급 보고서 별 출동시각과 신고시각의 차이를 초(sec) 단위로 구하여 '소요시간' 컬럼으로 만들고, 소방서명 별 소요시간의 평균을 오름차순으로 정렬했을 때 3번째로 작은 소요시간 값과 소방서명을 출력하여라"
   ]
  },
  {
   "cell_type": "code",
   "execution_count": 47,
   "metadata": {},
   "outputs": [],
   "source": [
    "df['출동'] = pd.to_datetime(df['출동일자'].astype('str') + df['출동시각'].astype('str').str.zfill(6))\n",
    "df['신고'] = pd.to_datetime(df['신고일자'].astype('str')+df['신고시각'].astype('str').str.zfill(6))\n",
    "df['소요시간'] = (df['출동']-df['신고']).dt.total_seconds()"
   ]
  },
  {
   "cell_type": "code",
   "execution_count": 59,
   "metadata": {},
   "outputs": [],
   "source": [
    "num_1 = df[['소방서명','소요시간']].groupby('소방서명').mean().sort_values('소요시간').reset_index()"
   ]
  },
  {
   "cell_type": "code",
   "execution_count": 66,
   "metadata": {},
   "outputs": [
    {
     "data": {
      "text/plain": [
       "소방서명    종로소방서\n",
       "소요시간    175.5\n",
       "Name: 2, dtype: object"
      ]
     },
     "execution_count": 66,
     "metadata": {},
     "output_type": "execute_result"
    }
   ],
   "source": [
    "num_1.loc[2]"
   ]
  },
  {
   "cell_type": "markdown",
   "metadata": {},
   "source": [
    "### 2. 학교 세부유형이 일반중학교인 학교들 중 일반중학교 숫자가 2번째로 많은 시도의 일반중학교 데이터만 필터하여 해당 시도의 교원 한 명 당 맡은 학생 수가 가장 많은 학교를 찾아서 해당 학교의 교원수를 출력하라."
   ]
  },
  {
   "cell_type": "code",
   "execution_count": 80,
   "metadata": {},
   "outputs": [
    {
     "data": {
      "text/html": [
       "<div>\n",
       "<style scoped>\n",
       "    .dataframe tbody tr th:only-of-type {\n",
       "        vertical-align: middle;\n",
       "    }\n",
       "\n",
       "    .dataframe tbody tr th {\n",
       "        vertical-align: top;\n",
       "    }\n",
       "\n",
       "    .dataframe thead th {\n",
       "        text-align: right;\n",
       "    }\n",
       "</style>\n",
       "<table border=\"1\" class=\"dataframe\">\n",
       "  <thead>\n",
       "    <tr style=\"text-align: right;\">\n",
       "      <th></th>\n",
       "      <th>학교명</th>\n",
       "      <th>시도</th>\n",
       "      <th>학교세부유형</th>\n",
       "      <th>일반학급_학생수_계</th>\n",
       "      <th>교원수_총계_계</th>\n",
       "    </tr>\n",
       "  </thead>\n",
       "  <tbody>\n",
       "    <tr>\n",
       "      <th>0</th>\n",
       "      <td>서울대학교사범대학부설고등학교</td>\n",
       "      <td>서울</td>\n",
       "      <td>일반고등학교</td>\n",
       "      <td>689</td>\n",
       "      <td>73</td>\n",
       "    </tr>\n",
       "    <tr>\n",
       "      <th>1</th>\n",
       "      <td>가락고등학교</td>\n",
       "      <td>서울</td>\n",
       "      <td>일반고등학교</td>\n",
       "      <td>765</td>\n",
       "      <td>70</td>\n",
       "    </tr>\n",
       "    <tr>\n",
       "      <th>2</th>\n",
       "      <td>개포고등학교</td>\n",
       "      <td>서울</td>\n",
       "      <td>일반고등학교</td>\n",
       "      <td>684</td>\n",
       "      <td>69</td>\n",
       "    </tr>\n",
       "    <tr>\n",
       "      <th>3</th>\n",
       "      <td>경기고등학교</td>\n",
       "      <td>서울</td>\n",
       "      <td>일반고등학교</td>\n",
       "      <td>1047</td>\n",
       "      <td>96</td>\n",
       "    </tr>\n",
       "    <tr>\n",
       "      <th>4</th>\n",
       "      <td>경동고등학교</td>\n",
       "      <td>서울</td>\n",
       "      <td>일반고등학교</td>\n",
       "      <td>529</td>\n",
       "      <td>58</td>\n",
       "    </tr>\n",
       "  </tbody>\n",
       "</table>\n",
       "</div>"
      ],
      "text/plain": [
       "               학교명  시도  학교세부유형  일반학급_학생수_계  교원수_총계_계\n",
       "0  서울대학교사범대학부설고등학교  서울  일반고등학교         689        73\n",
       "1           가락고등학교  서울  일반고등학교         765        70\n",
       "2           개포고등학교  서울  일반고등학교         684        69\n",
       "3           경기고등학교  서울  일반고등학교        1047        96\n",
       "4           경동고등학교  서울  일반고등학교         529        58"
      ]
     },
     "execution_count": 80,
     "metadata": {},
     "output_type": "execute_result"
    }
   ],
   "source": [
    "import pandas as pd\n",
    "df = pd.read_csv('https://raw.githubusercontent.com/Datamanim/datarepo/main/krdatacertificate/e6_p1_2.csv')\n",
    "df.head()"
   ]
  },
  {
   "cell_type": "code",
   "execution_count": 81,
   "metadata": {},
   "outputs": [
    {
     "data": {
      "text/plain": [
       "시도\n",
       "세종     27\n",
       "제주     45\n",
       "울산     63\n",
       "대전     88\n",
       "광주     90\n",
       "대구    124\n",
       "충북    128\n",
       "인천    143\n",
       "강원    160\n",
       "부산    166\n",
       "충남    186\n",
       "전북    209\n",
       "전남    253\n",
       "경북    266\n",
       "경남    266\n",
       "서울    387\n",
       "경기    659\n",
       "dtype: int64"
      ]
     },
     "execution_count": 81,
     "metadata": {},
     "output_type": "execute_result"
    }
   ],
   "source": [
    "num_2 = df[df['학교세부유형']=='일반중학교']\n",
    "num_2.groupby('시도').size().sort_values()   # 서울이 2번째로 많음"
   ]
  },
  {
   "cell_type": "code",
   "execution_count": 89,
   "metadata": {},
   "outputs": [
    {
     "data": {
      "text/plain": [
       "294    33\n",
       "Name: 교원수_총계_계, dtype: int64"
      ]
     },
     "execution_count": 89,
     "metadata": {},
     "output_type": "execute_result"
    }
   ],
   "source": [
    "num_2 = num_2[num_2['시도']=='서울'].reset_index(drop=True)\n",
    "num_2['학생수per교원'] = num_2['일반학급_학생수_계'] / num_2['교원수_총계_계']\n",
    "num_2[num_2['학생수per교원']==num_2['학생수per교원'].max()]['교원수_총계_계']"
   ]
  },
  {
   "cell_type": "markdown",
   "metadata": {},
   "source": [
    "### 3. 5대 범죄(절도, 사기, 배임, 방화, 폭행)의 월별 총 발생건수를 총범죄수라고 표현하자. 18,19년의 각각 분기별 총범죄수의 월평균 값을 구했을때 최대값을 가지는 년도와 분기를 구하고 해당 분기의 최댓값의 사기가 발생한 월의 사기 발생건수를 출력하라  \n",
    "(1분기:1,2,3월 / 2분기 : 4,5,6월 / 3분기 7,8,9월 / 4분기 10,11,12월 , 1분기 월평균 : 1,2,3월의 총범죄수 평균)"
   ]
  },
  {
   "cell_type": "code",
   "execution_count": 91,
   "metadata": {},
   "outputs": [
    {
     "data": {
      "text/html": [
       "<div>\n",
       "<style scoped>\n",
       "    .dataframe tbody tr th:only-of-type {\n",
       "        vertical-align: middle;\n",
       "    }\n",
       "\n",
       "    .dataframe tbody tr th {\n",
       "        vertical-align: top;\n",
       "    }\n",
       "\n",
       "    .dataframe thead th {\n",
       "        text-align: right;\n",
       "    }\n",
       "</style>\n",
       "<table border=\"1\" class=\"dataframe\">\n",
       "  <thead>\n",
       "    <tr style=\"text-align: right;\">\n",
       "      <th></th>\n",
       "      <th>범죄분류</th>\n",
       "      <th>절도</th>\n",
       "      <th>사기</th>\n",
       "      <th>배임</th>\n",
       "      <th>방화</th>\n",
       "      <th>폭행</th>\n",
       "    </tr>\n",
       "  </thead>\n",
       "  <tbody>\n",
       "    <tr>\n",
       "      <th>0</th>\n",
       "      <td>2018년_1월</td>\n",
       "      <td>13280</td>\n",
       "      <td>25318</td>\n",
       "      <td>656</td>\n",
       "      <td>143</td>\n",
       "      <td>12186</td>\n",
       "    </tr>\n",
       "    <tr>\n",
       "      <th>1</th>\n",
       "      <td>2018년_2월</td>\n",
       "      <td>12504</td>\n",
       "      <td>19159</td>\n",
       "      <td>403</td>\n",
       "      <td>135</td>\n",
       "      <td>12087</td>\n",
       "    </tr>\n",
       "    <tr>\n",
       "      <th>2</th>\n",
       "      <td>2018년_3월</td>\n",
       "      <td>14733</td>\n",
       "      <td>24509</td>\n",
       "      <td>471</td>\n",
       "      <td>148</td>\n",
       "      <td>13841</td>\n",
       "    </tr>\n",
       "    <tr>\n",
       "      <th>3</th>\n",
       "      <td>2018년_4월</td>\n",
       "      <td>14781</td>\n",
       "      <td>23147</td>\n",
       "      <td>414</td>\n",
       "      <td>135</td>\n",
       "      <td>13973</td>\n",
       "    </tr>\n",
       "    <tr>\n",
       "      <th>4</th>\n",
       "      <td>2018년_5월</td>\n",
       "      <td>15988</td>\n",
       "      <td>23584</td>\n",
       "      <td>451</td>\n",
       "      <td>127</td>\n",
       "      <td>14117</td>\n",
       "    </tr>\n",
       "  </tbody>\n",
       "</table>\n",
       "</div>"
      ],
      "text/plain": [
       "       범죄분류     절도     사기   배임   방화     폭행\n",
       "0  2018년_1월  13280  25318  656  143  12186\n",
       "1  2018년_2월  12504  19159  403  135  12087\n",
       "2  2018년_3월  14733  24509  471  148  13841\n",
       "3  2018년_4월  14781  23147  414  135  13973\n",
       "4  2018년_5월  15988  23584  451  127  14117"
      ]
     },
     "execution_count": 91,
     "metadata": {},
     "output_type": "execute_result"
    }
   ],
   "source": [
    "import pandas as pd\n",
    "df = pd.read_csv('https://raw.githubusercontent.com/Datamanim/datarepo/main/krdatacertificate/e6_p1_3.csv')\n",
    "df.head()"
   ]
  },
  {
   "cell_type": "code",
   "execution_count": null,
   "metadata": {},
   "outputs": [
    {
     "name": "stderr",
     "output_type": "stream",
     "text": [
      "/var/folders/fd/1n9xc_8d2d51bf04p61cdylw0000gn/T/ipykernel_53017/1863056558.py:3: FutureWarning: The default value of numeric_only in DataFrameGroupBy.sum is deprecated. In a future version, numeric_only will default to False. Either specify numeric_only or select only columns which should be valid for the function.\n",
      "  df.groupby('분기').sum().sort_values('총범죄수')\n"
     ]
    },
    {
     "data": {
      "text/html": [
       "<div>\n",
       "<style scoped>\n",
       "    .dataframe tbody tr th:only-of-type {\n",
       "        vertical-align: middle;\n",
       "    }\n",
       "\n",
       "    .dataframe tbody tr th {\n",
       "        vertical-align: top;\n",
       "    }\n",
       "\n",
       "    .dataframe thead th {\n",
       "        text-align: right;\n",
       "    }\n",
       "</style>\n",
       "<table border=\"1\" class=\"dataframe\">\n",
       "  <thead>\n",
       "    <tr style=\"text-align: right;\">\n",
       "      <th></th>\n",
       "      <th>절도</th>\n",
       "      <th>사기</th>\n",
       "      <th>배임</th>\n",
       "      <th>방화</th>\n",
       "      <th>폭행</th>\n",
       "      <th>총범죄수</th>\n",
       "    </tr>\n",
       "    <tr>\n",
       "      <th>분기</th>\n",
       "      <th></th>\n",
       "      <th></th>\n",
       "      <th></th>\n",
       "      <th></th>\n",
       "      <th></th>\n",
       "      <th></th>\n",
       "    </tr>\n",
       "  </thead>\n",
       "  <tbody>\n",
       "    <tr>\n",
       "      <th>2018_1분기</th>\n",
       "      <td>40517</td>\n",
       "      <td>68986</td>\n",
       "      <td>1530</td>\n",
       "      <td>426</td>\n",
       "      <td>38114</td>\n",
       "      <td>149573</td>\n",
       "    </tr>\n",
       "    <tr>\n",
       "      <th>2018_4분기</th>\n",
       "      <td>41870</td>\n",
       "      <td>68322</td>\n",
       "      <td>1388</td>\n",
       "      <td>350</td>\n",
       "      <td>39515</td>\n",
       "      <td>151445</td>\n",
       "    </tr>\n",
       "    <tr>\n",
       "      <th>2019_1분기</th>\n",
       "      <td>43705</td>\n",
       "      <td>77723</td>\n",
       "      <td>1562</td>\n",
       "      <td>350</td>\n",
       "      <td>36072</td>\n",
       "      <td>159412</td>\n",
       "    </tr>\n",
       "    <tr>\n",
       "      <th>2018_2분기</th>\n",
       "      <td>46513</td>\n",
       "      <td>69732</td>\n",
       "      <td>1318</td>\n",
       "      <td>372</td>\n",
       "      <td>42452</td>\n",
       "      <td>160387</td>\n",
       "    </tr>\n",
       "    <tr>\n",
       "      <th>2019_4분기</th>\n",
       "      <td>43957</td>\n",
       "      <td>77158</td>\n",
       "      <td>1465</td>\n",
       "      <td>304</td>\n",
       "      <td>37863</td>\n",
       "      <td>160747</td>\n",
       "    </tr>\n",
       "    <tr>\n",
       "      <th>2018_3분기</th>\n",
       "      <td>48558</td>\n",
       "      <td>71526</td>\n",
       "      <td>1552</td>\n",
       "      <td>330</td>\n",
       "      <td>44419</td>\n",
       "      <td>166385</td>\n",
       "    </tr>\n",
       "    <tr>\n",
       "      <th>2019_3분기</th>\n",
       "      <td>50392</td>\n",
       "      <td>77999</td>\n",
       "      <td>1491</td>\n",
       "      <td>321</td>\n",
       "      <td>44801</td>\n",
       "      <td>175004</td>\n",
       "    </tr>\n",
       "    <tr>\n",
       "      <th>2019_2분기</th>\n",
       "      <td>49575</td>\n",
       "      <td>80713</td>\n",
       "      <td>1478</td>\n",
       "      <td>370</td>\n",
       "      <td>43179</td>\n",
       "      <td>175315</td>\n",
       "    </tr>\n",
       "  </tbody>\n",
       "</table>\n",
       "</div>"
      ],
      "text/plain": [
       "             절도     사기    배임   방화     폭행    총범죄수\n",
       "분기                                              \n",
       "2018_1분기  40517  68986  1530  426  38114  149573\n",
       "2018_4분기  41870  68322  1388  350  39515  151445\n",
       "2019_1분기  43705  77723  1562  350  36072  159412\n",
       "2018_2분기  46513  69732  1318  372  42452  160387\n",
       "2019_4분기  43957  77158  1465  304  37863  160747\n",
       "2018_3분기  48558  71526  1552  330  44419  166385\n",
       "2019_3분기  50392  77999  1491  321  44801  175004\n",
       "2019_2분기  49575  80713  1478  370  43179  175315"
      ]
     },
     "execution_count": 102,
     "metadata": {},
     "output_type": "execute_result"
    }
   ],
   "source": [
    "df['총범죄수'] = df.절도 + df.사기 + df.배임 + df.방화 + df.폭행\n",
    "df['분기'] = [x+'_'+str(y)+'분기' for x in ['2018','2019'] for y in range(1,5) for z in range(3) ]\n",
    "df.groupby('분기').sum().sort_values('총범죄수')  # 2019 2분기"
   ]
  },
  {
   "cell_type": "code",
   "execution_count": 103,
   "metadata": {},
   "outputs": [
    {
     "data": {
      "text/html": [
       "<div>\n",
       "<style scoped>\n",
       "    .dataframe tbody tr th:only-of-type {\n",
       "        vertical-align: middle;\n",
       "    }\n",
       "\n",
       "    .dataframe tbody tr th {\n",
       "        vertical-align: top;\n",
       "    }\n",
       "\n",
       "    .dataframe thead th {\n",
       "        text-align: right;\n",
       "    }\n",
       "</style>\n",
       "<table border=\"1\" class=\"dataframe\">\n",
       "  <thead>\n",
       "    <tr style=\"text-align: right;\">\n",
       "      <th></th>\n",
       "      <th>범죄분류</th>\n",
       "      <th>절도</th>\n",
       "      <th>사기</th>\n",
       "      <th>배임</th>\n",
       "      <th>방화</th>\n",
       "      <th>폭행</th>\n",
       "      <th>총범죄수</th>\n",
       "      <th>분기</th>\n",
       "    </tr>\n",
       "  </thead>\n",
       "  <tbody>\n",
       "    <tr>\n",
       "      <th>15</th>\n",
       "      <td>2019년_4월</td>\n",
       "      <td>15305</td>\n",
       "      <td>27125</td>\n",
       "      <td>478</td>\n",
       "      <td>138</td>\n",
       "      <td>13322</td>\n",
       "      <td>56368</td>\n",
       "      <td>2019_2분기</td>\n",
       "    </tr>\n",
       "    <tr>\n",
       "      <th>16</th>\n",
       "      <td>2019년_5월</td>\n",
       "      <td>17333</td>\n",
       "      <td>27766</td>\n",
       "      <td>509</td>\n",
       "      <td>131</td>\n",
       "      <td>14572</td>\n",
       "      <td>60311</td>\n",
       "      <td>2019_2분기</td>\n",
       "    </tr>\n",
       "    <tr>\n",
       "      <th>17</th>\n",
       "      <td>2019년_6월</td>\n",
       "      <td>16937</td>\n",
       "      <td>25822</td>\n",
       "      <td>491</td>\n",
       "      <td>101</td>\n",
       "      <td>15285</td>\n",
       "      <td>58636</td>\n",
       "      <td>2019_2분기</td>\n",
       "    </tr>\n",
       "  </tbody>\n",
       "</table>\n",
       "</div>"
      ],
      "text/plain": [
       "        범죄분류     절도     사기   배임   방화     폭행   총범죄수        분기\n",
       "15  2019년_4월  15305  27125  478  138  13322  56368  2019_2분기\n",
       "16  2019년_5월  17333  27766  509  131  14572  60311  2019_2분기\n",
       "17  2019년_6월  16937  25822  491  101  15285  58636  2019_2분기"
      ]
     },
     "execution_count": 103,
     "metadata": {},
     "output_type": "execute_result"
    }
   ],
   "source": [
    "df[df['분기']=='2019_2분기']"
   ]
  },
  {
   "cell_type": "code",
   "execution_count": 104,
   "metadata": {},
   "outputs": [
    {
     "data": {
      "text/plain": [
       "16    27766\n",
       "Name: 사기, dtype: int64"
      ]
     },
     "execution_count": 104,
     "metadata": {},
     "output_type": "execute_result"
    }
   ],
   "source": [
    "df[df['범죄분류']=='2019년_5월']['사기']"
   ]
  },
  {
   "cell_type": "markdown",
   "metadata": {},
   "source": [
    "## 2유형"
   ]
  },
  {
   "cell_type": "code",
   "execution_count": 133,
   "metadata": {},
   "outputs": [
    {
     "data": {
      "text/html": [
       "<div>\n",
       "<style scoped>\n",
       "    .dataframe tbody tr th:only-of-type {\n",
       "        vertical-align: middle;\n",
       "    }\n",
       "\n",
       "    .dataframe tbody tr th {\n",
       "        vertical-align: top;\n",
       "    }\n",
       "\n",
       "    .dataframe thead th {\n",
       "        text-align: right;\n",
       "    }\n",
       "</style>\n",
       "<table border=\"1\" class=\"dataframe\">\n",
       "  <thead>\n",
       "    <tr style=\"text-align: right;\">\n",
       "      <th></th>\n",
       "      <th>ID</th>\n",
       "      <th>General_Health</th>\n",
       "      <th>Checkup</th>\n",
       "      <th>Exercise</th>\n",
       "      <th>Heart_Disease</th>\n",
       "      <th>Skin_Cancer</th>\n",
       "      <th>Other_Cancer</th>\n",
       "      <th>Depression</th>\n",
       "      <th>Diabetes</th>\n",
       "      <th>Arthritis</th>\n",
       "      <th>Sex</th>\n",
       "      <th>Age_Category</th>\n",
       "      <th>Height_(cm)</th>\n",
       "      <th>Weight_(kg)</th>\n",
       "      <th>BMI</th>\n",
       "      <th>Smoking_History</th>\n",
       "      <th>Alcohol_Consumption</th>\n",
       "      <th>Fruit_Consumption</th>\n",
       "      <th>Green_Vegetables_Consumption</th>\n",
       "      <th>FriedPotato_Consumption</th>\n",
       "    </tr>\n",
       "  </thead>\n",
       "  <tbody>\n",
       "    <tr>\n",
       "      <th>0</th>\n",
       "      <td>ID_1473</td>\n",
       "      <td>Good</td>\n",
       "      <td>Within the past 2 years</td>\n",
       "      <td>Yes</td>\n",
       "      <td>No</td>\n",
       "      <td>No</td>\n",
       "      <td>No</td>\n",
       "      <td>No</td>\n",
       "      <td>No</td>\n",
       "      <td>Yes</td>\n",
       "      <td>Female</td>\n",
       "      <td>55-59</td>\n",
       "      <td>168.0</td>\n",
       "      <td>77.11</td>\n",
       "      <td>27.44</td>\n",
       "      <td>No</td>\n",
       "      <td>1.0</td>\n",
       "      <td>12.0</td>\n",
       "      <td>4.0</td>\n",
       "      <td>4.0</td>\n",
       "    </tr>\n",
       "    <tr>\n",
       "      <th>1</th>\n",
       "      <td>ID_2045</td>\n",
       "      <td>Good</td>\n",
       "      <td>Within the past 2 years</td>\n",
       "      <td>Yes</td>\n",
       "      <td>No</td>\n",
       "      <td>No</td>\n",
       "      <td>No</td>\n",
       "      <td>No</td>\n",
       "      <td>No</td>\n",
       "      <td>No</td>\n",
       "      <td>Female</td>\n",
       "      <td>40-44</td>\n",
       "      <td>152.0</td>\n",
       "      <td>58.97</td>\n",
       "      <td>25.39</td>\n",
       "      <td>No</td>\n",
       "      <td>0.0</td>\n",
       "      <td>8.0</td>\n",
       "      <td>16.0</td>\n",
       "      <td>8.0</td>\n",
       "    </tr>\n",
       "  </tbody>\n",
       "</table>\n",
       "</div>"
      ],
      "text/plain": [
       "        ID General_Health                  Checkup Exercise Heart_Disease  \\\n",
       "0  ID_1473           Good  Within the past 2 years      Yes            No   \n",
       "1  ID_2045           Good  Within the past 2 years      Yes            No   \n",
       "\n",
       "  Skin_Cancer Other_Cancer Depression Diabetes Arthritis     Sex Age_Category  \\\n",
       "0          No           No         No       No       Yes  Female        55-59   \n",
       "1          No           No         No       No        No  Female        40-44   \n",
       "\n",
       "   Height_(cm)  Weight_(kg)    BMI Smoking_History  Alcohol_Consumption  \\\n",
       "0        168.0        77.11  27.44              No                  1.0   \n",
       "1        152.0        58.97  25.39              No                  0.0   \n",
       "\n",
       "   Fruit_Consumption  Green_Vegetables_Consumption  FriedPotato_Consumption  \n",
       "0               12.0                           4.0                      4.0  \n",
       "1                8.0                          16.0                      8.0  "
      ]
     },
     "metadata": {},
     "output_type": "display_data"
    },
    {
     "data": {
      "text/html": [
       "<div>\n",
       "<style scoped>\n",
       "    .dataframe tbody tr th:only-of-type {\n",
       "        vertical-align: middle;\n",
       "    }\n",
       "\n",
       "    .dataframe tbody tr th {\n",
       "        vertical-align: top;\n",
       "    }\n",
       "\n",
       "    .dataframe thead th {\n",
       "        text-align: right;\n",
       "    }\n",
       "</style>\n",
       "<table border=\"1\" class=\"dataframe\">\n",
       "  <thead>\n",
       "    <tr style=\"text-align: right;\">\n",
       "      <th></th>\n",
       "      <th>ID</th>\n",
       "      <th>Checkup</th>\n",
       "      <th>Exercise</th>\n",
       "      <th>Heart_Disease</th>\n",
       "      <th>Skin_Cancer</th>\n",
       "      <th>Other_Cancer</th>\n",
       "      <th>Depression</th>\n",
       "      <th>Diabetes</th>\n",
       "      <th>Arthritis</th>\n",
       "      <th>Sex</th>\n",
       "      <th>Age_Category</th>\n",
       "      <th>Height_(cm)</th>\n",
       "      <th>Weight_(kg)</th>\n",
       "      <th>BMI</th>\n",
       "      <th>Smoking_History</th>\n",
       "      <th>Alcohol_Consumption</th>\n",
       "      <th>Fruit_Consumption</th>\n",
       "      <th>Green_Vegetables_Consumption</th>\n",
       "      <th>FriedPotato_Consumption</th>\n",
       "    </tr>\n",
       "  </thead>\n",
       "  <tbody>\n",
       "    <tr>\n",
       "      <th>0</th>\n",
       "      <td>ID_14547</td>\n",
       "      <td>Within the past year</td>\n",
       "      <td>Yes</td>\n",
       "      <td>No</td>\n",
       "      <td>No</td>\n",
       "      <td>No</td>\n",
       "      <td>No</td>\n",
       "      <td>No</td>\n",
       "      <td>No</td>\n",
       "      <td>Male</td>\n",
       "      <td>35-39</td>\n",
       "      <td>180.0</td>\n",
       "      <td>81.65</td>\n",
       "      <td>25.10</td>\n",
       "      <td>No</td>\n",
       "      <td>15.0</td>\n",
       "      <td>8.0</td>\n",
       "      <td>25.0</td>\n",
       "      <td>12.0</td>\n",
       "    </tr>\n",
       "    <tr>\n",
       "      <th>1</th>\n",
       "      <td>ID_26</td>\n",
       "      <td>5 or more years ago</td>\n",
       "      <td>No</td>\n",
       "      <td>No</td>\n",
       "      <td>Yes</td>\n",
       "      <td>No</td>\n",
       "      <td>No</td>\n",
       "      <td>No</td>\n",
       "      <td>No</td>\n",
       "      <td>Male</td>\n",
       "      <td>60-64</td>\n",
       "      <td>183.0</td>\n",
       "      <td>79.38</td>\n",
       "      <td>23.73</td>\n",
       "      <td>No</td>\n",
       "      <td>1.0</td>\n",
       "      <td>4.0</td>\n",
       "      <td>4.0</td>\n",
       "      <td>4.0</td>\n",
       "    </tr>\n",
       "  </tbody>\n",
       "</table>\n",
       "</div>"
      ],
      "text/plain": [
       "         ID               Checkup Exercise Heart_Disease Skin_Cancer  \\\n",
       "0  ID_14547  Within the past year      Yes            No          No   \n",
       "1     ID_26   5 or more years ago       No            No         Yes   \n",
       "\n",
       "  Other_Cancer Depression Diabetes Arthritis   Sex Age_Category  Height_(cm)  \\\n",
       "0           No         No       No        No  Male        35-39        180.0   \n",
       "1           No         No       No        No  Male        60-64        183.0   \n",
       "\n",
       "   Weight_(kg)    BMI Smoking_History  Alcohol_Consumption  Fruit_Consumption  \\\n",
       "0        81.65  25.10              No                 15.0                8.0   \n",
       "1        79.38  23.73              No                  1.0                4.0   \n",
       "\n",
       "   Green_Vegetables_Consumption  FriedPotato_Consumption  \n",
       "0                          25.0                     12.0  \n",
       "1                           4.0                      4.0  "
      ]
     },
     "execution_count": 133,
     "metadata": {},
     "output_type": "execute_result"
    }
   ],
   "source": [
    "import pandas as pd\n",
    "train = pd.read_csv('https://raw.githubusercontent.com/Datamanim/datarepo/main/krdatacertificate/ep6_p2_train.csv')\n",
    "test = pd.read_csv('https://raw.githubusercontent.com/Datamanim/datarepo/main/krdatacertificate/ep6_p2_test.csv')\n",
    "\n",
    "display(train.head(2))\n",
    "test.head(2)"
   ]
  },
  {
   "cell_type": "code",
   "execution_count": 106,
   "metadata": {},
   "outputs": [
    {
     "data": {
      "text/plain": [
       "ID                              11230\n",
       "General_Health                      3\n",
       "Checkup                             5\n",
       "Exercise                            2\n",
       "Heart_Disease                       2\n",
       "Skin_Cancer                         2\n",
       "Other_Cancer                        2\n",
       "Depression                          2\n",
       "Diabetes                            4\n",
       "Arthritis                           2\n",
       "Sex                                 2\n",
       "Age_Category                       13\n",
       "Height_(cm)                        57\n",
       "Weight_(kg)                       304\n",
       "BMI                              1629\n",
       "Smoking_History                     2\n",
       "Alcohol_Consumption                30\n",
       "Fruit_Consumption                  49\n",
       "Green_Vegetables_Consumption       47\n",
       "FriedPotato_Consumption            37\n",
       "dtype: int64"
      ]
     },
     "execution_count": 106,
     "metadata": {},
     "output_type": "execute_result"
    }
   ],
   "source": [
    "train.nunique()"
   ]
  },
  {
   "cell_type": "code",
   "execution_count": 107,
   "metadata": {},
   "outputs": [
    {
     "data": {
      "text/plain": [
       "ID                              4813\n",
       "Checkup                            5\n",
       "Exercise                           2\n",
       "Heart_Disease                      2\n",
       "Skin_Cancer                        2\n",
       "Other_Cancer                       2\n",
       "Depression                         2\n",
       "Diabetes                           4\n",
       "Arthritis                          2\n",
       "Sex                                2\n",
       "Age_Category                      13\n",
       "Height_(cm)                       44\n",
       "Weight_(kg)                      241\n",
       "BMI                             1136\n",
       "Smoking_History                    2\n",
       "Alcohol_Consumption               29\n",
       "Fruit_Consumption                 36\n",
       "Green_Vegetables_Consumption      34\n",
       "FriedPotato_Consumption           29\n",
       "dtype: int64"
      ]
     },
     "execution_count": 107,
     "metadata": {},
     "output_type": "execute_result"
    }
   ],
   "source": [
    "test.nunique()"
   ]
  },
  {
   "cell_type": "code",
   "execution_count": 108,
   "metadata": {},
   "outputs": [
    {
     "data": {
      "text/plain": [
       "ID                              0\n",
       "General_Health                  0\n",
       "Checkup                         0\n",
       "Exercise                        0\n",
       "Heart_Disease                   0\n",
       "Skin_Cancer                     0\n",
       "Other_Cancer                    0\n",
       "Depression                      0\n",
       "Diabetes                        0\n",
       "Arthritis                       0\n",
       "Sex                             0\n",
       "Age_Category                    0\n",
       "Height_(cm)                     0\n",
       "Weight_(kg)                     0\n",
       "BMI                             0\n",
       "Smoking_History                 0\n",
       "Alcohol_Consumption             0\n",
       "Fruit_Consumption               0\n",
       "Green_Vegetables_Consumption    0\n",
       "FriedPotato_Consumption         0\n",
       "dtype: int64"
      ]
     },
     "execution_count": 108,
     "metadata": {},
     "output_type": "execute_result"
    }
   ],
   "source": [
    "train.isnull().sum()"
   ]
  },
  {
   "cell_type": "code",
   "execution_count": 110,
   "metadata": {},
   "outputs": [
    {
     "data": {
      "text/plain": [
       "ID                              0\n",
       "Checkup                         0\n",
       "Exercise                        0\n",
       "Heart_Disease                   0\n",
       "Skin_Cancer                     0\n",
       "Other_Cancer                    0\n",
       "Depression                      0\n",
       "Diabetes                        0\n",
       "Arthritis                       0\n",
       "Sex                             0\n",
       "Age_Category                    0\n",
       "Height_(cm)                     0\n",
       "Weight_(kg)                     0\n",
       "BMI                             0\n",
       "Smoking_History                 0\n",
       "Alcohol_Consumption             0\n",
       "Fruit_Consumption               0\n",
       "Green_Vegetables_Consumption    0\n",
       "FriedPotato_Consumption         0\n",
       "dtype: int64"
      ]
     },
     "execution_count": 110,
     "metadata": {},
     "output_type": "execute_result"
    }
   ],
   "source": [
    "test.isnull().sum()"
   ]
  },
  {
   "cell_type": "code",
   "execution_count": 134,
   "metadata": {},
   "outputs": [],
   "source": [
    "X_train = train.drop(['ID','General_Health'],axis=1)\n",
    "y_train = train['General_Health']\n",
    "X_test = test.drop('ID',axis=1)\n",
    "\n",
    "X_train_dum = pd.get_dummies(X_train)\n",
    "X_test_dum = pd.get_dummies(X_test)[X_train_dum.columns]"
   ]
  },
  {
   "cell_type": "code",
   "execution_count": 135,
   "metadata": {},
   "outputs": [
    {
     "data": {
      "text/plain": [
       "0.5477090386726945"
      ]
     },
     "execution_count": 135,
     "metadata": {},
     "output_type": "execute_result"
    }
   ],
   "source": [
    "from sklearn.model_selection import train_test_split\n",
    "from sklearn.ensemble import RandomForestClassifier\n",
    "from sklearn.metrics import f1_score\n",
    "\n",
    "X_train, X_val, y_train, y_val = train_test_split(X_train_dum, y_train)\n",
    "\n",
    "rf = RandomForestClassifier()\n",
    "rf.fit(X_train, y_train)\n",
    "\n",
    "predict_val = rf.predict(X_val)\n",
    "f1_score(predict_val,y_val, average='macro')\n"
   ]
  },
  {
   "cell_type": "markdown",
   "metadata": {},
   "source": [
    "## 3유형"
   ]
  },
  {
   "cell_type": "markdown",
   "metadata": {},
   "source": [
    "### 1번\n",
    "\n",
    "A 도시의 남성 600명과 여성 550명이 있다. 남성들 중 흡연자 비율은 0.2이며 여성들 중 흡연자 비율은 0.26이다.\n",
    "남성과 여성 간에 흡연 여부에 따른 인구 비율이 다른지 확인하고 싶다. 유의 수준 0.05하 귀무가설에 대해 기각 / 채택 여부와 p-value값을 각각 출력하라  \n",
    "=> 카이제곱 검정 수행"
   ]
  },
  {
   "cell_type": "code",
   "execution_count": null,
   "metadata": {},
   "outputs": [
    {
     "data": {
      "text/plain": [
       "(5.521247671393307,\n",
       " 0.018786854975740768,\n",
       " 1,\n",
       " array([[137.2173913, 462.7826087],\n",
       "        [125.7826087, 424.2173913]]))"
      ]
     },
     "execution_count": 139,
     "metadata": {},
     "output_type": "execute_result"
    }
   ],
   "source": [
    "import numpy as np\n",
    "import scipy.stats as stats\n",
    "\n",
    "# 남&여 인구 수\n",
    "total_male = 600\n",
    "total_female = 550\n",
    "\n",
    "# 흡연자 비율\n",
    "male_smoking_ratio = 0.2\n",
    "female_smoking_ratio = 0.26\n",
    "\n",
    "# 흡연 인구 수\n",
    "smoking_male = total_male * male_smoking_ratio\n",
    "non_smoking_male = total_male - smoking_male\n",
    "smoking_female = total_female * female_smoking_ratio\n",
    "non_smoking_female = total_female - smoking_female\n",
    "\n",
    "# 빈도표 생성\n",
    "data = np.array([[smoking_male, non_smoking_male], [smoking_female, non_smoking_female]])\n",
    "\n",
    "# 카이제곱 검정\n",
    "stats.chi2_contingency(data)  # 통계량 / p-value / dof / expected 순서"
   ]
  },
  {
   "cell_type": "markdown",
   "metadata": {},
   "source": [
    "p-value가 0.01으로 0.05보다 작으므로 H0 기각\n",
    "=> 인구 비율이 다르다는 결론"
   ]
  },
  {
   "cell_type": "markdown",
   "metadata": {},
   "source": [
    "### 2번  \n",
    "(a): age와 Cholesterol을 가지고 weight를 예측하는 선형 회귀 모델을 만들려고한다. age의 회귀 계수를 구하여라.  \n",
    "(b): age가 고정일 때 Cholesterol와 weight가 선형관계에 있다는 가설을 유의수준 0.05하에 검정하라.  \n",
    "(c): age가 55, Cholesterol가 72.6일때 위 모델을 기반으로 weight값을 예측하라.  "
   ]
  },
  {
   "cell_type": "code",
   "execution_count": 136,
   "metadata": {},
   "outputs": [
    {
     "data": {
      "text/html": [
       "<div>\n",
       "<style scoped>\n",
       "    .dataframe tbody tr th:only-of-type {\n",
       "        vertical-align: middle;\n",
       "    }\n",
       "\n",
       "    .dataframe tbody tr th {\n",
       "        vertical-align: top;\n",
       "    }\n",
       "\n",
       "    .dataframe thead th {\n",
       "        text-align: right;\n",
       "    }\n",
       "</style>\n",
       "<table border=\"1\" class=\"dataframe\">\n",
       "  <thead>\n",
       "    <tr style=\"text-align: right;\">\n",
       "      <th></th>\n",
       "      <th>age</th>\n",
       "      <th>Cholesterol</th>\n",
       "      <th>weight</th>\n",
       "    </tr>\n",
       "  </thead>\n",
       "  <tbody>\n",
       "    <tr>\n",
       "      <th>0</th>\n",
       "      <td>65</td>\n",
       "      <td>69.0</td>\n",
       "      <td>111.0</td>\n",
       "    </tr>\n",
       "    <tr>\n",
       "      <th>1</th>\n",
       "      <td>54</td>\n",
       "      <td>117.0</td>\n",
       "      <td>81.0</td>\n",
       "    </tr>\n",
       "    <tr>\n",
       "      <th>2</th>\n",
       "      <td>61</td>\n",
       "      <td>86.2</td>\n",
       "      <td>72.0</td>\n",
       "    </tr>\n",
       "    <tr>\n",
       "      <th>3</th>\n",
       "      <td>57</td>\n",
       "      <td>76.0</td>\n",
       "      <td>78.0</td>\n",
       "    </tr>\n",
       "    <tr>\n",
       "      <th>4</th>\n",
       "      <td>62</td>\n",
       "      <td>160.0</td>\n",
       "      <td>61.0</td>\n",
       "    </tr>\n",
       "  </tbody>\n",
       "</table>\n",
       "</div>"
      ],
      "text/plain": [
       "   age  Cholesterol  weight\n",
       "0   65         69.0   111.0\n",
       "1   54        117.0    81.0\n",
       "2   61         86.2    72.0\n",
       "3   57         76.0    78.0\n",
       "4   62        160.0    61.0"
      ]
     },
     "execution_count": 136,
     "metadata": {},
     "output_type": "execute_result"
    }
   ],
   "source": [
    "import pandas as pd \n",
    "df= pd.read_csv('https://raw.githubusercontent.com/Datamanim/datarepo/main/adp/28/p7.csv')\n",
    "df.head()"
   ]
  },
  {
   "cell_type": "code",
   "execution_count": 141,
   "metadata": {},
   "outputs": [],
   "source": [
    "import statsmodels.api as sm\n",
    "\n",
    "X = sm.add_constant(df[['age','Cholesterol']])\n",
    "y = df['weight']\n",
    "\n",
    "model = sm.OLS(y,X)\n",
    "results = model.fit()"
   ]
  },
  {
   "cell_type": "code",
   "execution_count": 143,
   "metadata": {},
   "outputs": [
    {
     "data": {
      "text/plain": [
       "const          74.895281\n",
       "age            -0.036102\n",
       "Cholesterol     0.081929\n",
       "dtype: float64"
      ]
     },
     "execution_count": 143,
     "metadata": {},
     "output_type": "execute_result"
    }
   ],
   "source": [
    "# age의 회귀 계수\n",
    "\n",
    "results.params"
   ]
  },
  {
   "cell_type": "code",
   "execution_count": 145,
   "metadata": {},
   "outputs": [
    {
     "name": "stdout",
     "output_type": "stream",
     "text": [
      "Cholesterol과 weight가 선형관계에 있다.\n"
     ]
    }
   ],
   "source": [
    "# cholesterol과 weight가 선형관계에 있다는 가설 검정\n",
    "\n",
    "if results.pvalues['Cholesterol'] < 0.05:\n",
    "    print('Cholesterol과 weight가 선형관계에 있다.')\n",
    "else:\n",
    "    print('Cholesterol과 weight가 선형관계에 있지 않다.')"
   ]
  },
  {
   "cell_type": "code",
   "execution_count": 147,
   "metadata": {},
   "outputs": [
    {
     "data": {
      "text/plain": [
       "array([78.85771011])"
      ]
     },
     "execution_count": 147,
     "metadata": {},
     "output_type": "execute_result"
    }
   ],
   "source": [
    "# age가 55, Cholesterol이 72.6일 때 weight 예측\n",
    "\n",
    "results.predict([1,55,72.6]) # const, age, cholesterol"
   ]
  },
  {
   "cell_type": "markdown",
   "metadata": {},
   "source": [
    "# 5회"
   ]
  },
  {
   "cell_type": "markdown",
   "metadata": {},
   "source": [
    "## 1유형"
   ]
  },
  {
   "cell_type": "markdown",
   "metadata": {},
   "source": [
    "### 1. 20L가격과 5L가격이 모두 0원이 아닌 데이터만 필터를 한 후, 각 row별로 20L가격과 5L가격의 차이를 ‘차이가격’ 이라 부른다고 하자. 시도명 별 차이가격의 평균가격을 비교할때 그 값이 가장 큰 금액을 반올림하여 소숫점 이하 1자리까지 구하여라"
   ]
  },
  {
   "cell_type": "code",
   "execution_count": 148,
   "metadata": {},
   "outputs": [
    {
     "data": {
      "text/html": [
       "<div>\n",
       "<style scoped>\n",
       "    .dataframe tbody tr th:only-of-type {\n",
       "        vertical-align: middle;\n",
       "    }\n",
       "\n",
       "    .dataframe tbody tr th {\n",
       "        vertical-align: top;\n",
       "    }\n",
       "\n",
       "    .dataframe thead th {\n",
       "        text-align: right;\n",
       "    }\n",
       "</style>\n",
       "<table border=\"1\" class=\"dataframe\">\n",
       "  <thead>\n",
       "    <tr style=\"text-align: right;\">\n",
       "      <th></th>\n",
       "      <th>시도명</th>\n",
       "      <th>시군구명</th>\n",
       "      <th>종량제봉투종류</th>\n",
       "      <th>종량제봉투처리방식</th>\n",
       "      <th>종량제봉투용도</th>\n",
       "      <th>종량제봉투사용대상</th>\n",
       "      <th>1L가격</th>\n",
       "      <th>1.5L가격</th>\n",
       "      <th>2L가격</th>\n",
       "      <th>2.5L가격</th>\n",
       "      <th>...</th>\n",
       "      <th>60L가격</th>\n",
       "      <th>75L가격</th>\n",
       "      <th>100L가격</th>\n",
       "      <th>120L가격</th>\n",
       "      <th>125L가격</th>\n",
       "      <th>관리부서명</th>\n",
       "      <th>관리부서전화번호</th>\n",
       "      <th>데이터기준일자</th>\n",
       "      <th>제공기관코드</th>\n",
       "      <th>제공기관명</th>\n",
       "    </tr>\n",
       "  </thead>\n",
       "  <tbody>\n",
       "    <tr>\n",
       "      <th>0</th>\n",
       "      <td>경기도</td>\n",
       "      <td>안양시</td>\n",
       "      <td>규격봉투</td>\n",
       "      <td>매립용</td>\n",
       "      <td>생활쓰레기</td>\n",
       "      <td>사업장용</td>\n",
       "      <td>0</td>\n",
       "      <td>0</td>\n",
       "      <td>0</td>\n",
       "      <td>0</td>\n",
       "      <td>...</td>\n",
       "      <td>0</td>\n",
       "      <td>2100</td>\n",
       "      <td>0</td>\n",
       "      <td>0</td>\n",
       "      <td>0</td>\n",
       "      <td>자원순환과</td>\n",
       "      <td>031-8045-5448</td>\n",
       "      <td>2022-08-12</td>\n",
       "      <td>3830000</td>\n",
       "      <td>경기도 안양시</td>\n",
       "    </tr>\n",
       "    <tr>\n",
       "      <th>1</th>\n",
       "      <td>경기도</td>\n",
       "      <td>안양시</td>\n",
       "      <td>규격봉투</td>\n",
       "      <td>매립용</td>\n",
       "      <td>생활쓰레기</td>\n",
       "      <td>기타</td>\n",
       "      <td>0</td>\n",
       "      <td>0</td>\n",
       "      <td>0</td>\n",
       "      <td>0</td>\n",
       "      <td>...</td>\n",
       "      <td>0</td>\n",
       "      <td>2100</td>\n",
       "      <td>0</td>\n",
       "      <td>0</td>\n",
       "      <td>0</td>\n",
       "      <td>자원순환과</td>\n",
       "      <td>031-8045-5448</td>\n",
       "      <td>2022-08-12</td>\n",
       "      <td>3830000</td>\n",
       "      <td>경기도 안양시</td>\n",
       "    </tr>\n",
       "    <tr>\n",
       "      <th>2</th>\n",
       "      <td>경기도</td>\n",
       "      <td>안양시</td>\n",
       "      <td>규격봉투</td>\n",
       "      <td>소각용</td>\n",
       "      <td>음식물쓰레기</td>\n",
       "      <td>가정용</td>\n",
       "      <td>0</td>\n",
       "      <td>50</td>\n",
       "      <td>0</td>\n",
       "      <td>80</td>\n",
       "      <td>...</td>\n",
       "      <td>0</td>\n",
       "      <td>0</td>\n",
       "      <td>0</td>\n",
       "      <td>0</td>\n",
       "      <td>0</td>\n",
       "      <td>자원순환과</td>\n",
       "      <td>031-8045-5448</td>\n",
       "      <td>2022-08-12</td>\n",
       "      <td>3830000</td>\n",
       "      <td>경기도 안양시</td>\n",
       "    </tr>\n",
       "    <tr>\n",
       "      <th>3</th>\n",
       "      <td>경기도</td>\n",
       "      <td>안양시</td>\n",
       "      <td>규격봉투</td>\n",
       "      <td>소각용</td>\n",
       "      <td>음식물쓰레기</td>\n",
       "      <td>사업장용</td>\n",
       "      <td>0</td>\n",
       "      <td>50</td>\n",
       "      <td>0</td>\n",
       "      <td>80</td>\n",
       "      <td>...</td>\n",
       "      <td>0</td>\n",
       "      <td>0</td>\n",
       "      <td>0</td>\n",
       "      <td>0</td>\n",
       "      <td>0</td>\n",
       "      <td>자원순환과</td>\n",
       "      <td>031-8045-5448</td>\n",
       "      <td>2022-08-12</td>\n",
       "      <td>3830000</td>\n",
       "      <td>경기도 안양시</td>\n",
       "    </tr>\n",
       "    <tr>\n",
       "      <th>4</th>\n",
       "      <td>경기도</td>\n",
       "      <td>안양시</td>\n",
       "      <td>규격봉투</td>\n",
       "      <td>소각용</td>\n",
       "      <td>음식물쓰레기</td>\n",
       "      <td>기타</td>\n",
       "      <td>0</td>\n",
       "      <td>50</td>\n",
       "      <td>0</td>\n",
       "      <td>80</td>\n",
       "      <td>...</td>\n",
       "      <td>0</td>\n",
       "      <td>0</td>\n",
       "      <td>0</td>\n",
       "      <td>0</td>\n",
       "      <td>0</td>\n",
       "      <td>자원순환과</td>\n",
       "      <td>031-8045-5448</td>\n",
       "      <td>2022-08-12</td>\n",
       "      <td>3830000</td>\n",
       "      <td>경기도 안양시</td>\n",
       "    </tr>\n",
       "  </tbody>\n",
       "</table>\n",
       "<p>5 rows × 26 columns</p>\n",
       "</div>"
      ],
      "text/plain": [
       "   시도명 시군구명 종량제봉투종류 종량제봉투처리방식 종량제봉투용도 종량제봉투사용대상  1L가격  1.5L가격  2L가격  2.5L가격  \\\n",
       "0  경기도  안양시    규격봉투       매립용   생활쓰레기      사업장용     0       0     0       0   \n",
       "1  경기도  안양시    규격봉투       매립용   생활쓰레기        기타     0       0     0       0   \n",
       "2  경기도  안양시    규격봉투       소각용  음식물쓰레기       가정용     0      50     0      80   \n",
       "3  경기도  안양시    규격봉투       소각용  음식물쓰레기      사업장용     0      50     0      80   \n",
       "4  경기도  안양시    규격봉투       소각용  음식물쓰레기        기타     0      50     0      80   \n",
       "\n",
       "   ...  60L가격  75L가격  100L가격  120L가격  125L가격  관리부서명       관리부서전화번호  \\\n",
       "0  ...      0   2100       0       0       0  자원순환과  031-8045-5448   \n",
       "1  ...      0   2100       0       0       0  자원순환과  031-8045-5448   \n",
       "2  ...      0      0       0       0       0  자원순환과  031-8045-5448   \n",
       "3  ...      0      0       0       0       0  자원순환과  031-8045-5448   \n",
       "4  ...      0      0       0       0       0  자원순환과  031-8045-5448   \n",
       "\n",
       "      데이터기준일자   제공기관코드    제공기관명  \n",
       "0  2022-08-12  3830000  경기도 안양시  \n",
       "1  2022-08-12  3830000  경기도 안양시  \n",
       "2  2022-08-12  3830000  경기도 안양시  \n",
       "3  2022-08-12  3830000  경기도 안양시  \n",
       "4  2022-08-12  3830000  경기도 안양시  \n",
       "\n",
       "[5 rows x 26 columns]"
      ]
     },
     "execution_count": 148,
     "metadata": {},
     "output_type": "execute_result"
    }
   ],
   "source": [
    "import pandas as pd\n",
    "df = pd.read_csv('https://raw.githubusercontent.com/Datamanim/datarepo/main/krdatacertificate/e5_p1_1_.csv')\n",
    "df.head(5)"
   ]
  },
  {
   "cell_type": "code",
   "execution_count": 161,
   "metadata": {},
   "outputs": [
    {
     "name": "stderr",
     "output_type": "stream",
     "text": [
      "/var/folders/fd/1n9xc_8d2d51bf04p61cdylw0000gn/T/ipykernel_53017/383630005.py:2: SettingWithCopyWarning: \n",
      "A value is trying to be set on a copy of a slice from a DataFrame.\n",
      "Try using .loc[row_indexer,col_indexer] = value instead\n",
      "\n",
      "See the caveats in the documentation: https://pandas.pydata.org/pandas-docs/stable/user_guide/indexing.html#returning-a-view-versus-a-copy\n",
      "  num_1['차이가격'] = num_1['20L가격'] - num_1['5L가격']\n",
      "/var/folders/fd/1n9xc_8d2d51bf04p61cdylw0000gn/T/ipykernel_53017/383630005.py:4: FutureWarning: The default value of numeric_only in DataFrameGroupBy.mean is deprecated. In a future version, numeric_only will default to False. Either specify numeric_only or select only columns which should be valid for the function.\n",
      "  num_1.groupby('시도명').mean()['차이가격'].sort_values(ascending=False)[0]\n"
     ]
    },
    {
     "data": {
      "text/plain": [
       "619.0"
      ]
     },
     "execution_count": 161,
     "metadata": {},
     "output_type": "execute_result"
    }
   ],
   "source": [
    "num_1 = df[(df['20L가격']!=0) & (df['5L가격']!=0)]\n",
    "num_1['차이가격'] = num_1['20L가격'] - num_1['5L가격']\n",
    "\n",
    "num_1.groupby('시도명').mean()['차이가격'].sort_values(ascending=False)[0]"
   ]
  },
  {
   "cell_type": "markdown",
   "metadata": {},
   "source": [
    "### 2. BMI는 몸무게(kg) / (키(M) * 키(M)) 로 정의 된다. 초고도 비만은 BMI 25이상 , 고도 비반은 BMI 25미만 - 23이상 , 정상은 23미만 - 18.5이상 저체중은 18.5미만으로 정의 된다. 주어진 데이터에서 초고도비만 인원 + 저체중 인원 의 숫자는?"
   ]
  },
  {
   "cell_type": "code",
   "execution_count": 162,
   "metadata": {},
   "outputs": [
    {
     "data": {
      "text/html": [
       "<div>\n",
       "<style scoped>\n",
       "    .dataframe tbody tr th:only-of-type {\n",
       "        vertical-align: middle;\n",
       "    }\n",
       "\n",
       "    .dataframe tbody tr th {\n",
       "        vertical-align: top;\n",
       "    }\n",
       "\n",
       "    .dataframe thead th {\n",
       "        text-align: right;\n",
       "    }\n",
       "</style>\n",
       "<table border=\"1\" class=\"dataframe\">\n",
       "  <thead>\n",
       "    <tr style=\"text-align: right;\">\n",
       "      <th></th>\n",
       "      <th>ID</th>\n",
       "      <th>height(cm)</th>\n",
       "      <th>weight(kg)</th>\n",
       "    </tr>\n",
       "  </thead>\n",
       "  <tbody>\n",
       "    <tr>\n",
       "      <th>0</th>\n",
       "      <td>user_1</td>\n",
       "      <td>173.0</td>\n",
       "      <td>67.5</td>\n",
       "    </tr>\n",
       "    <tr>\n",
       "      <th>1</th>\n",
       "      <td>user_2</td>\n",
       "      <td>149.5</td>\n",
       "      <td>82.5</td>\n",
       "    </tr>\n",
       "    <tr>\n",
       "      <th>2</th>\n",
       "      <td>user_3</td>\n",
       "      <td>143.8</td>\n",
       "      <td>64.6</td>\n",
       "    </tr>\n",
       "    <tr>\n",
       "      <th>3</th>\n",
       "      <td>user_4</td>\n",
       "      <td>163.1</td>\n",
       "      <td>87.2</td>\n",
       "    </tr>\n",
       "    <tr>\n",
       "      <th>4</th>\n",
       "      <td>user_5</td>\n",
       "      <td>159.6</td>\n",
       "      <td>77.1</td>\n",
       "    </tr>\n",
       "  </tbody>\n",
       "</table>\n",
       "</div>"
      ],
      "text/plain": [
       "       ID  height(cm)  weight(kg)\n",
       "0  user_1       173.0        67.5\n",
       "1  user_2       149.5        82.5\n",
       "2  user_3       143.8        64.6\n",
       "3  user_4       163.1        87.2\n",
       "4  user_5       159.6        77.1"
      ]
     },
     "execution_count": 162,
     "metadata": {},
     "output_type": "execute_result"
    }
   ],
   "source": [
    "import pandas as pd\n",
    "df = pd.read_csv('https://raw.githubusercontent.com/Datamanim/datarepo/main/krdatacertificate/e5_p1_2_.csv')\n",
    "df.head(5)"
   ]
  },
  {
   "cell_type": "code",
   "execution_count": 174,
   "metadata": {},
   "outputs": [],
   "source": [
    "df['height(M)'] = df['height(cm)'] / 100\n",
    "df['BMI'] = df['weight(kg)'] / (df['height(M)'] * df['height(M)'])\n",
    "\n",
    "def app(x):\n",
    "    if x['BMI'] >= 25:\n",
    "        return '초고도비만'\n",
    "    elif x['BMI'] >= 23:\n",
    "        return '고도비만'\n",
    "    elif x['BMI'] >= 18.5:\n",
    "        return '정상'\n",
    "    else:\n",
    "        return '저체중'\n",
    "    \n",
    "\n",
    "df['분류'] = df.apply(app, axis=1)"
   ]
  },
  {
   "cell_type": "code",
   "execution_count": 175,
   "metadata": {},
   "outputs": [],
   "source": [
    "num_2 = df.분류.value_counts()"
   ]
  },
  {
   "cell_type": "code",
   "execution_count": 176,
   "metadata": {},
   "outputs": [
    {
     "data": {
      "text/plain": [
       "8998"
      ]
     },
     "execution_count": 176,
     "metadata": {},
     "output_type": "execute_result"
    }
   ],
   "source": [
    "num_2['초고도비만'] + num_2['저체중']"
   ]
  },
  {
   "cell_type": "markdown",
   "metadata": {},
   "source": [
    "### 3. 순유입인원은 초중고 도내,도외 전입인원에서 초중고 도내, 도외 전출인원을 뺀값이다. 각년도별로 가장 큰 순유입인원을 가진 지역구의 순유입인원을 구하고 전체 기간의 해당 순유입인원들의 합을 구하여라"
   ]
  },
  {
   "cell_type": "code",
   "execution_count": 177,
   "metadata": {},
   "outputs": [
    {
     "data": {
      "text/html": [
       "<div>\n",
       "<style scoped>\n",
       "    .dataframe tbody tr th:only-of-type {\n",
       "        vertical-align: middle;\n",
       "    }\n",
       "\n",
       "    .dataframe tbody tr th {\n",
       "        vertical-align: top;\n",
       "    }\n",
       "\n",
       "    .dataframe thead th {\n",
       "        text-align: right;\n",
       "    }\n",
       "</style>\n",
       "<table border=\"1\" class=\"dataframe\">\n",
       "  <thead>\n",
       "    <tr style=\"text-align: right;\">\n",
       "      <th></th>\n",
       "      <th>지역</th>\n",
       "      <th>초등학교_전출_도내</th>\n",
       "      <th>초등학교_전출_도외</th>\n",
       "      <th>초등학교_전입_도내</th>\n",
       "      <th>초등학교_전입_도외</th>\n",
       "      <th>중학교_전출_도내</th>\n",
       "      <th>중학교_전출_도외</th>\n",
       "      <th>중학교_전입_도내</th>\n",
       "      <th>중학교_전입_도외</th>\n",
       "      <th>고등학교_전출_도내</th>\n",
       "      <th>고등학교_전출_도외</th>\n",
       "      <th>고등학교_전입_도내</th>\n",
       "      <th>고등학교_전입_도외</th>\n",
       "      <th>년도</th>\n",
       "    </tr>\n",
       "  </thead>\n",
       "  <tbody>\n",
       "    <tr>\n",
       "      <th>0</th>\n",
       "      <td>종로구</td>\n",
       "      <td>221</td>\n",
       "      <td>132</td>\n",
       "      <td>255</td>\n",
       "      <td>126</td>\n",
       "      <td>63</td>\n",
       "      <td>71</td>\n",
       "      <td>104</td>\n",
       "      <td>73</td>\n",
       "      <td>203</td>\n",
       "      <td>72</td>\n",
       "      <td>166</td>\n",
       "      <td>75</td>\n",
       "      <td>2012</td>\n",
       "    </tr>\n",
       "    <tr>\n",
       "      <th>1</th>\n",
       "      <td>중구</td>\n",
       "      <td>295</td>\n",
       "      <td>139</td>\n",
       "      <td>203</td>\n",
       "      <td>100</td>\n",
       "      <td>66</td>\n",
       "      <td>43</td>\n",
       "      <td>58</td>\n",
       "      <td>44</td>\n",
       "      <td>156</td>\n",
       "      <td>37</td>\n",
       "      <td>104</td>\n",
       "      <td>39</td>\n",
       "      <td>2012</td>\n",
       "    </tr>\n",
       "    <tr>\n",
       "      <th>2</th>\n",
       "      <td>용산구</td>\n",
       "      <td>380</td>\n",
       "      <td>269</td>\n",
       "      <td>302</td>\n",
       "      <td>174</td>\n",
       "      <td>134</td>\n",
       "      <td>78</td>\n",
       "      <td>91</td>\n",
       "      <td>106</td>\n",
       "      <td>102</td>\n",
       "      <td>66</td>\n",
       "      <td>113</td>\n",
       "      <td>48</td>\n",
       "      <td>2012</td>\n",
       "    </tr>\n",
       "    <tr>\n",
       "      <th>3</th>\n",
       "      <td>성동구</td>\n",
       "      <td>643</td>\n",
       "      <td>344</td>\n",
       "      <td>376</td>\n",
       "      <td>221</td>\n",
       "      <td>154</td>\n",
       "      <td>103</td>\n",
       "      <td>98</td>\n",
       "      <td>82</td>\n",
       "      <td>179</td>\n",
       "      <td>37</td>\n",
       "      <td>153</td>\n",
       "      <td>41</td>\n",
       "      <td>2012</td>\n",
       "    </tr>\n",
       "    <tr>\n",
       "      <th>4</th>\n",
       "      <td>광진구</td>\n",
       "      <td>560</td>\n",
       "      <td>382</td>\n",
       "      <td>595</td>\n",
       "      <td>312</td>\n",
       "      <td>165</td>\n",
       "      <td>158</td>\n",
       "      <td>158</td>\n",
       "      <td>118</td>\n",
       "      <td>115</td>\n",
       "      <td>70</td>\n",
       "      <td>154</td>\n",
       "      <td>66</td>\n",
       "      <td>2012</td>\n",
       "    </tr>\n",
       "  </tbody>\n",
       "</table>\n",
       "</div>"
      ],
      "text/plain": [
       "    지역  초등학교_전출_도내  초등학교_전출_도외  초등학교_전입_도내  초등학교_전입_도외  중학교_전출_도내  중학교_전출_도외  \\\n",
       "0  종로구         221         132         255         126         63         71   \n",
       "1   중구         295         139         203         100         66         43   \n",
       "2  용산구         380         269         302         174        134         78   \n",
       "3  성동구         643         344         376         221        154        103   \n",
       "4  광진구         560         382         595         312        165        158   \n",
       "\n",
       "   중학교_전입_도내  중학교_전입_도외  고등학교_전출_도내  고등학교_전출_도외  고등학교_전입_도내  고등학교_전입_도외    년도  \n",
       "0        104         73         203          72         166          75  2012  \n",
       "1         58         44         156          37         104          39  2012  \n",
       "2         91        106         102          66         113          48  2012  \n",
       "3         98         82         179          37         153          41  2012  \n",
       "4        158        118         115          70         154          66  2012  "
      ]
     },
     "execution_count": 177,
     "metadata": {},
     "output_type": "execute_result"
    }
   ],
   "source": [
    "import pandas as pd\n",
    "df = pd.read_csv('https://raw.githubusercontent.com/Datamanim/datarepo/main/krdatacertificate/e5_p1_3.csv')\n",
    "df.head(5)"
   ]
  },
  {
   "cell_type": "code",
   "execution_count": 189,
   "metadata": {},
   "outputs": [
    {
     "data": {
      "text/plain": [
       "13853"
      ]
     },
     "execution_count": 189,
     "metadata": {},
     "output_type": "execute_result"
    }
   ],
   "source": [
    "df['순유입인원'] = df['초등학교_전입_도내'] + df['초등학교_전입_도외'] + df['중학교_전입_도내'] + df['중학교_전입_도외'] + df['고등학교_전입_도내'] + df['고등학교_전입_도외'] - df['초등학교_전출_도내'] - df['초등학교_전출_도외'] - df['중학교_전출_도내'] - df['중학교_전출_도외'] - df['고등학교_전출_도내'] - df['고등학교_전출_도외']\n",
    "\n",
    "df.groupby(['년도','지역'], as_index=False).sum()[['년도','지역','순유입인원']].sort_values(['년도','순유입인원'],ascending=False).drop_duplicates('년도')['순유입인원'].sum()"
   ]
  },
  {
   "cell_type": "markdown",
   "metadata": {},
   "source": [
    "## 2유형"
   ]
  },
  {
   "cell_type": "markdown",
   "metadata": {},
   "source": [
    "예측 변수 price, test.csv에 대해 ID별로 price 값을 예측하여 제출, 제출 데이터 컬럼은 ID와 price 두개만 존재해야함. 평가지표는 rmse"
   ]
  },
  {
   "cell_type": "code",
   "execution_count": 190,
   "metadata": {},
   "outputs": [
    {
     "data": {
      "text/html": [
       "<div>\n",
       "<style scoped>\n",
       "    .dataframe tbody tr th:only-of-type {\n",
       "        vertical-align: middle;\n",
       "    }\n",
       "\n",
       "    .dataframe tbody tr th {\n",
       "        vertical-align: top;\n",
       "    }\n",
       "\n",
       "    .dataframe thead th {\n",
       "        text-align: right;\n",
       "    }\n",
       "</style>\n",
       "<table border=\"1\" class=\"dataframe\">\n",
       "  <thead>\n",
       "    <tr style=\"text-align: right;\">\n",
       "      <th></th>\n",
       "      <th>ID</th>\n",
       "      <th>model</th>\n",
       "      <th>year</th>\n",
       "      <th>price</th>\n",
       "      <th>transmission</th>\n",
       "      <th>mileage</th>\n",
       "      <th>fuelType</th>\n",
       "      <th>tax</th>\n",
       "      <th>mpg</th>\n",
       "      <th>engineSize</th>\n",
       "    </tr>\n",
       "  </thead>\n",
       "  <tbody>\n",
       "    <tr>\n",
       "      <th>0</th>\n",
       "      <td>10170</td>\n",
       "      <td>A Class</td>\n",
       "      <td>2012</td>\n",
       "      <td>11940</td>\n",
       "      <td>Automatic</td>\n",
       "      <td>46000</td>\n",
       "      <td>Diesel</td>\n",
       "      <td>30</td>\n",
       "      <td>64.2</td>\n",
       "      <td>2.1</td>\n",
       "    </tr>\n",
       "    <tr>\n",
       "      <th>1</th>\n",
       "      <td>9551</td>\n",
       "      <td>CL Class</td>\n",
       "      <td>2020</td>\n",
       "      <td>38624</td>\n",
       "      <td>Semi-Auto</td>\n",
       "      <td>19</td>\n",
       "      <td>Petrol</td>\n",
       "      <td>150</td>\n",
       "      <td>36.7</td>\n",
       "      <td>2.0</td>\n",
       "    </tr>\n",
       "  </tbody>\n",
       "</table>\n",
       "</div>"
      ],
      "text/plain": [
       "      ID      model  year  price transmission  mileage fuelType  tax   mpg  \\\n",
       "0  10170    A Class  2012  11940    Automatic    46000   Diesel   30  64.2   \n",
       "1   9551   CL Class  2020  38624    Semi-Auto       19   Petrol  150  36.7   \n",
       "\n",
       "   engineSize  \n",
       "0         2.1  \n",
       "1         2.0  "
      ]
     },
     "metadata": {},
     "output_type": "display_data"
    },
    {
     "data": {
      "text/html": [
       "<div>\n",
       "<style scoped>\n",
       "    .dataframe tbody tr th:only-of-type {\n",
       "        vertical-align: middle;\n",
       "    }\n",
       "\n",
       "    .dataframe tbody tr th {\n",
       "        vertical-align: top;\n",
       "    }\n",
       "\n",
       "    .dataframe thead th {\n",
       "        text-align: right;\n",
       "    }\n",
       "</style>\n",
       "<table border=\"1\" class=\"dataframe\">\n",
       "  <thead>\n",
       "    <tr style=\"text-align: right;\">\n",
       "      <th></th>\n",
       "      <th>ID</th>\n",
       "      <th>model</th>\n",
       "      <th>year</th>\n",
       "      <th>transmission</th>\n",
       "      <th>mileage</th>\n",
       "      <th>fuelType</th>\n",
       "      <th>tax</th>\n",
       "      <th>mpg</th>\n",
       "      <th>engineSize</th>\n",
       "    </tr>\n",
       "  </thead>\n",
       "  <tbody>\n",
       "    <tr>\n",
       "      <th>0</th>\n",
       "      <td>0</td>\n",
       "      <td>SLK</td>\n",
       "      <td>2005</td>\n",
       "      <td>Automatic</td>\n",
       "      <td>63000</td>\n",
       "      <td>Petrol</td>\n",
       "      <td>325</td>\n",
       "      <td>32.1</td>\n",
       "      <td>1.8</td>\n",
       "    </tr>\n",
       "    <tr>\n",
       "      <th>1</th>\n",
       "      <td>2</td>\n",
       "      <td>SL CLASS</td>\n",
       "      <td>2016</td>\n",
       "      <td>Automatic</td>\n",
       "      <td>6200</td>\n",
       "      <td>Petrol</td>\n",
       "      <td>555</td>\n",
       "      <td>28.0</td>\n",
       "      <td>5.5</td>\n",
       "    </tr>\n",
       "  </tbody>\n",
       "</table>\n",
       "</div>"
      ],
      "text/plain": [
       "   ID      model  year transmission  mileage fuelType  tax   mpg  engineSize\n",
       "0   0        SLK  2005    Automatic    63000   Petrol  325  32.1         1.8\n",
       "1   2   SL CLASS  2016    Automatic     6200   Petrol  555  28.0         5.5"
      ]
     },
     "execution_count": 190,
     "metadata": {},
     "output_type": "execute_result"
    }
   ],
   "source": [
    "import pandas as pd\n",
    "train = pd.read_csv('https://raw.githubusercontent.com/Datamanim/datarepo/main/krdatacertificate/e5_p2_train_.csv')\n",
    "test = pd.read_csv('https://raw.githubusercontent.com/Datamanim/datarepo/main/krdatacertificate/e5_p2_test_.csv')\n",
    "\n",
    "display(train.head(2))\n",
    "test.head(2)"
   ]
  },
  {
   "cell_type": "code",
   "execution_count": 191,
   "metadata": {},
   "outputs": [
    {
     "data": {
      "text/plain": [
       "ID              9823\n",
       "model             26\n",
       "year              25\n",
       "price           3682\n",
       "transmission       4\n",
       "mileage         7550\n",
       "fuelType           4\n",
       "tax               38\n",
       "mpg              116\n",
       "engineSize        26\n",
       "dtype: int64"
      ]
     },
     "execution_count": 191,
     "metadata": {},
     "output_type": "execute_result"
    }
   ],
   "source": [
    "train.nunique()"
   ]
  },
  {
   "cell_type": "code",
   "execution_count": 192,
   "metadata": {},
   "outputs": [
    {
     "data": {
      "text/plain": [
       "ID              3296\n",
       "model             22\n",
       "year              21\n",
       "transmission       3\n",
       "mileage         2788\n",
       "fuelType           3\n",
       "tax               29\n",
       "mpg               94\n",
       "engineSize        21\n",
       "dtype: int64"
      ]
     },
     "execution_count": 192,
     "metadata": {},
     "output_type": "execute_result"
    }
   ],
   "source": [
    "test.nunique()"
   ]
  },
  {
   "cell_type": "code",
   "execution_count": 193,
   "metadata": {},
   "outputs": [
    {
     "data": {
      "text/plain": [
       "ID              0\n",
       "model           0\n",
       "year            0\n",
       "price           0\n",
       "transmission    0\n",
       "mileage         0\n",
       "fuelType        0\n",
       "tax             0\n",
       "mpg             0\n",
       "engineSize      0\n",
       "dtype: int64"
      ]
     },
     "execution_count": 193,
     "metadata": {},
     "output_type": "execute_result"
    }
   ],
   "source": [
    "train.isnull().sum()"
   ]
  },
  {
   "cell_type": "code",
   "execution_count": 195,
   "metadata": {},
   "outputs": [
    {
     "data": {
      "text/plain": [
       "ID              0\n",
       "model           0\n",
       "year            0\n",
       "transmission    0\n",
       "mileage         0\n",
       "fuelType        0\n",
       "tax             0\n",
       "mpg             0\n",
       "engineSize      0\n",
       "dtype: int64"
      ]
     },
     "execution_count": 195,
     "metadata": {},
     "output_type": "execute_result"
    }
   ],
   "source": [
    "test.isnull().sum()"
   ]
  },
  {
   "cell_type": "code",
   "execution_count": 196,
   "metadata": {},
   "outputs": [
    {
     "data": {
      "text/plain": [
       "9823"
      ]
     },
     "execution_count": 196,
     "metadata": {},
     "output_type": "execute_result"
    }
   ],
   "source": [
    "len(train)"
   ]
  },
  {
   "cell_type": "code",
   "execution_count": 197,
   "metadata": {},
   "outputs": [
    {
     "data": {
      "text/plain": [
       "3296"
      ]
     },
     "execution_count": 197,
     "metadata": {},
     "output_type": "execute_result"
    }
   ],
   "source": [
    "len(test)"
   ]
  },
  {
   "cell_type": "code",
   "execution_count": 206,
   "metadata": {},
   "outputs": [],
   "source": [
    "X_train = train[['model', 'year', 'transmission','mileage', 'fuelType','tax','mpg','engineSize']]\n",
    "X_test = test.drop('ID',axis=1)\n",
    "\n",
    "y_train = train['price']\n",
    "\n",
    "dum = pd.concat([X_train,X_test],axis=0)\n",
    "dum = pd.get_dummies(dum)\n",
    "X_train_dum = dum[:9823]\n",
    "X_test_dum = dum[9823:]"
   ]
  },
  {
   "cell_type": "code",
   "execution_count": 209,
   "metadata": {},
   "outputs": [],
   "source": [
    "from sklearn.model_selection import train_test_split\n",
    "from sklearn.ensemble import RandomForestRegressor\n",
    "X_train, X_val, y_train, y_val = train_test_split(X_train_dum, y_train)\n",
    "\n",
    "rf = RandomForestRegressor()\n",
    "\n",
    "rf.fit(X_train, y_train)\n",
    "\n",
    "y_val_predict = rf.predict(X_val)\n"
   ]
  },
  {
   "cell_type": "code",
   "execution_count": 210,
   "metadata": {},
   "outputs": [
    {
     "data": {
      "text/plain": [
       "2701.1616155133447"
      ]
     },
     "execution_count": 210,
     "metadata": {},
     "output_type": "execute_result"
    }
   ],
   "source": [
    "from sklearn.metrics import mean_squared_error\n",
    "import numpy as np\n",
    "\n",
    "rmse = np.sqrt(mean_squared_error(y_val_predict, y_val))\n",
    "rmse\n"
   ]
  },
  {
   "cell_type": "code",
   "execution_count": 213,
   "metadata": {},
   "outputs": [
    {
     "data": {
      "text/html": [
       "<div>\n",
       "<style scoped>\n",
       "    .dataframe tbody tr th:only-of-type {\n",
       "        vertical-align: middle;\n",
       "    }\n",
       "\n",
       "    .dataframe tbody tr th {\n",
       "        vertical-align: top;\n",
       "    }\n",
       "\n",
       "    .dataframe thead th {\n",
       "        text-align: right;\n",
       "    }\n",
       "</style>\n",
       "<table border=\"1\" class=\"dataframe\">\n",
       "  <thead>\n",
       "    <tr style=\"text-align: right;\">\n",
       "      <th></th>\n",
       "      <th>ID</th>\n",
       "      <th>price</th>\n",
       "    </tr>\n",
       "  </thead>\n",
       "  <tbody>\n",
       "    <tr>\n",
       "      <th>0</th>\n",
       "      <td>0</td>\n",
       "      <td>4726.150000</td>\n",
       "    </tr>\n",
       "    <tr>\n",
       "      <th>1</th>\n",
       "      <td>2</td>\n",
       "      <td>64860.200000</td>\n",
       "    </tr>\n",
       "    <tr>\n",
       "      <th>2</th>\n",
       "      <td>14</td>\n",
       "      <td>17400.590000</td>\n",
       "    </tr>\n",
       "    <tr>\n",
       "      <th>3</th>\n",
       "      <td>15</td>\n",
       "      <td>14541.330000</td>\n",
       "    </tr>\n",
       "    <tr>\n",
       "      <th>4</th>\n",
       "      <td>18</td>\n",
       "      <td>16883.190000</td>\n",
       "    </tr>\n",
       "    <tr>\n",
       "      <th>...</th>\n",
       "      <td>...</td>\n",
       "      <td>...</td>\n",
       "    </tr>\n",
       "    <tr>\n",
       "      <th>3291</th>\n",
       "      <td>13096</td>\n",
       "      <td>28686.320000</td>\n",
       "    </tr>\n",
       "    <tr>\n",
       "      <th>3292</th>\n",
       "      <td>13098</td>\n",
       "      <td>24121.830000</td>\n",
       "    </tr>\n",
       "    <tr>\n",
       "      <th>3293</th>\n",
       "      <td>13101</td>\n",
       "      <td>23998.420000</td>\n",
       "    </tr>\n",
       "    <tr>\n",
       "      <th>3294</th>\n",
       "      <td>13109</td>\n",
       "      <td>17085.880000</td>\n",
       "    </tr>\n",
       "    <tr>\n",
       "      <th>3295</th>\n",
       "      <td>13112</td>\n",
       "      <td>29180.123333</td>\n",
       "    </tr>\n",
       "  </tbody>\n",
       "</table>\n",
       "<p>3296 rows × 2 columns</p>\n",
       "</div>"
      ],
      "text/plain": [
       "         ID         price\n",
       "0         0   4726.150000\n",
       "1         2  64860.200000\n",
       "2        14  17400.590000\n",
       "3        15  14541.330000\n",
       "4        18  16883.190000\n",
       "...     ...           ...\n",
       "3291  13096  28686.320000\n",
       "3292  13098  24121.830000\n",
       "3293  13101  23998.420000\n",
       "3294  13109  17085.880000\n",
       "3295  13112  29180.123333\n",
       "\n",
       "[3296 rows x 2 columns]"
      ]
     },
     "execution_count": 213,
     "metadata": {},
     "output_type": "execute_result"
    }
   ],
   "source": [
    "# 결과\n",
    "\n",
    "test_predict = rf.predict(X_test_dum)\n",
    "\n",
    "submission = pd.DataFrame()\n",
    "submission['ID'] = test.ID\n",
    "submission['price'] = test_predict\n",
    "\n",
    "\n",
    "submission"
   ]
  },
  {
   "cell_type": "markdown",
   "metadata": {},
   "source": [
    "## 3유형"
   ]
  },
  {
   "cell_type": "markdown",
   "metadata": {},
   "source": [
    "### 1. 55명 학생들의 키에 대한 표본 평균을 구하여라(반올림하여 소숫점 3째자리까지"
   ]
  },
  {
   "cell_type": "code",
   "execution_count": 214,
   "metadata": {},
   "outputs": [
    {
     "data": {
      "text/html": [
       "<div>\n",
       "<style scoped>\n",
       "    .dataframe tbody tr th:only-of-type {\n",
       "        vertical-align: middle;\n",
       "    }\n",
       "\n",
       "    .dataframe tbody tr th {\n",
       "        vertical-align: top;\n",
       "    }\n",
       "\n",
       "    .dataframe thead th {\n",
       "        text-align: right;\n",
       "    }\n",
       "</style>\n",
       "<table border=\"1\" class=\"dataframe\">\n",
       "  <thead>\n",
       "    <tr style=\"text-align: right;\">\n",
       "      <th></th>\n",
       "      <th>ID</th>\n",
       "      <th>height</th>\n",
       "    </tr>\n",
       "  </thead>\n",
       "  <tbody>\n",
       "    <tr>\n",
       "      <th>0</th>\n",
       "      <td>user_1</td>\n",
       "      <td>164.57</td>\n",
       "    </tr>\n",
       "    <tr>\n",
       "      <th>1</th>\n",
       "      <td>user_2</td>\n",
       "      <td>174.99</td>\n",
       "    </tr>\n",
       "    <tr>\n",
       "      <th>2</th>\n",
       "      <td>user_3</td>\n",
       "      <td>171.41</td>\n",
       "    </tr>\n",
       "    <tr>\n",
       "      <th>3</th>\n",
       "      <td>user_4</td>\n",
       "      <td>162.47</td>\n",
       "    </tr>\n",
       "    <tr>\n",
       "      <th>4</th>\n",
       "      <td>user_5</td>\n",
       "      <td>167.11</td>\n",
       "    </tr>\n",
       "  </tbody>\n",
       "</table>\n",
       "</div>"
      ],
      "text/plain": [
       "       ID  height\n",
       "0  user_1  164.57\n",
       "1  user_2  174.99\n",
       "2  user_3  171.41\n",
       "3  user_4  162.47\n",
       "4  user_5  167.11"
      ]
     },
     "execution_count": 214,
     "metadata": {},
     "output_type": "execute_result"
    }
   ],
   "source": [
    "import pandas as pd \n",
    "df= pd.read_csv('https://raw.githubusercontent.com/Datamanim/datarepo/main/krdatacertificate/e5_p3_1.csv')\n",
    "df.head()"
   ]
  },
  {
   "cell_type": "code",
   "execution_count": 216,
   "metadata": {},
   "outputs": [
    {
     "data": {
      "text/plain": [
       "169.937"
      ]
     },
     "execution_count": 216,
     "metadata": {},
     "output_type": "execute_result"
    }
   ],
   "source": [
    "np.round(np.mean(df.height),3)"
   ]
  },
  {
   "cell_type": "markdown",
   "metadata": {},
   "source": [
    "### 2. t분포 양쪽 꼬리에서의 t 값을 구하여라 (반올림하여 소수4째자리까지)"
   ]
  },
  {
   "cell_type": "markdown",
   "metadata": {},
   "source": [
    "### 3. 95% 신뢰구간을 구하여라(print(lower,upper) 방식으로 출력, 각각의 값은 소숫점 이하 3째자리까지)"
   ]
  },
  {
   "cell_type": "markdown",
   "metadata": {},
   "source": [
    "이건 r로 하는걸로...\n",
    "\n",
    "data<-read.csv('https://raw.githubusercontent.com/Datamanim/datarepo/main/krdatacertificate/e5_p3_1.csv')  \n",
    "head(data,3)  \n",
    "round(mean(data$height),3)  \n",
    "t.test(data$height)  \n"
   ]
  },
  {
   "cell_type": "markdown",
   "metadata": {},
   "source": [
    "### 4. A,B,C 세 공장에서 생산한 동일한 제품의 길이 데이터이다.   공장간의 제품 길이 차이가 유의미한지 확인 하려한다. 3 그룹의 데이터에 대해 크루스칼-왈리스 검정을 사용하여 검정 통계량을 반올림하여 소숫점 이하 3자리까지 구하여라"
   ]
  },
  {
   "cell_type": "markdown",
   "metadata": {},
   "source": [
    "### 5. 3그룹의 데이터에 대해 크루스칼-왈리스 검정을 사용하여 p-value를 반올림하여 소숫점 이하 3자리까지 구하여라. 귀무가설과 대립가설중 0.05 유의수준에서 유의한 가설을 출력하라"
   ]
  },
  {
   "cell_type": "markdown",
   "metadata": {},
   "source": [
    "data <- read.csv('https://raw.githubusercontent.com/Datamanim/datarepo/main/krdatacertificate/e5_p3_2.csv')  \n",
    "head(data,3)  \n",
    "data  \n",
    "kruskal.test(value~ID, data=data)  "
   ]
  },
  {
   "cell_type": "markdown",
   "metadata": {},
   "source": [
    "# 4회"
   ]
  },
  {
   "cell_type": "markdown",
   "metadata": {},
   "source": [
    "## 1유형"
   ]
  },
  {
   "cell_type": "code",
   "execution_count": 220,
   "metadata": {},
   "outputs": [
    {
     "data": {
      "text/html": [
       "<div>\n",
       "<style scoped>\n",
       "    .dataframe tbody tr th:only-of-type {\n",
       "        vertical-align: middle;\n",
       "    }\n",
       "\n",
       "    .dataframe tbody tr th {\n",
       "        vertical-align: top;\n",
       "    }\n",
       "\n",
       "    .dataframe thead th {\n",
       "        text-align: right;\n",
       "    }\n",
       "</style>\n",
       "<table border=\"1\" class=\"dataframe\">\n",
       "  <thead>\n",
       "    <tr style=\"text-align: right;\">\n",
       "      <th></th>\n",
       "      <th>Store</th>\n",
       "      <th>Date</th>\n",
       "      <th>Weekly_Sales</th>\n",
       "      <th>Holiday_Flag</th>\n",
       "      <th>Temperature</th>\n",
       "      <th>Fuel_Price</th>\n",
       "      <th>CPI</th>\n",
       "      <th>Unemployment</th>\n",
       "    </tr>\n",
       "  </thead>\n",
       "  <tbody>\n",
       "    <tr>\n",
       "      <th>0</th>\n",
       "      <td>1</td>\n",
       "      <td>05-02-2010</td>\n",
       "      <td>1643690.90</td>\n",
       "      <td>0</td>\n",
       "      <td>42.31</td>\n",
       "      <td>2.572</td>\n",
       "      <td>211.096358</td>\n",
       "      <td>8.106</td>\n",
       "    </tr>\n",
       "    <tr>\n",
       "      <th>1</th>\n",
       "      <td>1</td>\n",
       "      <td>12-02-2010</td>\n",
       "      <td>1641957.44</td>\n",
       "      <td>1</td>\n",
       "      <td>38.51</td>\n",
       "      <td>2.548</td>\n",
       "      <td>211.242170</td>\n",
       "      <td>8.106</td>\n",
       "    </tr>\n",
       "    <tr>\n",
       "      <th>2</th>\n",
       "      <td>1</td>\n",
       "      <td>19-02-2010</td>\n",
       "      <td>1611968.17</td>\n",
       "      <td>0</td>\n",
       "      <td>39.93</td>\n",
       "      <td>2.514</td>\n",
       "      <td>211.289143</td>\n",
       "      <td>8.106</td>\n",
       "    </tr>\n",
       "    <tr>\n",
       "      <th>3</th>\n",
       "      <td>1</td>\n",
       "      <td>26-02-2010</td>\n",
       "      <td>1409727.59</td>\n",
       "      <td>0</td>\n",
       "      <td>46.63</td>\n",
       "      <td>2.561</td>\n",
       "      <td>211.319643</td>\n",
       "      <td>8.106</td>\n",
       "    </tr>\n",
       "    <tr>\n",
       "      <th>4</th>\n",
       "      <td>1</td>\n",
       "      <td>05-03-2010</td>\n",
       "      <td>1554806.68</td>\n",
       "      <td>0</td>\n",
       "      <td>46.5</td>\n",
       "      <td>2.625</td>\n",
       "      <td>211.350143</td>\n",
       "      <td>8.106</td>\n",
       "    </tr>\n",
       "  </tbody>\n",
       "</table>\n",
       "</div>"
      ],
      "text/plain": [
       "   Store        Date  Weekly_Sales  Holiday_Flag Temperature  Fuel_Price  \\\n",
       "0      1  05-02-2010    1643690.90             0       42.31       2.572   \n",
       "1      1  12-02-2010    1641957.44             1       38.51       2.548   \n",
       "2      1  19-02-2010    1611968.17             0       39.93       2.514   \n",
       "3      1  26-02-2010    1409727.59             0       46.63       2.561   \n",
       "4      1  05-03-2010    1554806.68             0        46.5       2.625   \n",
       "\n",
       "          CPI  Unemployment  \n",
       "0  211.096358         8.106  \n",
       "1  211.242170         8.106  \n",
       "2  211.289143         8.106  \n",
       "3  211.319643         8.106  \n",
       "4  211.350143         8.106  "
      ]
     },
     "execution_count": 220,
     "metadata": {},
     "output_type": "execute_result"
    }
   ],
   "source": [
    "import pandas as pd\n",
    "df = pd.read_csv('https://raw.githubusercontent.com/Datamanim/datarepo/main/krdatacertificate/e4_p1_1.csv')\n",
    "df.head(5)"
   ]
  },
  {
   "cell_type": "markdown",
   "metadata": {},
   "source": [
    "### 1. Temperature컬럼에서 숫자가 아닌 문자들을 제거후 숫자 타입으로 바꾸고 3분위수에서 1분위수의 차이를 소숫점 이하 2자리까지 구하여라"
   ]
  },
  {
   "cell_type": "code",
   "execution_count": 228,
   "metadata": {},
   "outputs": [
    {
     "name": "stderr",
     "output_type": "stream",
     "text": [
      "/var/folders/fd/1n9xc_8d2d51bf04p61cdylw0000gn/T/ipykernel_53017/544598902.py:1: FutureWarning: The default value of regex will change from True to False in a future version. In addition, single character regular expressions will *not* be treated as literal strings when regex=True.\n",
      "  df['Temperature'] = df.Temperature.str.replace('*','').astype(float)\n"
     ]
    },
    {
     "data": {
      "text/plain": [
       "27.48"
      ]
     },
     "execution_count": 228,
     "metadata": {},
     "output_type": "execute_result"
    }
   ],
   "source": [
    "df['Temperature'] = df.Temperature.str.replace('*','').astype(float)\n",
    "\n",
    "round(df.Temperature.quantile(0.75) - df.Temperature.quantile(0.25),2)"
   ]
  },
  {
   "cell_type": "markdown",
   "metadata": {},
   "source": [
    "### 2. Likes를 Comments로 나눈 비율이 20이상이면서 Keyword값이 minecraft인 영상들의 Views값의 평균을 정수로 구하여라"
   ]
  },
  {
   "cell_type": "code",
   "execution_count": 229,
   "metadata": {},
   "outputs": [
    {
     "data": {
      "text/html": [
       "<div>\n",
       "<style scoped>\n",
       "    .dataframe tbody tr th:only-of-type {\n",
       "        vertical-align: middle;\n",
       "    }\n",
       "\n",
       "    .dataframe tbody tr th {\n",
       "        vertical-align: top;\n",
       "    }\n",
       "\n",
       "    .dataframe thead th {\n",
       "        text-align: right;\n",
       "    }\n",
       "</style>\n",
       "<table border=\"1\" class=\"dataframe\">\n",
       "  <thead>\n",
       "    <tr style=\"text-align: right;\">\n",
       "      <th></th>\n",
       "      <th>Title</th>\n",
       "      <th>Video ID</th>\n",
       "      <th>Published At</th>\n",
       "      <th>Keyword</th>\n",
       "      <th>Likes</th>\n",
       "      <th>Comments</th>\n",
       "      <th>Views</th>\n",
       "    </tr>\n",
       "  </thead>\n",
       "  <tbody>\n",
       "    <tr>\n",
       "      <th>0</th>\n",
       "      <td>Apple Pay Is Killing the Physical Wallet After...</td>\n",
       "      <td>wAZZ-UWGVHI</td>\n",
       "      <td>2022-08-23</td>\n",
       "      <td>tech</td>\n",
       "      <td>3407.0</td>\n",
       "      <td>672.0</td>\n",
       "      <td>135612.0</td>\n",
       "    </tr>\n",
       "    <tr>\n",
       "      <th>1</th>\n",
       "      <td>The most EXPENSIVE thing I own.</td>\n",
       "      <td>b3x28s61q3c</td>\n",
       "      <td>2022-08-24</td>\n",
       "      <td>tech</td>\n",
       "      <td>76779.0</td>\n",
       "      <td>4306.0</td>\n",
       "      <td>1758063.0</td>\n",
       "    </tr>\n",
       "    <tr>\n",
       "      <th>2</th>\n",
       "      <td>My New House Gaming Setup is SICK!</td>\n",
       "      <td>4mgePWWCAmA</td>\n",
       "      <td>2022-08-23</td>\n",
       "      <td>tech</td>\n",
       "      <td>63825.0</td>\n",
       "      <td>3338.0</td>\n",
       "      <td>1564007.0</td>\n",
       "    </tr>\n",
       "    <tr>\n",
       "      <th>3</th>\n",
       "      <td>Petrol Vs Liquid Nitrogen | Freezing Experimen...</td>\n",
       "      <td>kXiYSI7H2b0</td>\n",
       "      <td>2022-08-23</td>\n",
       "      <td>tech</td>\n",
       "      <td>71566.0</td>\n",
       "      <td>1426.0</td>\n",
       "      <td>922918.0</td>\n",
       "    </tr>\n",
       "    <tr>\n",
       "      <th>4</th>\n",
       "      <td>Best Back to School Tech 2022!</td>\n",
       "      <td>ErMwWXQxHp0</td>\n",
       "      <td>2022-08-08</td>\n",
       "      <td>tech</td>\n",
       "      <td>96513.0</td>\n",
       "      <td>5155.0</td>\n",
       "      <td>1855644.0</td>\n",
       "    </tr>\n",
       "  </tbody>\n",
       "</table>\n",
       "</div>"
      ],
      "text/plain": [
       "                                               Title     Video ID  \\\n",
       "0  Apple Pay Is Killing the Physical Wallet After...  wAZZ-UWGVHI   \n",
       "1                    The most EXPENSIVE thing I own.  b3x28s61q3c   \n",
       "2                 My New House Gaming Setup is SICK!  4mgePWWCAmA   \n",
       "3  Petrol Vs Liquid Nitrogen | Freezing Experimen...  kXiYSI7H2b0   \n",
       "4                     Best Back to School Tech 2022!  ErMwWXQxHp0   \n",
       "\n",
       "  Published At Keyword    Likes  Comments      Views  \n",
       "0   2022-08-23    tech   3407.0     672.0   135612.0  \n",
       "1   2022-08-24    tech  76779.0    4306.0  1758063.0  \n",
       "2   2022-08-23    tech  63825.0    3338.0  1564007.0  \n",
       "3   2022-08-23    tech  71566.0    1426.0   922918.0  \n",
       "4   2022-08-08    tech  96513.0    5155.0  1855644.0  "
      ]
     },
     "execution_count": 229,
     "metadata": {},
     "output_type": "execute_result"
    }
   ],
   "source": [
    "import pandas as pd\n",
    "df = pd.read_csv('https://raw.githubusercontent.com/Datamanim/datarepo/main/krdatacertificate/e4_p1_2.csv')\n",
    "df.head(5)"
   ]
  },
  {
   "cell_type": "code",
   "execution_count": 232,
   "metadata": {},
   "outputs": [
    {
     "data": {
      "text/plain": [
       "1789084"
      ]
     },
     "execution_count": 232,
     "metadata": {},
     "output_type": "execute_result"
    }
   ],
   "source": [
    "df['ratio'] = df['Likes'] / df['Comments']\n",
    "int(df[(df['ratio'] >= 20) & (df['Keyword'] == 'minecraft') ].Views.mean())"
   ]
  },
  {
   "cell_type": "markdown",
   "metadata": {},
   "source": [
    "### 3. date_added가 2018년 1월 이면서 country가 United Kingdom 단독 제작인 데이터의 갯수"
   ]
  },
  {
   "cell_type": "code",
   "execution_count": 233,
   "metadata": {},
   "outputs": [
    {
     "data": {
      "text/html": [
       "<div>\n",
       "<style scoped>\n",
       "    .dataframe tbody tr th:only-of-type {\n",
       "        vertical-align: middle;\n",
       "    }\n",
       "\n",
       "    .dataframe tbody tr th {\n",
       "        vertical-align: top;\n",
       "    }\n",
       "\n",
       "    .dataframe thead th {\n",
       "        text-align: right;\n",
       "    }\n",
       "</style>\n",
       "<table border=\"1\" class=\"dataframe\">\n",
       "  <thead>\n",
       "    <tr style=\"text-align: right;\">\n",
       "      <th></th>\n",
       "      <th>show_id</th>\n",
       "      <th>type</th>\n",
       "      <th>title</th>\n",
       "      <th>director</th>\n",
       "      <th>cast</th>\n",
       "      <th>country</th>\n",
       "      <th>date_added</th>\n",
       "      <th>release_year</th>\n",
       "      <th>rating</th>\n",
       "      <th>duration</th>\n",
       "      <th>listed_in</th>\n",
       "      <th>description</th>\n",
       "    </tr>\n",
       "  </thead>\n",
       "  <tbody>\n",
       "    <tr>\n",
       "      <th>0</th>\n",
       "      <td>s1</td>\n",
       "      <td>Movie</td>\n",
       "      <td>Dick Johnson Is Dead</td>\n",
       "      <td>Kirsten Johnson</td>\n",
       "      <td>NaN</td>\n",
       "      <td>United States</td>\n",
       "      <td>September 25, 2021</td>\n",
       "      <td>2020</td>\n",
       "      <td>PG-13</td>\n",
       "      <td>90 min</td>\n",
       "      <td>Documentaries</td>\n",
       "      <td>As her father nears the end of his life, filmm...</td>\n",
       "    </tr>\n",
       "    <tr>\n",
       "      <th>1</th>\n",
       "      <td>s2</td>\n",
       "      <td>TV Show</td>\n",
       "      <td>Blood &amp; Water</td>\n",
       "      <td>NaN</td>\n",
       "      <td>Ama Qamata, Khosi Ngema, Gail Mabalane, Thaban...</td>\n",
       "      <td>South Africa</td>\n",
       "      <td>September 24, 2021</td>\n",
       "      <td>2021</td>\n",
       "      <td>TV-MA</td>\n",
       "      <td>2 Seasons</td>\n",
       "      <td>International TV Shows, TV Dramas, TV Mysteries</td>\n",
       "      <td>After crossing paths at a party, a Cape Town t...</td>\n",
       "    </tr>\n",
       "    <tr>\n",
       "      <th>2</th>\n",
       "      <td>s3</td>\n",
       "      <td>TV Show</td>\n",
       "      <td>Ganglands</td>\n",
       "      <td>Julien Leclercq</td>\n",
       "      <td>Sami Bouajila, Tracy Gotoas, Samuel Jouy, Nabi...</td>\n",
       "      <td>NaN</td>\n",
       "      <td>September 24, 2021</td>\n",
       "      <td>2021</td>\n",
       "      <td>TV-MA</td>\n",
       "      <td>1 Season</td>\n",
       "      <td>Crime TV Shows, International TV Shows, TV Act...</td>\n",
       "      <td>To protect his family from a powerful drug lor...</td>\n",
       "    </tr>\n",
       "    <tr>\n",
       "      <th>3</th>\n",
       "      <td>s4</td>\n",
       "      <td>TV Show</td>\n",
       "      <td>Jailbirds New Orleans</td>\n",
       "      <td>NaN</td>\n",
       "      <td>NaN</td>\n",
       "      <td>NaN</td>\n",
       "      <td>September 24, 2021</td>\n",
       "      <td>2021</td>\n",
       "      <td>TV-MA</td>\n",
       "      <td>1 Season</td>\n",
       "      <td>Docuseries, Reality TV</td>\n",
       "      <td>Feuds, flirtations and toilet talk go down amo...</td>\n",
       "    </tr>\n",
       "    <tr>\n",
       "      <th>4</th>\n",
       "      <td>s5</td>\n",
       "      <td>TV Show</td>\n",
       "      <td>Kota Factory</td>\n",
       "      <td>NaN</td>\n",
       "      <td>Mayur More, Jitendra Kumar, Ranjan Raj, Alam K...</td>\n",
       "      <td>India</td>\n",
       "      <td>September 24, 2021</td>\n",
       "      <td>2021</td>\n",
       "      <td>TV-MA</td>\n",
       "      <td>2 Seasons</td>\n",
       "      <td>International TV Shows, Romantic TV Shows, TV ...</td>\n",
       "      <td>In a city of coaching centers known to train I...</td>\n",
       "    </tr>\n",
       "  </tbody>\n",
       "</table>\n",
       "</div>"
      ],
      "text/plain": [
       "  show_id     type                  title         director  \\\n",
       "0      s1    Movie   Dick Johnson Is Dead  Kirsten Johnson   \n",
       "1      s2  TV Show          Blood & Water              NaN   \n",
       "2      s3  TV Show              Ganglands  Julien Leclercq   \n",
       "3      s4  TV Show  Jailbirds New Orleans              NaN   \n",
       "4      s5  TV Show           Kota Factory              NaN   \n",
       "\n",
       "                                                cast        country  \\\n",
       "0                                                NaN  United States   \n",
       "1  Ama Qamata, Khosi Ngema, Gail Mabalane, Thaban...   South Africa   \n",
       "2  Sami Bouajila, Tracy Gotoas, Samuel Jouy, Nabi...            NaN   \n",
       "3                                                NaN            NaN   \n",
       "4  Mayur More, Jitendra Kumar, Ranjan Raj, Alam K...          India   \n",
       "\n",
       "           date_added  release_year rating   duration  \\\n",
       "0  September 25, 2021          2020  PG-13     90 min   \n",
       "1  September 24, 2021          2021  TV-MA  2 Seasons   \n",
       "2  September 24, 2021          2021  TV-MA   1 Season   \n",
       "3  September 24, 2021          2021  TV-MA   1 Season   \n",
       "4  September 24, 2021          2021  TV-MA  2 Seasons   \n",
       "\n",
       "                                           listed_in  \\\n",
       "0                                      Documentaries   \n",
       "1    International TV Shows, TV Dramas, TV Mysteries   \n",
       "2  Crime TV Shows, International TV Shows, TV Act...   \n",
       "3                             Docuseries, Reality TV   \n",
       "4  International TV Shows, Romantic TV Shows, TV ...   \n",
       "\n",
       "                                         description  \n",
       "0  As her father nears the end of his life, filmm...  \n",
       "1  After crossing paths at a party, a Cape Town t...  \n",
       "2  To protect his family from a powerful drug lor...  \n",
       "3  Feuds, flirtations and toilet talk go down amo...  \n",
       "4  In a city of coaching centers known to train I...  "
      ]
     },
     "execution_count": 233,
     "metadata": {},
     "output_type": "execute_result"
    }
   ],
   "source": [
    "import pandas as pd\n",
    "df = pd.read_csv('https://raw.githubusercontent.com/Datamanim/datarepo/main/krdatacertificate/e4_p1_3.csv')\n",
    "df.head(5)"
   ]
  },
  {
   "cell_type": "code",
   "execution_count": 256,
   "metadata": {},
   "outputs": [
    {
     "data": {
      "text/plain": [
       "6"
      ]
     },
     "execution_count": 256,
     "metadata": {},
     "output_type": "execute_result"
    }
   ],
   "source": [
    "df['date'] = pd.to_datetime(df.date_added)\n",
    "num_3 = df[(df['date'].dt.year == 2018) & (df['date'].dt.month == 1) & (df['country'] == 'United Kingdom')]\n",
    "len(num_3)"
   ]
  },
  {
   "cell_type": "markdown",
   "metadata": {},
   "source": [
    "## 2유형"
   ]
  },
  {
   "cell_type": "markdown",
   "metadata": {},
   "source": [
    "예측 변수 Segmentation, test.csv에 대해 ID별로 Segmentation의 클래스를 예측해서 저장후 제출, 제출 데이터 컬럼은 ID와 Segmentation 두개만 존재해야함. 평가지표는 macro f1 score"
   ]
  },
  {
   "cell_type": "code",
   "execution_count": 307,
   "metadata": {},
   "outputs": [
    {
     "data": {
      "text/html": [
       "<div>\n",
       "<style scoped>\n",
       "    .dataframe tbody tr th:only-of-type {\n",
       "        vertical-align: middle;\n",
       "    }\n",
       "\n",
       "    .dataframe tbody tr th {\n",
       "        vertical-align: top;\n",
       "    }\n",
       "\n",
       "    .dataframe thead th {\n",
       "        text-align: right;\n",
       "    }\n",
       "</style>\n",
       "<table border=\"1\" class=\"dataframe\">\n",
       "  <thead>\n",
       "    <tr style=\"text-align: right;\">\n",
       "      <th></th>\n",
       "      <th>ID</th>\n",
       "      <th>Gender</th>\n",
       "      <th>Ever_Married</th>\n",
       "      <th>Age</th>\n",
       "      <th>Graduated</th>\n",
       "      <th>Profession</th>\n",
       "      <th>Work_Experience</th>\n",
       "      <th>Spending_Score</th>\n",
       "      <th>Family_Size</th>\n",
       "      <th>Var_1</th>\n",
       "      <th>Segmentation</th>\n",
       "    </tr>\n",
       "  </thead>\n",
       "  <tbody>\n",
       "    <tr>\n",
       "      <th>0</th>\n",
       "      <td>464357</td>\n",
       "      <td>Male</td>\n",
       "      <td>No</td>\n",
       "      <td>40</td>\n",
       "      <td>Yes</td>\n",
       "      <td>Artist</td>\n",
       "      <td>7.0</td>\n",
       "      <td>Low</td>\n",
       "      <td>1.0</td>\n",
       "      <td>Cat_6</td>\n",
       "      <td>A</td>\n",
       "    </tr>\n",
       "    <tr>\n",
       "      <th>1</th>\n",
       "      <td>459624</td>\n",
       "      <td>Male</td>\n",
       "      <td>No</td>\n",
       "      <td>18</td>\n",
       "      <td>No</td>\n",
       "      <td>Healthcare</td>\n",
       "      <td>NaN</td>\n",
       "      <td>Low</td>\n",
       "      <td>5.0</td>\n",
       "      <td>Cat_4</td>\n",
       "      <td>D</td>\n",
       "    </tr>\n",
       "  </tbody>\n",
       "</table>\n",
       "</div>"
      ],
      "text/plain": [
       "       ID Gender Ever_Married  Age Graduated  Profession  Work_Experience  \\\n",
       "0  464357   Male           No   40       Yes      Artist              7.0   \n",
       "1  459624   Male           No   18        No  Healthcare              NaN   \n",
       "\n",
       "  Spending_Score  Family_Size  Var_1 Segmentation  \n",
       "0            Low          1.0  Cat_6            A  \n",
       "1            Low          5.0  Cat_4            D  "
      ]
     },
     "metadata": {},
     "output_type": "display_data"
    },
    {
     "data": {
      "text/html": [
       "<div>\n",
       "<style scoped>\n",
       "    .dataframe tbody tr th:only-of-type {\n",
       "        vertical-align: middle;\n",
       "    }\n",
       "\n",
       "    .dataframe tbody tr th {\n",
       "        vertical-align: top;\n",
       "    }\n",
       "\n",
       "    .dataframe thead th {\n",
       "        text-align: right;\n",
       "    }\n",
       "</style>\n",
       "<table border=\"1\" class=\"dataframe\">\n",
       "  <thead>\n",
       "    <tr style=\"text-align: right;\">\n",
       "      <th></th>\n",
       "      <th>ID</th>\n",
       "      <th>Gender</th>\n",
       "      <th>Ever_Married</th>\n",
       "      <th>Age</th>\n",
       "      <th>Graduated</th>\n",
       "      <th>Profession</th>\n",
       "      <th>Work_Experience</th>\n",
       "      <th>Spending_Score</th>\n",
       "      <th>Family_Size</th>\n",
       "      <th>Var_1</th>\n",
       "    </tr>\n",
       "  </thead>\n",
       "  <tbody>\n",
       "    <tr>\n",
       "      <th>0</th>\n",
       "      <td>460406</td>\n",
       "      <td>Male</td>\n",
       "      <td>Yes</td>\n",
       "      <td>36</td>\n",
       "      <td>Yes</td>\n",
       "      <td>Healthcare</td>\n",
       "      <td>3.0</td>\n",
       "      <td>Low</td>\n",
       "      <td>2.0</td>\n",
       "      <td>Cat_6</td>\n",
       "    </tr>\n",
       "    <tr>\n",
       "      <th>1</th>\n",
       "      <td>466890</td>\n",
       "      <td>Male</td>\n",
       "      <td>Yes</td>\n",
       "      <td>47</td>\n",
       "      <td>Yes</td>\n",
       "      <td>Artist</td>\n",
       "      <td>0.0</td>\n",
       "      <td>Average</td>\n",
       "      <td>6.0</td>\n",
       "      <td>Cat_7</td>\n",
       "    </tr>\n",
       "  </tbody>\n",
       "</table>\n",
       "</div>"
      ],
      "text/plain": [
       "       ID Gender Ever_Married  Age Graduated  Profession  Work_Experience  \\\n",
       "0  460406   Male          Yes   36       Yes  Healthcare              3.0   \n",
       "1  466890   Male          Yes   47       Yes      Artist              0.0   \n",
       "\n",
       "  Spending_Score  Family_Size  Var_1  \n",
       "0            Low          2.0  Cat_6  \n",
       "1        Average          6.0  Cat_7  "
      ]
     },
     "execution_count": 307,
     "metadata": {},
     "output_type": "execute_result"
    }
   ],
   "source": [
    "import pandas as pd\n",
    "train = pd.read_csv('https://raw.githubusercontent.com/Datamanim/datarepo/main/krdatacertificate/e4_p2_train.csv')\n",
    "test = pd.read_csv('https://raw.githubusercontent.com/Datamanim/datarepo/main/krdatacertificate/e4_p2_test.csv')\n",
    "\n",
    "display(train.head(2))\n",
    "test.head(2)"
   ]
  },
  {
   "cell_type": "code",
   "execution_count": 258,
   "metadata": {},
   "outputs": [
    {
     "data": {
      "text/plain": [
       "ID                 4410\n",
       "Gender                2\n",
       "Ever_Married          2\n",
       "Age                  67\n",
       "Graduated             2\n",
       "Profession            9\n",
       "Work_Experience      15\n",
       "Spending_Score        3\n",
       "Family_Size           9\n",
       "Var_1                 7\n",
       "Segmentation          4\n",
       "dtype: int64"
      ]
     },
     "execution_count": 258,
     "metadata": {},
     "output_type": "execute_result"
    }
   ],
   "source": [
    "train.nunique()"
   ]
  },
  {
   "cell_type": "code",
   "execution_count": 259,
   "metadata": {},
   "outputs": [
    {
     "data": {
      "text/plain": [
       "ID                 1488\n",
       "Gender                2\n",
       "Ever_Married          2\n",
       "Age                  67\n",
       "Graduated             2\n",
       "Profession            9\n",
       "Work_Experience      15\n",
       "Spending_Score        3\n",
       "Family_Size           9\n",
       "Var_1                 7\n",
       "dtype: int64"
      ]
     },
     "execution_count": 259,
     "metadata": {},
     "output_type": "execute_result"
    }
   ],
   "source": [
    "test.nunique()"
   ]
  },
  {
   "cell_type": "code",
   "execution_count": 260,
   "metadata": {},
   "outputs": [
    {
     "data": {
      "text/plain": [
       "ID                   0\n",
       "Gender               0\n",
       "Ever_Married        96\n",
       "Age                  0\n",
       "Graduated           51\n",
       "Profession          64\n",
       "Work_Experience    513\n",
       "Spending_Score       0\n",
       "Family_Size        192\n",
       "Var_1               50\n",
       "Segmentation         0\n",
       "dtype: int64"
      ]
     },
     "execution_count": 260,
     "metadata": {},
     "output_type": "execute_result"
    }
   ],
   "source": [
    "train.isnull().sum()"
   ]
  },
  {
   "cell_type": "code",
   "execution_count": 262,
   "metadata": {},
   "outputs": [
    {
     "data": {
      "text/plain": [
       "ID                   0\n",
       "Gender               0\n",
       "Ever_Married        22\n",
       "Age                  0\n",
       "Graduated           16\n",
       "Profession          23\n",
       "Work_Experience    142\n",
       "Spending_Score       0\n",
       "Family_Size         68\n",
       "Var_1               12\n",
       "dtype: int64"
      ]
     },
     "execution_count": 262,
     "metadata": {},
     "output_type": "execute_result"
    }
   ],
   "source": [
    "test.isnull().sum()"
   ]
  },
  {
   "cell_type": "code",
   "execution_count": 299,
   "metadata": {},
   "outputs": [
    {
     "data": {
      "text/plain": [
       "Cat_6    3158\n",
       "Cat_4     646\n",
       "Cat_3     520\n",
       "Cat_2     248\n",
       "Cat_7     114\n",
       "Cat_1      89\n",
       "Cat_5      56\n",
       "Name: Var_1, dtype: int64"
      ]
     },
     "execution_count": 299,
     "metadata": {},
     "output_type": "execute_result"
    }
   ],
   "source": [
    "train.Var_1.value_counts()"
   ]
  },
  {
   "cell_type": "code",
   "execution_count": 310,
   "metadata": {},
   "outputs": [],
   "source": [
    "# 결측치 채우기\n",
    "\n",
    "train.Ever_Married = train.Ever_Married.fillna(train.Ever_Married.value_counts().index[0])\n",
    "train.Graduated = train.Graduated.fillna(train.Graduated.value_counts().index[0])\n",
    "train.Profession = train.Profession.fillna(train.Profession.value_counts().index[0])\n",
    "train.Work_Experience = train.Work_Experience.fillna(train.Work_Experience.median())\n",
    "train.Family_Size = train.Family_Size.fillna(train.Family_Size.median())\n",
    "train.Var_1 = train.Var_1.fillna(train.Var_1.value_counts().index[0])\n"
   ]
  },
  {
   "cell_type": "code",
   "execution_count": 311,
   "metadata": {},
   "outputs": [],
   "source": [
    "X_train = train.drop(['ID','Segmentation'],axis=1)\n",
    "y_train = train['Segmentation']\n",
    "X_test = test.drop('ID', axis=1)\n",
    "\n",
    "X_train_dum = pd.get_dummies(X_train)\n",
    "X_test_dum = pd.get_dummies(X_test)"
   ]
  },
  {
   "cell_type": "code",
   "execution_count": 312,
   "metadata": {},
   "outputs": [],
   "source": [
    "from sklearn.model_selection import train_test_split\n",
    "from sklearn.ensemble import RandomForestClassifier\n",
    "\n",
    "X_train, X_val, y_train, y_val = train_test_split(X_train_dum, y_train)\n",
    "rf = RandomForestClassifier()\n",
    "\n",
    "rf.fit(X_train, y_train)\n",
    "\n",
    "y_val_predict = rf.predict(X_val)\n"
   ]
  },
  {
   "cell_type": "code",
   "execution_count": 315,
   "metadata": {},
   "outputs": [
    {
     "data": {
      "text/plain": [
       "0.39608737131818295"
      ]
     },
     "execution_count": 315,
     "metadata": {},
     "output_type": "execute_result"
    }
   ],
   "source": [
    "from sklearn.metrics import f1_score\n",
    "\n",
    "f1_score(y_val, y_val_predict,average='macro')"
   ]
  },
  {
   "cell_type": "markdown",
   "metadata": {},
   "source": [
    "## 3유형"
   ]
  },
  {
   "cell_type": "code",
   "execution_count": 316,
   "metadata": {},
   "outputs": [
    {
     "data": {
      "text/html": [
       "<div>\n",
       "<style scoped>\n",
       "    .dataframe tbody tr th:only-of-type {\n",
       "        vertical-align: middle;\n",
       "    }\n",
       "\n",
       "    .dataframe tbody tr th {\n",
       "        vertical-align: top;\n",
       "    }\n",
       "\n",
       "    .dataframe thead th {\n",
       "        text-align: right;\n",
       "    }\n",
       "</style>\n",
       "<table border=\"1\" class=\"dataframe\">\n",
       "  <thead>\n",
       "    <tr style=\"text-align: right;\">\n",
       "      <th></th>\n",
       "      <th>학번</th>\n",
       "      <th>학과</th>\n",
       "      <th>성별</th>\n",
       "    </tr>\n",
       "  </thead>\n",
       "  <tbody>\n",
       "    <tr>\n",
       "      <th>0</th>\n",
       "      <td>DFSKJK_1</td>\n",
       "      <td>경영학과</td>\n",
       "      <td>여</td>\n",
       "    </tr>\n",
       "    <tr>\n",
       "      <th>1</th>\n",
       "      <td>DFSKJK_2</td>\n",
       "      <td>사회학과</td>\n",
       "      <td>여</td>\n",
       "    </tr>\n",
       "    <tr>\n",
       "      <th>2</th>\n",
       "      <td>DFSKJK_3</td>\n",
       "      <td>기계공학과</td>\n",
       "      <td>여</td>\n",
       "    </tr>\n",
       "    <tr>\n",
       "      <th>3</th>\n",
       "      <td>DFSKJK_4</td>\n",
       "      <td>경제학과</td>\n",
       "      <td>남</td>\n",
       "    </tr>\n",
       "    <tr>\n",
       "      <th>4</th>\n",
       "      <td>DFSKJK_5</td>\n",
       "      <td>기계공학과</td>\n",
       "      <td>여</td>\n",
       "    </tr>\n",
       "  </tbody>\n",
       "</table>\n",
       "</div>"
      ],
      "text/plain": [
       "         학번     학과 성별\n",
       "0  DFSKJK_1   경영학과  여\n",
       "1  DFSKJK_2   사회학과  여\n",
       "2  DFSKJK_3  기계공학과  여\n",
       "3  DFSKJK_4   경제학과  남\n",
       "4  DFSKJK_5  기계공학과  여"
      ]
     },
     "execution_count": 316,
     "metadata": {},
     "output_type": "execute_result"
    }
   ],
   "source": [
    "import pandas as pd \n",
    "df= pd.read_csv('https://raw.githubusercontent.com/Datamanim/datarepo/main/krdatacertificate/e4_p3_1_.csv')\n",
    "df.head()"
   ]
  },
  {
   "cell_type": "markdown",
   "metadata": {},
   "source": [
    "### 1. 학과 평균 인원에 대한 값을 소숫점 이하 3자리까지 구하여라"
   ]
  },
  {
   "cell_type": "code",
   "execution_count": 319,
   "metadata": {},
   "outputs": [
    {
     "data": {
      "text/plain": [
       "170.333"
      ]
     },
     "execution_count": 319,
     "metadata": {},
     "output_type": "execute_result"
    }
   ],
   "source": [
    "num_1 = df.학과.value_counts()\n",
    "round(num_1.mean(),3)"
   ]
  },
  {
   "cell_type": "markdown",
   "metadata": {},
   "source": [
    "### 2. 카이제곱검정 독립성 검정 통계량을 소숫점 이하 3자리까지 구하여라"
   ]
  },
  {
   "cell_type": "markdown",
   "metadata": {},
   "source": [
    "data <- read.csv('https://raw.githubusercontent.com/Datamanim/datarepo/main/krdatacertificate/e4_p3_1_.csv')  \n",
    "chisq.test(x=data$학과, y = data$성별)  "
   ]
  },
  {
   "cell_type": "markdown",
   "metadata": {},
   "source": [
    "### 3. 어느 학교에서 수학 시험을 본 학생 100명 중 60명이 60점 이상을 받았다. 이 학교의 수학 시험의 평균 점수가 50점 이상인지 95%의 신뢰 수준에서 검정하려한다.\n",
    "- 검정 통계량을 소숫점 이하 3자리에서 구하시오.\n",
    "- pvalue를 소숫점 이하 3자리까지 구하고 귀무가설과 대립가설중 유의한 것을 출력하라."
   ]
  },
  {
   "cell_type": "markdown",
   "metadata": {},
   "source": [
    "$ Z = \\frac{\\^p-p_0}{\\sqrt{\\frac{p_0(1-p_0)}{n}}}$"
   ]
  },
  {
   "cell_type": "code",
   "execution_count": 321,
   "metadata": {},
   "outputs": [
    {
     "data": {
      "text/plain": [
       "2.0"
      ]
     },
     "execution_count": 321,
     "metadata": {},
     "output_type": "execute_result"
    }
   ],
   "source": [
    "n = 100\n",
    "p_hat = 0.6\n",
    "p_0 = 0.5\n",
    "alpha = 0.5\n",
    "\n",
    "Z = round((0.6 - 0.5) / np.sqrt((0.5*0.5)/100),3)\n",
    "Z"
   ]
  },
  {
   "cell_type": "code",
   "execution_count": 322,
   "metadata": {},
   "outputs": [
    {
     "data": {
      "text/plain": [
       "0.023"
      ]
     },
     "execution_count": 322,
     "metadata": {},
     "output_type": "execute_result"
    }
   ],
   "source": [
    "import scipy.stats as stats\n",
    "p_value = round(1 - stats.norm.cdf(Z),3)\n",
    "p_value"
   ]
  },
  {
   "cell_type": "markdown",
   "metadata": {},
   "source": [
    "# 모의고사 1회차"
   ]
  },
  {
   "cell_type": "markdown",
   "metadata": {},
   "source": [
    "## 1유형"
   ]
  },
  {
   "cell_type": "code",
   "execution_count": 125,
   "metadata": {},
   "outputs": [],
   "source": [
    "import pandas as pd\n",
    "df = pd.read_csv('https://raw.githubusercontent.com/Datamanim/datarepo/main/bank/train.csv')"
   ]
  },
  {
   "cell_type": "code",
   "execution_count": 61,
   "metadata": {},
   "outputs": [
    {
     "data": {
      "text/html": [
       "<div>\n",
       "<style scoped>\n",
       "    .dataframe tbody tr th:only-of-type {\n",
       "        vertical-align: middle;\n",
       "    }\n",
       "\n",
       "    .dataframe tbody tr th {\n",
       "        vertical-align: top;\n",
       "    }\n",
       "\n",
       "    .dataframe thead th {\n",
       "        text-align: right;\n",
       "    }\n",
       "</style>\n",
       "<table border=\"1\" class=\"dataframe\">\n",
       "  <thead>\n",
       "    <tr style=\"text-align: right;\">\n",
       "      <th></th>\n",
       "      <th>ID</th>\n",
       "      <th>age</th>\n",
       "      <th>job</th>\n",
       "      <th>marital</th>\n",
       "      <th>education</th>\n",
       "      <th>default</th>\n",
       "      <th>balance</th>\n",
       "      <th>housing</th>\n",
       "      <th>loan</th>\n",
       "      <th>contact</th>\n",
       "      <th>day</th>\n",
       "      <th>month</th>\n",
       "      <th>campaign</th>\n",
       "      <th>pdays</th>\n",
       "      <th>previous</th>\n",
       "      <th>poutcome</th>\n",
       "      <th>y</th>\n",
       "    </tr>\n",
       "  </thead>\n",
       "  <tbody>\n",
       "    <tr>\n",
       "      <th>0</th>\n",
       "      <td>13829</td>\n",
       "      <td>29</td>\n",
       "      <td>technician</td>\n",
       "      <td>single</td>\n",
       "      <td>tertiary</td>\n",
       "      <td>no</td>\n",
       "      <td>18254</td>\n",
       "      <td>no</td>\n",
       "      <td>no</td>\n",
       "      <td>cellular</td>\n",
       "      <td>11</td>\n",
       "      <td>may</td>\n",
       "      <td>2</td>\n",
       "      <td>-1</td>\n",
       "      <td>0</td>\n",
       "      <td>unknown</td>\n",
       "      <td>no</td>\n",
       "    </tr>\n",
       "    <tr>\n",
       "      <th>1</th>\n",
       "      <td>22677</td>\n",
       "      <td>26</td>\n",
       "      <td>services</td>\n",
       "      <td>single</td>\n",
       "      <td>secondary</td>\n",
       "      <td>no</td>\n",
       "      <td>512</td>\n",
       "      <td>yes</td>\n",
       "      <td>yes</td>\n",
       "      <td>unknown</td>\n",
       "      <td>5</td>\n",
       "      <td>jun</td>\n",
       "      <td>3</td>\n",
       "      <td>-1</td>\n",
       "      <td>0</td>\n",
       "      <td>unknown</td>\n",
       "      <td>no</td>\n",
       "    </tr>\n",
       "    <tr>\n",
       "      <th>2</th>\n",
       "      <td>10541</td>\n",
       "      <td>30</td>\n",
       "      <td>management</td>\n",
       "      <td>single</td>\n",
       "      <td>secondary</td>\n",
       "      <td>no</td>\n",
       "      <td>135</td>\n",
       "      <td>no</td>\n",
       "      <td>no</td>\n",
       "      <td>cellular</td>\n",
       "      <td>14</td>\n",
       "      <td>aug</td>\n",
       "      <td>2</td>\n",
       "      <td>-1</td>\n",
       "      <td>0</td>\n",
       "      <td>unknown</td>\n",
       "      <td>no</td>\n",
       "    </tr>\n",
       "    <tr>\n",
       "      <th>3</th>\n",
       "      <td>13689</td>\n",
       "      <td>41</td>\n",
       "      <td>technician</td>\n",
       "      <td>married</td>\n",
       "      <td>unknown</td>\n",
       "      <td>no</td>\n",
       "      <td>30</td>\n",
       "      <td>yes</td>\n",
       "      <td>no</td>\n",
       "      <td>cellular</td>\n",
       "      <td>10</td>\n",
       "      <td>jul</td>\n",
       "      <td>1</td>\n",
       "      <td>-1</td>\n",
       "      <td>0</td>\n",
       "      <td>unknown</td>\n",
       "      <td>no</td>\n",
       "    </tr>\n",
       "    <tr>\n",
       "      <th>4</th>\n",
       "      <td>11304</td>\n",
       "      <td>27</td>\n",
       "      <td>admin.</td>\n",
       "      <td>single</td>\n",
       "      <td>secondary</td>\n",
       "      <td>no</td>\n",
       "      <td>321</td>\n",
       "      <td>no</td>\n",
       "      <td>yes</td>\n",
       "      <td>unknown</td>\n",
       "      <td>2</td>\n",
       "      <td>sep</td>\n",
       "      <td>1</td>\n",
       "      <td>-1</td>\n",
       "      <td>0</td>\n",
       "      <td>unknown</td>\n",
       "      <td>no</td>\n",
       "    </tr>\n",
       "  </tbody>\n",
       "</table>\n",
       "</div>"
      ],
      "text/plain": [
       "      ID  age         job  marital  education default  balance housing loan  \\\n",
       "0  13829   29  technician   single   tertiary      no    18254      no   no   \n",
       "1  22677   26    services   single  secondary      no      512     yes  yes   \n",
       "2  10541   30  management   single  secondary      no      135      no   no   \n",
       "3  13689   41  technician  married    unknown      no       30     yes   no   \n",
       "4  11304   27      admin.   single  secondary      no      321      no  yes   \n",
       "\n",
       "    contact  day month  campaign  pdays  previous poutcome   y  \n",
       "0  cellular   11   may         2     -1         0  unknown  no  \n",
       "1   unknown    5   jun         3     -1         0  unknown  no  \n",
       "2  cellular   14   aug         2     -1         0  unknown  no  \n",
       "3  cellular   10   jul         1     -1         0  unknown  no  \n",
       "4   unknown    2   sep         1     -1         0  unknown  no  "
      ]
     },
     "execution_count": 61,
     "metadata": {},
     "output_type": "execute_result"
    }
   ],
   "source": [
    "df.head()"
   ]
  },
  {
   "cell_type": "markdown",
   "metadata": {},
   "source": [
    "### 1. 마케팅 응답 고객들의 나이를 10살 단위로 변환 했을 때, 가장 많은 인원을 가진 나이대는? (0~9 : 0 , 10~19 : 10)"
   ]
  },
  {
   "cell_type": "markdown",
   "metadata": {},
   "source": [
    "### 2. 마케팅 응답 고객들의 나이를 10살 단위로 변환 했을 때, 가장 많은 나이대 구간의 인원은 몇명인가?"
   ]
  },
  {
   "cell_type": "code",
   "execution_count": 62,
   "metadata": {},
   "outputs": [],
   "source": [
    "df['agecat'] = df.age.astype('str').str[:1]"
   ]
  },
  {
   "cell_type": "code",
   "execution_count": 63,
   "metadata": {},
   "outputs": [
    {
     "data": {
      "text/plain": [
       "9       6\n",
       "1      18\n",
       "8      57\n",
       "7     193\n",
       "6     460\n",
       "2    1638\n",
       "5    2244\n",
       "4    3198\n",
       "3    5056\n",
       "Name: agecat, dtype: int64"
      ]
     },
     "execution_count": 63,
     "metadata": {},
     "output_type": "execute_result"
    }
   ],
   "source": [
    "df.agecat.value_counts().sort_values()  \n",
    "# 30대가 가장 많다 (5056명)"
   ]
  },
  {
   "cell_type": "markdown",
   "metadata": {},
   "source": [
    "### 3. 나이가 25살 이상 29살 미만인 응답 고객들중 housing컬럼의 값이 yes인 고객의 수는?"
   ]
  },
  {
   "cell_type": "code",
   "execution_count": 64,
   "metadata": {},
   "outputs": [
    {
     "data": {
      "text/plain": [
       "504"
      ]
     },
     "execution_count": 64,
     "metadata": {},
     "output_type": "execute_result"
    }
   ],
   "source": [
    "len(df[(df.age >= 25) & (df.age < 29) & (df.housing == 'yes')])"
   ]
  },
  {
   "cell_type": "markdown",
   "metadata": {},
   "source": [
    "### 4. numeric한 값을 가지지 않은 컬럼들중 unique한 값을 가장 많이 가지는 컬럼은?"
   ]
  },
  {
   "cell_type": "code",
   "execution_count": 65,
   "metadata": {},
   "outputs": [
    {
     "name": "stdout",
     "output_type": "stream",
     "text": [
      "<class 'pandas.core.frame.DataFrame'>\n",
      "RangeIndex: 12870 entries, 0 to 12869\n",
      "Data columns (total 18 columns):\n",
      " #   Column     Non-Null Count  Dtype \n",
      "---  ------     --------------  ----- \n",
      " 0   ID         12870 non-null  int64 \n",
      " 1   age        12870 non-null  int64 \n",
      " 2   job        12870 non-null  object\n",
      " 3   marital    12870 non-null  object\n",
      " 4   education  12870 non-null  object\n",
      " 5   default    12870 non-null  object\n",
      " 6   balance    12870 non-null  int64 \n",
      " 7   housing    12870 non-null  object\n",
      " 8   loan       12870 non-null  object\n",
      " 9   contact    12870 non-null  object\n",
      " 10  day        12870 non-null  int64 \n",
      " 11  month      12870 non-null  object\n",
      " 12  campaign   12870 non-null  int64 \n",
      " 13  pdays      12870 non-null  int64 \n",
      " 14  previous   12870 non-null  int64 \n",
      " 15  poutcome   12870 non-null  object\n",
      " 16  y          12870 non-null  object\n",
      " 17  agecat     12870 non-null  object\n",
      "dtypes: int64(7), object(11)\n",
      "memory usage: 1.8+ MB\n"
     ]
    }
   ],
   "source": [
    "df.info()"
   ]
  },
  {
   "cell_type": "code",
   "execution_count": null,
   "metadata": {},
   "outputs": [
    {
     "data": {
      "text/plain": [
       "default       2\n",
       "housing       2\n",
       "loan          2\n",
       "y             2\n",
       "marital       3\n",
       "contact       3\n",
       "education     4\n",
       "poutcome      4\n",
       "job          12\n",
       "month        12\n",
       "dtype: int64"
      ]
     },
     "execution_count": 66,
     "metadata": {},
     "output_type": "execute_result"
    }
   ],
   "source": [
    "object_col = ['job','marital','education','default','housing','loan','contact','month','poutcome','y']\n",
    "\n",
    "df[object_col].nunique().sort_values()  # job,month"
   ]
  },
  {
   "cell_type": "markdown",
   "metadata": {},
   "source": [
    "### 5. balance 컬럼값들의 평균값 이상을 가지는 데이터를 ID값을 기준으로 내림차순 정렬했을때 상위 100개 데이터의 balance값의 평균은?"
   ]
  },
  {
   "cell_type": "code",
   "execution_count": 74,
   "metadata": {},
   "outputs": [
    {
     "data": {
      "text/plain": [
       "3473.73"
      ]
     },
     "execution_count": 74,
     "metadata": {},
     "output_type": "execute_result"
    }
   ],
   "source": [
    "num_5 = df[df.balance >= df.balance.mean()].sort_values('ID', ascending = False)[:100]\n",
    "num_5.balance.mean()"
   ]
  },
  {
   "cell_type": "markdown",
   "metadata": {},
   "source": [
    "### 6. 가장 많은 광고를 집행했던 날짜는 언제인가? (데이터 그대로 일(숫자),달(영문)으로 표기)\n",
    "\n"
   ]
  },
  {
   "cell_type": "code",
   "execution_count": 84,
   "metadata": {},
   "outputs": [
    {
     "data": {
      "text/plain": [
       "day  month\n",
       "15   may      301\n",
       "14   may      283\n",
       "13   may      257\n",
       "7    may      239\n",
       "21   nov      221\n",
       "             ... \n",
       "4    oct        1\n",
       "30   dec        1\n",
       "     aug        1\n",
       "19   mar        1\n",
       "21   jun        1\n",
       "Length: 303, dtype: int64"
      ]
     },
     "execution_count": 84,
     "metadata": {},
     "output_type": "execute_result"
    }
   ],
   "source": [
    "df.value_counts(['day','month'])"
   ]
  },
  {
   "cell_type": "markdown",
   "metadata": {},
   "source": [
    "### 7. 데이터의 job이 unknown 상태인 고객들의 age 컬럼 값의 정규성을 검정하고자 한다. 샤피로 검정의 p-value값을 구하여라"
   ]
  },
  {
   "cell_type": "markdown",
   "metadata": {},
   "source": [
    "data <- read.csv('https://raw.githubusercontent.com/Datamanim/datarepo/main/bank/train.csv')  \n",
    "\n",
    "df <- data[data$job=='unknown',]  \n",
    "shapiro.test(df$age)"
   ]
  },
  {
   "cell_type": "markdown",
   "metadata": {},
   "source": [
    "### 8. age와 balance의 상관계수를 구하여라"
   ]
  },
  {
   "cell_type": "code",
   "execution_count": 88,
   "metadata": {},
   "outputs": [
    {
     "name": "stderr",
     "output_type": "stream",
     "text": [
      "/var/folders/fd/1n9xc_8d2d51bf04p61cdylw0000gn/T/ipykernel_95701/2563718283.py:1: FutureWarning: The default value of numeric_only in DataFrame.corr is deprecated. In a future version, it will default to False. Select only valid columns or specify the value of numeric_only to silence this warning.\n",
      "  df.corr().loc['age','balance']\n"
     ]
    },
    {
     "data": {
      "text/plain": [
       "0.10198734763981462"
      ]
     },
     "execution_count": 88,
     "metadata": {},
     "output_type": "execute_result"
    }
   ],
   "source": [
    "df.corr().loc['age','balance']"
   ]
  },
  {
   "cell_type": "markdown",
   "metadata": {},
   "source": [
    "### 9 . y 변수와 education 변수는 독립인지 카이제곱검정을 통해 확인하려한다. p-value값을 출력하라"
   ]
  },
  {
   "cell_type": "markdown",
   "metadata": {},
   "source": [
    "tst <- chisq.test(data$y, data$education)  \n",
    "tst$p.value"
   ]
  },
  {
   "cell_type": "markdown",
   "metadata": {},
   "source": [
    "### 10. 각 job에 따라 divorced/married 인원의 비율을 확인 했을 때 그 값이 가장 높은 값은?"
   ]
  },
  {
   "cell_type": "code",
   "execution_count": null,
   "metadata": {},
   "outputs": [],
   "source": [
    "dt = df.groupby(['job','marital']).size().reset_index()\n",
    "num_10 = dt.pivot_table(index='job',columns='marital')[0]\n",
    "num_10 = num_10.fillna(0)\n",
    "num_10['ratio'] = num_10['divorced'] / num_10['married']\n",
    "num_10.sort_values('ratio', ascending = False).ratio\n",
    "# 0.283105"
   ]
  },
  {
   "cell_type": "code",
   "execution_count": 127,
   "metadata": {},
   "outputs": [
    {
     "data": {
      "text/html": [
       "<div>\n",
       "<style scoped>\n",
       "    .dataframe tbody tr th:only-of-type {\n",
       "        vertical-align: middle;\n",
       "    }\n",
       "\n",
       "    .dataframe tbody tr th {\n",
       "        vertical-align: top;\n",
       "    }\n",
       "\n",
       "    .dataframe thead th {\n",
       "        text-align: right;\n",
       "    }\n",
       "</style>\n",
       "<table border=\"1\" class=\"dataframe\">\n",
       "  <thead>\n",
       "    <tr style=\"text-align: right;\">\n",
       "      <th></th>\n",
       "      <th>job</th>\n",
       "      <th>marital</th>\n",
       "      <th>0</th>\n",
       "    </tr>\n",
       "  </thead>\n",
       "  <tbody>\n",
       "    <tr>\n",
       "      <th>0</th>\n",
       "      <td>admin.</td>\n",
       "      <td>divorced</td>\n",
       "      <td>207</td>\n",
       "    </tr>\n",
       "    <tr>\n",
       "      <th>1</th>\n",
       "      <td>admin.</td>\n",
       "      <td>married</td>\n",
       "      <td>762</td>\n",
       "    </tr>\n",
       "    <tr>\n",
       "      <th>2</th>\n",
       "      <td>admin.</td>\n",
       "      <td>single</td>\n",
       "      <td>495</td>\n",
       "    </tr>\n",
       "    <tr>\n",
       "      <th>3</th>\n",
       "      <td>blue-collar</td>\n",
       "      <td>divorced</td>\n",
       "      <td>205</td>\n",
       "    </tr>\n",
       "    <tr>\n",
       "      <th>4</th>\n",
       "      <td>blue-collar</td>\n",
       "      <td>married</td>\n",
       "      <td>1775</td>\n",
       "    </tr>\n",
       "    <tr>\n",
       "      <th>5</th>\n",
       "      <td>blue-collar</td>\n",
       "      <td>single</td>\n",
       "      <td>591</td>\n",
       "    </tr>\n",
       "    <tr>\n",
       "      <th>6</th>\n",
       "      <td>entrepreneur</td>\n",
       "      <td>divorced</td>\n",
       "      <td>44</td>\n",
       "    </tr>\n",
       "    <tr>\n",
       "      <th>7</th>\n",
       "      <td>entrepreneur</td>\n",
       "      <td>married</td>\n",
       "      <td>272</td>\n",
       "    </tr>\n",
       "    <tr>\n",
       "      <th>8</th>\n",
       "      <td>entrepreneur</td>\n",
       "      <td>single</td>\n",
       "      <td>67</td>\n",
       "    </tr>\n",
       "    <tr>\n",
       "      <th>9</th>\n",
       "      <td>housemaid</td>\n",
       "      <td>divorced</td>\n",
       "      <td>49</td>\n",
       "    </tr>\n",
       "    <tr>\n",
       "      <th>10</th>\n",
       "      <td>housemaid</td>\n",
       "      <td>married</td>\n",
       "      <td>245</td>\n",
       "    </tr>\n",
       "    <tr>\n",
       "      <th>11</th>\n",
       "      <td>housemaid</td>\n",
       "      <td>single</td>\n",
       "      <td>40</td>\n",
       "    </tr>\n",
       "    <tr>\n",
       "      <th>12</th>\n",
       "      <td>management</td>\n",
       "      <td>divorced</td>\n",
       "      <td>323</td>\n",
       "    </tr>\n",
       "    <tr>\n",
       "      <th>13</th>\n",
       "      <td>management</td>\n",
       "      <td>married</td>\n",
       "      <td>1580</td>\n",
       "    </tr>\n",
       "    <tr>\n",
       "      <th>14</th>\n",
       "      <td>management</td>\n",
       "      <td>single</td>\n",
       "      <td>955</td>\n",
       "    </tr>\n",
       "    <tr>\n",
       "      <th>15</th>\n",
       "      <td>retired</td>\n",
       "      <td>divorced</td>\n",
       "      <td>157</td>\n",
       "    </tr>\n",
       "    <tr>\n",
       "      <th>16</th>\n",
       "      <td>retired</td>\n",
       "      <td>married</td>\n",
       "      <td>572</td>\n",
       "    </tr>\n",
       "    <tr>\n",
       "      <th>17</th>\n",
       "      <td>retired</td>\n",
       "      <td>single</td>\n",
       "      <td>41</td>\n",
       "    </tr>\n",
       "    <tr>\n",
       "      <th>18</th>\n",
       "      <td>self-employed</td>\n",
       "      <td>divorced</td>\n",
       "      <td>39</td>\n",
       "    </tr>\n",
       "    <tr>\n",
       "      <th>19</th>\n",
       "      <td>self-employed</td>\n",
       "      <td>married</td>\n",
       "      <td>284</td>\n",
       "    </tr>\n",
       "    <tr>\n",
       "      <th>20</th>\n",
       "      <td>self-employed</td>\n",
       "      <td>single</td>\n",
       "      <td>131</td>\n",
       "    </tr>\n",
       "    <tr>\n",
       "      <th>21</th>\n",
       "      <td>services</td>\n",
       "      <td>divorced</td>\n",
       "      <td>138</td>\n",
       "    </tr>\n",
       "    <tr>\n",
       "      <th>22</th>\n",
       "      <td>services</td>\n",
       "      <td>married</td>\n",
       "      <td>584</td>\n",
       "    </tr>\n",
       "    <tr>\n",
       "      <th>23</th>\n",
       "      <td>services</td>\n",
       "      <td>single</td>\n",
       "      <td>321</td>\n",
       "    </tr>\n",
       "    <tr>\n",
       "      <th>24</th>\n",
       "      <td>student</td>\n",
       "      <td>married</td>\n",
       "      <td>24</td>\n",
       "    </tr>\n",
       "    <tr>\n",
       "      <th>25</th>\n",
       "      <td>student</td>\n",
       "      <td>single</td>\n",
       "      <td>334</td>\n",
       "    </tr>\n",
       "    <tr>\n",
       "      <th>26</th>\n",
       "      <td>technician</td>\n",
       "      <td>divorced</td>\n",
       "      <td>246</td>\n",
       "    </tr>\n",
       "    <tr>\n",
       "      <th>27</th>\n",
       "      <td>technician</td>\n",
       "      <td>married</td>\n",
       "      <td>1115</td>\n",
       "    </tr>\n",
       "    <tr>\n",
       "      <th>28</th>\n",
       "      <td>technician</td>\n",
       "      <td>single</td>\n",
       "      <td>780</td>\n",
       "    </tr>\n",
       "    <tr>\n",
       "      <th>29</th>\n",
       "      <td>unemployed</td>\n",
       "      <td>divorced</td>\n",
       "      <td>62</td>\n",
       "    </tr>\n",
       "    <tr>\n",
       "      <th>30</th>\n",
       "      <td>unemployed</td>\n",
       "      <td>married</td>\n",
       "      <td>219</td>\n",
       "    </tr>\n",
       "    <tr>\n",
       "      <th>31</th>\n",
       "      <td>unemployed</td>\n",
       "      <td>single</td>\n",
       "      <td>133</td>\n",
       "    </tr>\n",
       "    <tr>\n",
       "      <th>32</th>\n",
       "      <td>unknown</td>\n",
       "      <td>divorced</td>\n",
       "      <td>5</td>\n",
       "    </tr>\n",
       "    <tr>\n",
       "      <th>33</th>\n",
       "      <td>unknown</td>\n",
       "      <td>married</td>\n",
       "      <td>58</td>\n",
       "    </tr>\n",
       "    <tr>\n",
       "      <th>34</th>\n",
       "      <td>unknown</td>\n",
       "      <td>single</td>\n",
       "      <td>17</td>\n",
       "    </tr>\n",
       "  </tbody>\n",
       "</table>\n",
       "</div>"
      ],
      "text/plain": [
       "              job   marital     0\n",
       "0          admin.  divorced   207\n",
       "1          admin.   married   762\n",
       "2          admin.    single   495\n",
       "3     blue-collar  divorced   205\n",
       "4     blue-collar   married  1775\n",
       "5     blue-collar    single   591\n",
       "6    entrepreneur  divorced    44\n",
       "7    entrepreneur   married   272\n",
       "8    entrepreneur    single    67\n",
       "9       housemaid  divorced    49\n",
       "10      housemaid   married   245\n",
       "11      housemaid    single    40\n",
       "12     management  divorced   323\n",
       "13     management   married  1580\n",
       "14     management    single   955\n",
       "15        retired  divorced   157\n",
       "16        retired   married   572\n",
       "17        retired    single    41\n",
       "18  self-employed  divorced    39\n",
       "19  self-employed   married   284\n",
       "20  self-employed    single   131\n",
       "21       services  divorced   138\n",
       "22       services   married   584\n",
       "23       services    single   321\n",
       "24        student   married    24\n",
       "25        student    single   334\n",
       "26     technician  divorced   246\n",
       "27     technician   married  1115\n",
       "28     technician    single   780\n",
       "29     unemployed  divorced    62\n",
       "30     unemployed   married   219\n",
       "31     unemployed    single   133\n",
       "32        unknown  divorced     5\n",
       "33        unknown   married    58\n",
       "34        unknown    single    17"
      ]
     },
     "execution_count": 127,
     "metadata": {},
     "output_type": "execute_result"
    }
   ],
   "source": [
    "num_10.pivot_table(index='job',columns='marital')\n",
    "# num_10['ratio'] = num_10['divorced'] / num_10['married']\n",
    "num_10"
   ]
  },
  {
   "cell_type": "markdown",
   "metadata": {},
   "source": [
    "## 2유형"
   ]
  },
  {
   "cell_type": "code",
   "execution_count": 1,
   "metadata": {},
   "outputs": [
    {
     "data": {
      "text/html": [
       "<div>\n",
       "<style scoped>\n",
       "    .dataframe tbody tr th:only-of-type {\n",
       "        vertical-align: middle;\n",
       "    }\n",
       "\n",
       "    .dataframe tbody tr th {\n",
       "        vertical-align: top;\n",
       "    }\n",
       "\n",
       "    .dataframe thead th {\n",
       "        text-align: right;\n",
       "    }\n",
       "</style>\n",
       "<table border=\"1\" class=\"dataframe\">\n",
       "  <thead>\n",
       "    <tr style=\"text-align: right;\">\n",
       "      <th></th>\n",
       "      <th>ID</th>\n",
       "      <th>age</th>\n",
       "      <th>job</th>\n",
       "      <th>marital</th>\n",
       "      <th>education</th>\n",
       "      <th>default</th>\n",
       "      <th>balance</th>\n",
       "      <th>housing</th>\n",
       "      <th>loan</th>\n",
       "      <th>contact</th>\n",
       "      <th>day</th>\n",
       "      <th>month</th>\n",
       "      <th>campaign</th>\n",
       "      <th>pdays</th>\n",
       "      <th>previous</th>\n",
       "      <th>poutcome</th>\n",
       "      <th>y</th>\n",
       "    </tr>\n",
       "  </thead>\n",
       "  <tbody>\n",
       "    <tr>\n",
       "      <th>0</th>\n",
       "      <td>13829</td>\n",
       "      <td>29</td>\n",
       "      <td>technician</td>\n",
       "      <td>single</td>\n",
       "      <td>tertiary</td>\n",
       "      <td>no</td>\n",
       "      <td>18254</td>\n",
       "      <td>no</td>\n",
       "      <td>no</td>\n",
       "      <td>cellular</td>\n",
       "      <td>11</td>\n",
       "      <td>may</td>\n",
       "      <td>2</td>\n",
       "      <td>-1</td>\n",
       "      <td>0</td>\n",
       "      <td>unknown</td>\n",
       "      <td>no</td>\n",
       "    </tr>\n",
       "    <tr>\n",
       "      <th>1</th>\n",
       "      <td>22677</td>\n",
       "      <td>26</td>\n",
       "      <td>services</td>\n",
       "      <td>single</td>\n",
       "      <td>secondary</td>\n",
       "      <td>no</td>\n",
       "      <td>512</td>\n",
       "      <td>yes</td>\n",
       "      <td>yes</td>\n",
       "      <td>unknown</td>\n",
       "      <td>5</td>\n",
       "      <td>jun</td>\n",
       "      <td>3</td>\n",
       "      <td>-1</td>\n",
       "      <td>0</td>\n",
       "      <td>unknown</td>\n",
       "      <td>no</td>\n",
       "    </tr>\n",
       "    <tr>\n",
       "      <th>2</th>\n",
       "      <td>10541</td>\n",
       "      <td>30</td>\n",
       "      <td>management</td>\n",
       "      <td>single</td>\n",
       "      <td>secondary</td>\n",
       "      <td>no</td>\n",
       "      <td>135</td>\n",
       "      <td>no</td>\n",
       "      <td>no</td>\n",
       "      <td>cellular</td>\n",
       "      <td>14</td>\n",
       "      <td>aug</td>\n",
       "      <td>2</td>\n",
       "      <td>-1</td>\n",
       "      <td>0</td>\n",
       "      <td>unknown</td>\n",
       "      <td>no</td>\n",
       "    </tr>\n",
       "    <tr>\n",
       "      <th>3</th>\n",
       "      <td>13689</td>\n",
       "      <td>41</td>\n",
       "      <td>technician</td>\n",
       "      <td>married</td>\n",
       "      <td>unknown</td>\n",
       "      <td>no</td>\n",
       "      <td>30</td>\n",
       "      <td>yes</td>\n",
       "      <td>no</td>\n",
       "      <td>cellular</td>\n",
       "      <td>10</td>\n",
       "      <td>jul</td>\n",
       "      <td>1</td>\n",
       "      <td>-1</td>\n",
       "      <td>0</td>\n",
       "      <td>unknown</td>\n",
       "      <td>no</td>\n",
       "    </tr>\n",
       "    <tr>\n",
       "      <th>4</th>\n",
       "      <td>11304</td>\n",
       "      <td>27</td>\n",
       "      <td>admin.</td>\n",
       "      <td>single</td>\n",
       "      <td>secondary</td>\n",
       "      <td>no</td>\n",
       "      <td>321</td>\n",
       "      <td>no</td>\n",
       "      <td>yes</td>\n",
       "      <td>unknown</td>\n",
       "      <td>2</td>\n",
       "      <td>sep</td>\n",
       "      <td>1</td>\n",
       "      <td>-1</td>\n",
       "      <td>0</td>\n",
       "      <td>unknown</td>\n",
       "      <td>no</td>\n",
       "    </tr>\n",
       "  </tbody>\n",
       "</table>\n",
       "</div>"
      ],
      "text/plain": [
       "      ID  age         job  marital  education default  balance housing loan  \\\n",
       "0  13829   29  technician   single   tertiary      no    18254      no   no   \n",
       "1  22677   26    services   single  secondary      no      512     yes  yes   \n",
       "2  10541   30  management   single  secondary      no      135      no   no   \n",
       "3  13689   41  technician  married    unknown      no       30     yes   no   \n",
       "4  11304   27      admin.   single  secondary      no      321      no  yes   \n",
       "\n",
       "    contact  day month  campaign  pdays  previous poutcome   y  \n",
       "0  cellular   11   may         2     -1         0  unknown  no  \n",
       "1   unknown    5   jun         3     -1         0  unknown  no  \n",
       "2  cellular   14   aug         2     -1         0  unknown  no  \n",
       "3  cellular   10   jul         1     -1         0  unknown  no  \n",
       "4   unknown    2   sep         1     -1         0  unknown  no  "
      ]
     },
     "metadata": {},
     "output_type": "display_data"
    },
    {
     "data": {
      "text/html": [
       "<div>\n",
       "<style scoped>\n",
       "    .dataframe tbody tr th:only-of-type {\n",
       "        vertical-align: middle;\n",
       "    }\n",
       "\n",
       "    .dataframe tbody tr th {\n",
       "        vertical-align: top;\n",
       "    }\n",
       "\n",
       "    .dataframe thead th {\n",
       "        text-align: right;\n",
       "    }\n",
       "</style>\n",
       "<table border=\"1\" class=\"dataframe\">\n",
       "  <thead>\n",
       "    <tr style=\"text-align: right;\">\n",
       "      <th></th>\n",
       "      <th>ID</th>\n",
       "      <th>age</th>\n",
       "      <th>job</th>\n",
       "      <th>marital</th>\n",
       "      <th>education</th>\n",
       "      <th>default</th>\n",
       "      <th>balance</th>\n",
       "      <th>housing</th>\n",
       "      <th>loan</th>\n",
       "      <th>contact</th>\n",
       "      <th>day</th>\n",
       "      <th>month</th>\n",
       "      <th>campaign</th>\n",
       "      <th>pdays</th>\n",
       "      <th>previous</th>\n",
       "      <th>poutcome</th>\n",
       "    </tr>\n",
       "  </thead>\n",
       "  <tbody>\n",
       "    <tr>\n",
       "      <th>0</th>\n",
       "      <td>53608</td>\n",
       "      <td>32</td>\n",
       "      <td>management</td>\n",
       "      <td>single</td>\n",
       "      <td>tertiary</td>\n",
       "      <td>no</td>\n",
       "      <td>12569</td>\n",
       "      <td>no</td>\n",
       "      <td>no</td>\n",
       "      <td>cellular</td>\n",
       "      <td>1</td>\n",
       "      <td>jul</td>\n",
       "      <td>2</td>\n",
       "      <td>295</td>\n",
       "      <td>2</td>\n",
       "      <td>success</td>\n",
       "    </tr>\n",
       "    <tr>\n",
       "      <th>1</th>\n",
       "      <td>51055</td>\n",
       "      <td>25</td>\n",
       "      <td>services</td>\n",
       "      <td>single</td>\n",
       "      <td>secondary</td>\n",
       "      <td>no</td>\n",
       "      <td>801</td>\n",
       "      <td>no</td>\n",
       "      <td>no</td>\n",
       "      <td>cellular</td>\n",
       "      <td>5</td>\n",
       "      <td>jun</td>\n",
       "      <td>2</td>\n",
       "      <td>-1</td>\n",
       "      <td>0</td>\n",
       "      <td>unknown</td>\n",
       "    </tr>\n",
       "    <tr>\n",
       "      <th>2</th>\n",
       "      <td>52573</td>\n",
       "      <td>46</td>\n",
       "      <td>blue-collar</td>\n",
       "      <td>married</td>\n",
       "      <td>secondary</td>\n",
       "      <td>no</td>\n",
       "      <td>1728</td>\n",
       "      <td>yes</td>\n",
       "      <td>no</td>\n",
       "      <td>unknown</td>\n",
       "      <td>26</td>\n",
       "      <td>may</td>\n",
       "      <td>2</td>\n",
       "      <td>-1</td>\n",
       "      <td>0</td>\n",
       "      <td>unknown</td>\n",
       "    </tr>\n",
       "    <tr>\n",
       "      <th>3</th>\n",
       "      <td>50458</td>\n",
       "      <td>39</td>\n",
       "      <td>management</td>\n",
       "      <td>divorced</td>\n",
       "      <td>secondary</td>\n",
       "      <td>no</td>\n",
       "      <td>51</td>\n",
       "      <td>no</td>\n",
       "      <td>no</td>\n",
       "      <td>unknown</td>\n",
       "      <td>17</td>\n",
       "      <td>jun</td>\n",
       "      <td>2</td>\n",
       "      <td>-1</td>\n",
       "      <td>0</td>\n",
       "      <td>unknown</td>\n",
       "    </tr>\n",
       "    <tr>\n",
       "      <th>4</th>\n",
       "      <td>52272</td>\n",
       "      <td>31</td>\n",
       "      <td>services</td>\n",
       "      <td>single</td>\n",
       "      <td>tertiary</td>\n",
       "      <td>no</td>\n",
       "      <td>1626</td>\n",
       "      <td>no</td>\n",
       "      <td>no</td>\n",
       "      <td>unknown</td>\n",
       "      <td>31</td>\n",
       "      <td>jul</td>\n",
       "      <td>1</td>\n",
       "      <td>-1</td>\n",
       "      <td>0</td>\n",
       "      <td>unknown</td>\n",
       "    </tr>\n",
       "  </tbody>\n",
       "</table>\n",
       "</div>"
      ],
      "text/plain": [
       "      ID  age          job   marital  education default  balance housing loan  \\\n",
       "0  53608   32   management    single   tertiary      no    12569      no   no   \n",
       "1  51055   25     services    single  secondary      no      801      no   no   \n",
       "2  52573   46  blue-collar   married  secondary      no     1728     yes   no   \n",
       "3  50458   39   management  divorced  secondary      no       51      no   no   \n",
       "4  52272   31     services    single   tertiary      no     1626      no   no   \n",
       "\n",
       "    contact  day month  campaign  pdays  previous poutcome  \n",
       "0  cellular    1   jul         2    295         2  success  \n",
       "1  cellular    5   jun         2     -1         0  unknown  \n",
       "2   unknown   26   may         2     -1         0  unknown  \n",
       "3   unknown   17   jun         2     -1         0  unknown  \n",
       "4   unknown   31   jul         1     -1         0  unknown  "
      ]
     },
     "metadata": {},
     "output_type": "display_data"
    },
    {
     "data": {
      "text/html": [
       "<div>\n",
       "<style scoped>\n",
       "    .dataframe tbody tr th:only-of-type {\n",
       "        vertical-align: middle;\n",
       "    }\n",
       "\n",
       "    .dataframe tbody tr th {\n",
       "        vertical-align: top;\n",
       "    }\n",
       "\n",
       "    .dataframe thead th {\n",
       "        text-align: right;\n",
       "    }\n",
       "</style>\n",
       "<table border=\"1\" class=\"dataframe\">\n",
       "  <thead>\n",
       "    <tr style=\"text-align: right;\">\n",
       "      <th></th>\n",
       "      <th>ID</th>\n",
       "      <th>predict</th>\n",
       "    </tr>\n",
       "  </thead>\n",
       "  <tbody>\n",
       "    <tr>\n",
       "      <th>0</th>\n",
       "      <td>53608</td>\n",
       "      <td>0.0</td>\n",
       "    </tr>\n",
       "    <tr>\n",
       "      <th>1</th>\n",
       "      <td>51055</td>\n",
       "      <td>0.0</td>\n",
       "    </tr>\n",
       "    <tr>\n",
       "      <th>2</th>\n",
       "      <td>52573</td>\n",
       "      <td>0.0</td>\n",
       "    </tr>\n",
       "    <tr>\n",
       "      <th>3</th>\n",
       "      <td>50458</td>\n",
       "      <td>0.0</td>\n",
       "    </tr>\n",
       "    <tr>\n",
       "      <th>4</th>\n",
       "      <td>52272</td>\n",
       "      <td>0.0</td>\n",
       "    </tr>\n",
       "  </tbody>\n",
       "</table>\n",
       "</div>"
      ],
      "text/plain": [
       "      ID  predict\n",
       "0  53608      0.0\n",
       "1  51055      0.0\n",
       "2  52573      0.0\n",
       "3  50458      0.0\n",
       "4  52272      0.0"
      ]
     },
     "metadata": {},
     "output_type": "display_data"
    }
   ],
   "source": [
    "import pandas as pd\n",
    "train= pd.read_csv('https://raw.githubusercontent.com/Datamanim/datarepo/main/bank/train.csv')\n",
    "test= pd.read_csv('https://raw.githubusercontent.com/Datamanim/datarepo/main/bank/test.csv')\n",
    "submission= pd.read_csv('https://raw.githubusercontent.com/Datamanim/datarepo/main/bank/submission.csv')\n",
    "\n",
    "display(train.head())\n",
    "display(test.head())\n",
    "display(submission.head())"
   ]
  },
  {
   "cell_type": "code",
   "execution_count": 142,
   "metadata": {},
   "outputs": [
    {
     "data": {
      "text/plain": [
       "ID           0\n",
       "age          0\n",
       "job          0\n",
       "marital      0\n",
       "education    0\n",
       "default      0\n",
       "balance      0\n",
       "housing      0\n",
       "loan         0\n",
       "contact      0\n",
       "day          0\n",
       "month        0\n",
       "campaign     0\n",
       "pdays        0\n",
       "previous     0\n",
       "poutcome     0\n",
       "y            0\n",
       "dtype: int64"
      ]
     },
     "metadata": {},
     "output_type": "display_data"
    },
    {
     "data": {
      "text/plain": [
       "ID           0\n",
       "age          0\n",
       "job          0\n",
       "marital      0\n",
       "education    0\n",
       "default      0\n",
       "balance      0\n",
       "housing      0\n",
       "loan         0\n",
       "contact      0\n",
       "day          0\n",
       "month        0\n",
       "campaign     0\n",
       "pdays        0\n",
       "previous     0\n",
       "poutcome     0\n",
       "dtype: int64"
      ]
     },
     "metadata": {},
     "output_type": "display_data"
    }
   ],
   "source": [
    "display(train.isnull().sum())\n",
    "display(test.isnull().sum())"
   ]
  },
  {
   "cell_type": "code",
   "execution_count": 144,
   "metadata": {},
   "outputs": [
    {
     "data": {
      "text/plain": [
       "ID           12870\n",
       "age             76\n",
       "job             12\n",
       "marital          3\n",
       "education        4\n",
       "default          2\n",
       "balance       4188\n",
       "housing          2\n",
       "loan             2\n",
       "contact          3\n",
       "day             31\n",
       "month           12\n",
       "campaign        36\n",
       "pdays          461\n",
       "previous        30\n",
       "poutcome         4\n",
       "y                2\n",
       "dtype: int64"
      ]
     },
     "metadata": {},
     "output_type": "display_data"
    },
    {
     "data": {
      "text/plain": [
       "ID           4291\n",
       "age            70\n",
       "job            12\n",
       "marital         3\n",
       "education       4\n",
       "default         2\n",
       "balance      2290\n",
       "housing         2\n",
       "loan            2\n",
       "contact         3\n",
       "day            31\n",
       "month          12\n",
       "campaign       33\n",
       "pdays         318\n",
       "previous       23\n",
       "poutcome        4\n",
       "dtype: int64"
      ]
     },
     "metadata": {},
     "output_type": "display_data"
    }
   ],
   "source": [
    "display(train.nunique())\n",
    "display(test.nunique())"
   ]
  },
  {
   "cell_type": "code",
   "execution_count": 20,
   "metadata": {},
   "outputs": [
    {
     "name": "stdout",
     "output_type": "stream",
     "text": [
      "(12870, 50)\n",
      "(4291, 50)\n"
     ]
    }
   ],
   "source": [
    "from sklearn.preprocessing import LabelEncoder\n",
    "\n",
    "label_encoder = LabelEncoder()\n",
    "\n",
    "X_train = train.drop(['ID','y'],axis=1)\n",
    "y_train = label_encoder.fit_transform(train['y'])\n",
    "X_test = test.drop('ID',axis=1)\n",
    "\n",
    "X_train_dum = pd.get_dummies(X_train)\n",
    "X_test_dum = pd.get_dummies(X_test)\n",
    "\n",
    "print(X_train_dum.shape)\n",
    "print(X_test_dum.shape)\n"
   ]
  },
  {
   "cell_type": "code",
   "execution_count": 21,
   "metadata": {},
   "outputs": [],
   "source": [
    "from sklearn.model_selection import train_test_split\n",
    "from sklearn.ensemble import RandomForestClassifier\n",
    "from sklearn.metrics import roc_auc_score\n",
    "\n",
    "X_train, X_val, y_train, y_val = train_test_split(X_train_dum, y_train)\n",
    "\n",
    "rf = RandomForestClassifier()\n",
    "rf.fit(X_train,y_train)\n",
    "y_val_predict = rf.predict_proba(X_val)"
   ]
  },
  {
   "cell_type": "code",
   "execution_count": 26,
   "metadata": {},
   "outputs": [],
   "source": [
    "# 왜 오류나는지 모르겠음 짜증\n",
    "\n",
    "# print('validation roc score:', roc_auc_score(y_val_predict[:,1],y_val))"
   ]
  },
  {
   "cell_type": "markdown",
   "metadata": {},
   "source": [
    "# 모의고사 2회"
   ]
  },
  {
   "cell_type": "markdown",
   "metadata": {},
   "source": [
    "## 1유형"
   ]
  },
  {
   "cell_type": "code",
   "execution_count": 97,
   "metadata": {},
   "outputs": [],
   "source": [
    "import pandas as pd\n",
    "df = pd.read_csv('https://raw.githubusercontent.com/Datamanim/datarepo/main/stroke_/train.csv')"
   ]
  },
  {
   "cell_type": "markdown",
   "metadata": {},
   "source": [
    "### 1. 성별이 Male인 환자들의 age의 평균값은?"
   ]
  },
  {
   "cell_type": "code",
   "execution_count": 38,
   "metadata": {},
   "outputs": [],
   "source": [
    "df.age = df.age.replace('*82','82')\n",
    "df.age = df.age.astype('int')"
   ]
  },
  {
   "cell_type": "code",
   "execution_count": 39,
   "metadata": {},
   "outputs": [
    {
     "data": {
      "text/plain": [
       "44.68623481781376"
      ]
     },
     "execution_count": 39,
     "metadata": {},
     "output_type": "execute_result"
    }
   ],
   "source": [
    "df[df.gender == 'Male'].age.mean()"
   ]
  },
  {
   "cell_type": "markdown",
   "metadata": {},
   "source": [
    "### 2. bmi컬럼의 결측치를 결측치를 제외한 나머지 값들의 중앙값으로 채웠을 경우 bmi 컬럼의 평균을 소숫점 이하 3자리 까지 구하여라"
   ]
  },
  {
   "cell_type": "code",
   "execution_count": 52,
   "metadata": {},
   "outputs": [
    {
     "data": {
      "text/plain": [
       "29.166"
      ]
     },
     "execution_count": 52,
     "metadata": {},
     "output_type": "execute_result"
    }
   ],
   "source": [
    "round(df.bmi.fillna(df.bmi.median()).mean(),3)"
   ]
  },
  {
   "cell_type": "markdown",
   "metadata": {},
   "source": [
    "### 3. bmi컬럼의 각 결측치들을 직전의 행의 bmi값으로 채웠을 경우 bmi 컬럼의 평균을 소숫점 이하 3자리 까지 구하여라"
   ]
  },
  {
   "cell_type": "code",
   "execution_count": 53,
   "metadata": {},
   "outputs": [
    {
     "data": {
      "text/plain": [
       "29.188"
      ]
     },
     "execution_count": 53,
     "metadata": {},
     "output_type": "execute_result"
    }
   ],
   "source": [
    "round(df.bmi.fillna(method='ffill').mean(),3)"
   ]
  },
  {
   "cell_type": "markdown",
   "metadata": {},
   "source": [
    "### 4. bmi컬럼의 각 결측치들을 결측치를 가진 환자 나이대(10단위)의 평균 bmi 값으로 대체한 후 대체된 bmi 컬럼의 평균을 소숫점 이하 3자리 까지 구하여라"
   ]
  },
  {
   "cell_type": "code",
   "execution_count": 72,
   "metadata": {},
   "outputs": [],
   "source": [
    "df['agecat'] = df.age.str[:-1]\n",
    "df.agecat  = df.agecat.replace('','0')\n",
    "df.agecat = df.agecat.replace('*8','8')\n",
    "df.agecat = df.agecat.astype('int')"
   ]
  },
  {
   "cell_type": "code",
   "execution_count": 78,
   "metadata": {},
   "outputs": [
    {
     "data": {
      "text/plain": [
       "agecat\n",
       "0    18.960784\n",
       "1    24.477228\n",
       "2    28.052747\n",
       "3    31.751111\n",
       "4    31.427097\n",
       "5    31.894086\n",
       "6    31.615873\n",
       "7    30.447727\n",
       "8    28.566667\n",
       "Name: bmi, dtype: float64"
      ]
     },
     "execution_count": 78,
     "metadata": {},
     "output_type": "execute_result"
    }
   ],
   "source": [
    "aa = df.groupby('agecat')['bmi'].mean()\n",
    "aa"
   ]
  },
  {
   "cell_type": "code",
   "execution_count": 86,
   "metadata": {},
   "outputs": [],
   "source": [
    "lst = list()\n",
    "for i in range(9):\n",
    "    lst.append(df[df.agecat == i].bmi.fillna(aa[i]).mean())"
   ]
  },
  {
   "cell_type": "code",
   "execution_count": 87,
   "metadata": {},
   "outputs": [
    {
     "data": {
      "text/plain": [
       "9"
      ]
     },
     "execution_count": 87,
     "metadata": {},
     "output_type": "execute_result"
    }
   ],
   "source": [
    "len(lst)"
   ]
  },
  {
   "cell_type": "code",
   "execution_count": 88,
   "metadata": {},
   "outputs": [
    {
     "data": {
      "text/plain": [
       "24.477227722772273"
      ]
     },
     "execution_count": 88,
     "metadata": {},
     "output_type": "execute_result"
    }
   ],
   "source": [
    "lst[1]"
   ]
  },
  {
   "cell_type": "code",
   "execution_count": 90,
   "metadata": {},
   "outputs": [
    {
     "name": "stdout",
     "output_type": "stream",
     "text": [
      "28.57703557236911\n"
     ]
    }
   ],
   "source": [
    "a = 0\n",
    "for i in range(len(lst)):\n",
    "    a += lst[i]\n",
    "\n",
    "print(a / len(lst))"
   ]
  },
  {
   "cell_type": "markdown",
   "metadata": {},
   "source": [
    "### 5. avg_glucose_level 컬럼의 값이 200이상인 데이터를 모두 199로 변경하고 stroke값이 1인 데이터의 avg_glucose_level값의 평균을 소수점이하 3자리 까지 구하여라"
   ]
  },
  {
   "cell_type": "code",
   "execution_count": 101,
   "metadata": {},
   "outputs": [
    {
     "data": {
      "text/plain": [
       "125.188"
      ]
     },
     "execution_count": 101,
     "metadata": {},
     "output_type": "execute_result"
    }
   ],
   "source": [
    "num_5 = df.copy()\n",
    "\n",
    "num_5.loc[num_5.avg_glucose_level >= 200,'avg_glucose_level'] = 199\n",
    "round(num_5[num_5.stroke == 1].avg_glucose_level.mean(),3)"
   ]
  },
  {
   "cell_type": "markdown",
   "metadata": {},
   "source": [
    "### 6. Attack컬럼의 값을 기준으로 내림차순정렬 했을때 상위 400위까지 포켓몬들과 401~800위까지의 포켓몬들에서 전설포켓몬(Legendary컬럼)의 숫자 차이는?"
   ]
  },
  {
   "cell_type": "code",
   "execution_count": 103,
   "metadata": {},
   "outputs": [
    {
     "data": {
      "text/html": [
       "<div>\n",
       "<style scoped>\n",
       "    .dataframe tbody tr th:only-of-type {\n",
       "        vertical-align: middle;\n",
       "    }\n",
       "\n",
       "    .dataframe tbody tr th {\n",
       "        vertical-align: top;\n",
       "    }\n",
       "\n",
       "    .dataframe thead th {\n",
       "        text-align: right;\n",
       "    }\n",
       "</style>\n",
       "<table border=\"1\" class=\"dataframe\">\n",
       "  <thead>\n",
       "    <tr style=\"text-align: right;\">\n",
       "      <th></th>\n",
       "      <th>#</th>\n",
       "      <th>Name</th>\n",
       "      <th>Type 1</th>\n",
       "      <th>Type 2</th>\n",
       "      <th>Total</th>\n",
       "      <th>HP</th>\n",
       "      <th>Attack</th>\n",
       "      <th>Defense</th>\n",
       "      <th>Sp. Atk</th>\n",
       "      <th>Sp. Def</th>\n",
       "      <th>Speed</th>\n",
       "      <th>Generation</th>\n",
       "      <th>Legendary</th>\n",
       "    </tr>\n",
       "  </thead>\n",
       "  <tbody>\n",
       "    <tr>\n",
       "      <th>0</th>\n",
       "      <td>1</td>\n",
       "      <td>Bulbasaur</td>\n",
       "      <td>Grass</td>\n",
       "      <td>Poison</td>\n",
       "      <td>318</td>\n",
       "      <td>45</td>\n",
       "      <td>49</td>\n",
       "      <td>49</td>\n",
       "      <td>65</td>\n",
       "      <td>65</td>\n",
       "      <td>45</td>\n",
       "      <td>1</td>\n",
       "      <td>False</td>\n",
       "    </tr>\n",
       "    <tr>\n",
       "      <th>1</th>\n",
       "      <td>2</td>\n",
       "      <td>Ivysaur</td>\n",
       "      <td>Grass</td>\n",
       "      <td>Poison</td>\n",
       "      <td>405</td>\n",
       "      <td>60</td>\n",
       "      <td>62</td>\n",
       "      <td>63</td>\n",
       "      <td>80</td>\n",
       "      <td>80</td>\n",
       "      <td>60</td>\n",
       "      <td>1</td>\n",
       "      <td>False</td>\n",
       "    </tr>\n",
       "    <tr>\n",
       "      <th>2</th>\n",
       "      <td>3</td>\n",
       "      <td>Venusaur</td>\n",
       "      <td>Grass</td>\n",
       "      <td>Poison</td>\n",
       "      <td>525</td>\n",
       "      <td>80</td>\n",
       "      <td>82</td>\n",
       "      <td>83</td>\n",
       "      <td>100</td>\n",
       "      <td>100</td>\n",
       "      <td>80</td>\n",
       "      <td>1</td>\n",
       "      <td>False</td>\n",
       "    </tr>\n",
       "    <tr>\n",
       "      <th>3</th>\n",
       "      <td>3</td>\n",
       "      <td>VenusaurMega Venusaur</td>\n",
       "      <td>Grass</td>\n",
       "      <td>Poison</td>\n",
       "      <td>625</td>\n",
       "      <td>80</td>\n",
       "      <td>100</td>\n",
       "      <td>123</td>\n",
       "      <td>122</td>\n",
       "      <td>120</td>\n",
       "      <td>80</td>\n",
       "      <td>1</td>\n",
       "      <td>False</td>\n",
       "    </tr>\n",
       "    <tr>\n",
       "      <th>4</th>\n",
       "      <td>4</td>\n",
       "      <td>Charmander</td>\n",
       "      <td>Fire</td>\n",
       "      <td>NaN</td>\n",
       "      <td>309</td>\n",
       "      <td>39</td>\n",
       "      <td>52</td>\n",
       "      <td>43</td>\n",
       "      <td>60</td>\n",
       "      <td>50</td>\n",
       "      <td>65</td>\n",
       "      <td>1</td>\n",
       "      <td>False</td>\n",
       "    </tr>\n",
       "  </tbody>\n",
       "</table>\n",
       "</div>"
      ],
      "text/plain": [
       "   #                   Name Type 1  Type 2  Total  HP  Attack  Defense  \\\n",
       "0  1              Bulbasaur  Grass  Poison    318  45      49       49   \n",
       "1  2                Ivysaur  Grass  Poison    405  60      62       63   \n",
       "2  3               Venusaur  Grass  Poison    525  80      82       83   \n",
       "3  3  VenusaurMega Venusaur  Grass  Poison    625  80     100      123   \n",
       "4  4             Charmander   Fire     NaN    309  39      52       43   \n",
       "\n",
       "   Sp. Atk  Sp. Def  Speed  Generation  Legendary  \n",
       "0       65       65     45           1      False  \n",
       "1       80       80     60           1      False  \n",
       "2      100      100     80           1      False  \n",
       "3      122      120     80           1      False  \n",
       "4       60       50     65           1      False  "
      ]
     },
     "execution_count": 103,
     "metadata": {},
     "output_type": "execute_result"
    }
   ],
   "source": [
    "df = pd.read_csv('https://raw.githubusercontent.com/Datamanim/datarepo/main/pok/Pokemon.csv')\n",
    "\n",
    "df.head()"
   ]
  },
  {
   "cell_type": "code",
   "execution_count": 105,
   "metadata": {},
   "outputs": [
    {
     "data": {
      "text/plain": [
       "57"
      ]
     },
     "execution_count": 105,
     "metadata": {},
     "output_type": "execute_result"
    }
   ],
   "source": [
    "num_6 = df.sort_values('Attack',ascending=False)\n",
    "upper = num_6[:400]\n",
    "lower = num_6[400:]\n",
    "len(upper[upper.Legendary]) - len(lower[lower.Legendary])"
   ]
  },
  {
   "cell_type": "markdown",
   "metadata": {},
   "source": [
    "### 7. Type 1 컬럼의 종류에 따른 Total 컬럼의 평균값을 내림차순 정렬했을때 상위 3번째 Type 1은 무엇인가?"
   ]
  },
  {
   "cell_type": "code",
   "execution_count": 110,
   "metadata": {},
   "outputs": [
    {
     "data": {
      "text/plain": [
       "array(['Grass', 'Fire', 'Water', 'Bug', 'Normal', 'Poison', 'Electric',\n",
       "       'Ground', 'Fairy', 'Fighting', 'Psychic', 'Rock', 'Ghost', 'Ice',\n",
       "       'Dragon', 'Dark', 'Steel', 'Flying'], dtype=object)"
      ]
     },
     "execution_count": 110,
     "metadata": {},
     "output_type": "execute_result"
    }
   ],
   "source": [
    "typelist = df['Type 1'].unique()\n",
    "typelist"
   ]
  },
  {
   "cell_type": "code",
   "execution_count": null,
   "metadata": {},
   "outputs": [
    {
     "data": {
      "text/plain": [
       "Type 1\n",
       "Dragon      550.531250\n",
       "Steel       487.703704\n",
       "Flying      485.000000\n",
       "Psychic     475.947368\n",
       "Fire        458.076923\n",
       "Rock        453.750000\n",
       "Dark        445.741935\n",
       "Electric    443.409091\n",
       "Ghost       439.562500\n",
       "Ground      437.500000\n",
       "Ice         433.458333\n",
       "Water       430.455357\n",
       "Grass       421.142857\n",
       "Fighting    416.444444\n",
       "Fairy       413.176471\n",
       "Normal      401.683673\n",
       "Poison      399.142857\n",
       "Bug         378.927536\n",
       "Name: Total, dtype: float64"
      ]
     },
     "execution_count": 116,
     "metadata": {},
     "output_type": "execute_result"
    }
   ],
   "source": [
    "df.groupby('Type 1').Total.mean().sort_values(ascending=False)   # Flying"
   ]
  },
  {
   "cell_type": "markdown",
   "metadata": {},
   "source": [
    "### 8. 결측치가 존재하는 행을 모두 지운 후 처음부터 순서대로 60% 데이터를 추출하여 Defense컬럼의 1분위수를 구하여라"
   ]
  },
  {
   "cell_type": "code",
   "execution_count": 120,
   "metadata": {},
   "outputs": [
    {
     "data": {
      "text/plain": [
       "50.0"
      ]
     },
     "execution_count": 120,
     "metadata": {},
     "output_type": "execute_result"
    }
   ],
   "source": [
    "num_8 = df.dropna()\n",
    "num_8 = df[:len(num_8)]\n",
    "num_8.Defense.quantile(0.25)"
   ]
  },
  {
   "cell_type": "markdown",
   "metadata": {},
   "source": [
    "### 9. Type 1 컬럼의 속성이 Fire인 포켓몬들의 Attack의 평균이상인 Water속성의 포켓몬 수를 구하여라"
   ]
  },
  {
   "cell_type": "code",
   "execution_count": 125,
   "metadata": {},
   "outputs": [
    {
     "data": {
      "text/plain": [
       "37"
      ]
     },
     "execution_count": 125,
     "metadata": {},
     "output_type": "execute_result"
    }
   ],
   "source": [
    "m = df[df['Type 1'] == 'Fire'].Attack.mean()\n",
    "len(df[(df.Attack >= m) & (df['Type 1'] == 'Water')])"
   ]
  },
  {
   "cell_type": "markdown",
   "metadata": {},
   "source": [
    "### 10. 각 세대 중(Generation 컬럼)의 Speed와 Defense 컬럼의 차이(절댓값)이 가장 큰 세대는?"
   ]
  },
  {
   "cell_type": "code",
   "execution_count": null,
   "metadata": {},
   "outputs": [
    {
     "data": {
      "text/html": [
       "<div>\n",
       "<style scoped>\n",
       "    .dataframe tbody tr th:only-of-type {\n",
       "        vertical-align: middle;\n",
       "    }\n",
       "\n",
       "    .dataframe tbody tr th {\n",
       "        vertical-align: top;\n",
       "    }\n",
       "\n",
       "    .dataframe thead th {\n",
       "        text-align: right;\n",
       "    }\n",
       "</style>\n",
       "<table border=\"1\" class=\"dataframe\">\n",
       "  <thead>\n",
       "    <tr style=\"text-align: right;\">\n",
       "      <th></th>\n",
       "      <th>Generation</th>\n",
       "      <th>Speed</th>\n",
       "      <th>Defense</th>\n",
       "      <th>diff</th>\n",
       "    </tr>\n",
       "  </thead>\n",
       "  <tbody>\n",
       "    <tr>\n",
       "      <th>1</th>\n",
       "      <td>2</td>\n",
       "      <td>61.811321</td>\n",
       "      <td>73.386792</td>\n",
       "      <td>11.575472</td>\n",
       "    </tr>\n",
       "    <tr>\n",
       "      <th>5</th>\n",
       "      <td>6</td>\n",
       "      <td>66.439024</td>\n",
       "      <td>76.682927</td>\n",
       "      <td>10.243902</td>\n",
       "    </tr>\n",
       "    <tr>\n",
       "      <th>2</th>\n",
       "      <td>3</td>\n",
       "      <td>66.925000</td>\n",
       "      <td>74.100000</td>\n",
       "      <td>7.175000</td>\n",
       "    </tr>\n",
       "    <tr>\n",
       "      <th>3</th>\n",
       "      <td>4</td>\n",
       "      <td>71.338843</td>\n",
       "      <td>78.132231</td>\n",
       "      <td>6.793388</td>\n",
       "    </tr>\n",
       "    <tr>\n",
       "      <th>4</th>\n",
       "      <td>5</td>\n",
       "      <td>68.078788</td>\n",
       "      <td>72.327273</td>\n",
       "      <td>4.248485</td>\n",
       "    </tr>\n",
       "    <tr>\n",
       "      <th>0</th>\n",
       "      <td>1</td>\n",
       "      <td>72.584337</td>\n",
       "      <td>70.861446</td>\n",
       "      <td>1.722892</td>\n",
       "    </tr>\n",
       "  </tbody>\n",
       "</table>\n",
       "</div>"
      ],
      "text/plain": [
       "   Generation      Speed    Defense       diff\n",
       "1           2  61.811321  73.386792  11.575472\n",
       "5           6  66.439024  76.682927  10.243902\n",
       "2           3  66.925000  74.100000   7.175000\n",
       "3           4  71.338843  78.132231   6.793388\n",
       "4           5  68.078788  72.327273   4.248485\n",
       "0           1  72.584337  70.861446   1.722892"
      ]
     },
     "execution_count": 130,
     "metadata": {},
     "output_type": "execute_result"
    }
   ],
   "source": [
    "num_10 = df.copy()\n",
    "num_10 = num_10.groupby('Generation')[['Speed','Defense']].mean().reset_index()\n",
    "num_10['diff'] = abs(num_10.Speed - num_10.Defense)\n",
    "num_10.sort_values('diff', ascending = False)  # 2세대"
   ]
  },
  {
   "cell_type": "markdown",
   "metadata": {},
   "source": [
    "## 2유형"
   ]
  },
  {
   "cell_type": "code",
   "execution_count": 227,
   "metadata": {},
   "outputs": [
    {
     "data": {
      "text/html": [
       "<div>\n",
       "<style scoped>\n",
       "    .dataframe tbody tr th:only-of-type {\n",
       "        vertical-align: middle;\n",
       "    }\n",
       "\n",
       "    .dataframe tbody tr th {\n",
       "        vertical-align: top;\n",
       "    }\n",
       "\n",
       "    .dataframe thead th {\n",
       "        text-align: right;\n",
       "    }\n",
       "</style>\n",
       "<table border=\"1\" class=\"dataframe\">\n",
       "  <thead>\n",
       "    <tr style=\"text-align: right;\">\n",
       "      <th></th>\n",
       "      <th>id</th>\n",
       "      <th>gender</th>\n",
       "      <th>age</th>\n",
       "      <th>hypertension</th>\n",
       "      <th>heart_disease</th>\n",
       "      <th>ever_married</th>\n",
       "      <th>work_type</th>\n",
       "      <th>Residence_type</th>\n",
       "      <th>avg_glucose_level</th>\n",
       "      <th>bmi</th>\n",
       "      <th>smoking_status</th>\n",
       "      <th>stroke</th>\n",
       "    </tr>\n",
       "  </thead>\n",
       "  <tbody>\n",
       "    <tr>\n",
       "      <th>0</th>\n",
       "      <td>1192</td>\n",
       "      <td>Female</td>\n",
       "      <td>31</td>\n",
       "      <td>0</td>\n",
       "      <td>0</td>\n",
       "      <td>No</td>\n",
       "      <td>Govt_job</td>\n",
       "      <td>Rural</td>\n",
       "      <td>70.66</td>\n",
       "      <td>27.2</td>\n",
       "      <td>never smoked</td>\n",
       "      <td>0</td>\n",
       "    </tr>\n",
       "    <tr>\n",
       "      <th>1</th>\n",
       "      <td>77</td>\n",
       "      <td>Female</td>\n",
       "      <td>13</td>\n",
       "      <td>0</td>\n",
       "      <td>0</td>\n",
       "      <td>No</td>\n",
       "      <td>children</td>\n",
       "      <td>Rural</td>\n",
       "      <td>85.81</td>\n",
       "      <td>18.6</td>\n",
       "      <td>Unknown</td>\n",
       "      <td>0</td>\n",
       "    </tr>\n",
       "    <tr>\n",
       "      <th>2</th>\n",
       "      <td>59200</td>\n",
       "      <td>Male</td>\n",
       "      <td>18</td>\n",
       "      <td>0</td>\n",
       "      <td>0</td>\n",
       "      <td>No</td>\n",
       "      <td>Private</td>\n",
       "      <td>Urban</td>\n",
       "      <td>60.56</td>\n",
       "      <td>33.0</td>\n",
       "      <td>never smoked</td>\n",
       "      <td>0</td>\n",
       "    </tr>\n",
       "    <tr>\n",
       "      <th>3</th>\n",
       "      <td>24905</td>\n",
       "      <td>Female</td>\n",
       "      <td>65</td>\n",
       "      <td>0</td>\n",
       "      <td>0</td>\n",
       "      <td>Yes</td>\n",
       "      <td>Private</td>\n",
       "      <td>Urban</td>\n",
       "      <td>205.77</td>\n",
       "      <td>46.0</td>\n",
       "      <td>formerly smoked</td>\n",
       "      <td>1</td>\n",
       "    </tr>\n",
       "    <tr>\n",
       "      <th>4</th>\n",
       "      <td>24257</td>\n",
       "      <td>Male</td>\n",
       "      <td>4</td>\n",
       "      <td>0</td>\n",
       "      <td>0</td>\n",
       "      <td>No</td>\n",
       "      <td>children</td>\n",
       "      <td>Rural</td>\n",
       "      <td>90.42</td>\n",
       "      <td>16.2</td>\n",
       "      <td>Unknown</td>\n",
       "      <td>0</td>\n",
       "    </tr>\n",
       "  </tbody>\n",
       "</table>\n",
       "</div>"
      ],
      "text/plain": [
       "      id  gender age  hypertension  heart_disease ever_married work_type  \\\n",
       "0   1192  Female  31             0              0           No  Govt_job   \n",
       "1     77  Female  13             0              0           No  children   \n",
       "2  59200    Male  18             0              0           No   Private   \n",
       "3  24905  Female  65             0              0          Yes   Private   \n",
       "4  24257    Male   4             0              0           No  children   \n",
       "\n",
       "  Residence_type  avg_glucose_level   bmi   smoking_status  stroke  \n",
       "0          Rural              70.66  27.2     never smoked       0  \n",
       "1          Rural              85.81  18.6          Unknown       0  \n",
       "2          Urban              60.56  33.0     never smoked       0  \n",
       "3          Urban             205.77  46.0  formerly smoked       1  \n",
       "4          Rural              90.42  16.2          Unknown       0  "
      ]
     },
     "metadata": {},
     "output_type": "display_data"
    },
    {
     "data": {
      "text/html": [
       "<div>\n",
       "<style scoped>\n",
       "    .dataframe tbody tr th:only-of-type {\n",
       "        vertical-align: middle;\n",
       "    }\n",
       "\n",
       "    .dataframe tbody tr th {\n",
       "        vertical-align: top;\n",
       "    }\n",
       "\n",
       "    .dataframe thead th {\n",
       "        text-align: right;\n",
       "    }\n",
       "</style>\n",
       "<table border=\"1\" class=\"dataframe\">\n",
       "  <thead>\n",
       "    <tr style=\"text-align: right;\">\n",
       "      <th></th>\n",
       "      <th>id</th>\n",
       "      <th>gender</th>\n",
       "      <th>age</th>\n",
       "      <th>hypertension</th>\n",
       "      <th>heart_disease</th>\n",
       "      <th>ever_married</th>\n",
       "      <th>work_type</th>\n",
       "      <th>Residence_type</th>\n",
       "      <th>avg_glucose_level</th>\n",
       "      <th>bmi</th>\n",
       "      <th>smoking_status</th>\n",
       "    </tr>\n",
       "  </thead>\n",
       "  <tbody>\n",
       "    <tr>\n",
       "      <th>0</th>\n",
       "      <td>47472</td>\n",
       "      <td>Female</td>\n",
       "      <td>58</td>\n",
       "      <td>0</td>\n",
       "      <td>0</td>\n",
       "      <td>Yes</td>\n",
       "      <td>Private</td>\n",
       "      <td>Urban</td>\n",
       "      <td>107.26</td>\n",
       "      <td>38.6</td>\n",
       "      <td>formerly smoked</td>\n",
       "    </tr>\n",
       "    <tr>\n",
       "      <th>1</th>\n",
       "      <td>36841</td>\n",
       "      <td>Male</td>\n",
       "      <td>78</td>\n",
       "      <td>1</td>\n",
       "      <td>0</td>\n",
       "      <td>Yes</td>\n",
       "      <td>Self-employed</td>\n",
       "      <td>Rural</td>\n",
       "      <td>56.11</td>\n",
       "      <td>25.5</td>\n",
       "      <td>formerly smoked</td>\n",
       "    </tr>\n",
       "    <tr>\n",
       "      <th>2</th>\n",
       "      <td>3135</td>\n",
       "      <td>Female</td>\n",
       "      <td>73</td>\n",
       "      <td>0</td>\n",
       "      <td>0</td>\n",
       "      <td>No</td>\n",
       "      <td>Self-employed</td>\n",
       "      <td>Rural</td>\n",
       "      <td>69.35</td>\n",
       "      <td>NaN</td>\n",
       "      <td>never smoked</td>\n",
       "    </tr>\n",
       "    <tr>\n",
       "      <th>3</th>\n",
       "      <td>65218</td>\n",
       "      <td>Male</td>\n",
       "      <td>2</td>\n",
       "      <td>0</td>\n",
       "      <td>0</td>\n",
       "      <td>No</td>\n",
       "      <td>children</td>\n",
       "      <td>Rural</td>\n",
       "      <td>109.10</td>\n",
       "      <td>20.0</td>\n",
       "      <td>Unknown</td>\n",
       "    </tr>\n",
       "    <tr>\n",
       "      <th>4</th>\n",
       "      <td>1847</td>\n",
       "      <td>Female</td>\n",
       "      <td>20</td>\n",
       "      <td>0</td>\n",
       "      <td>0</td>\n",
       "      <td>No</td>\n",
       "      <td>Govt_job</td>\n",
       "      <td>Rural</td>\n",
       "      <td>79.53</td>\n",
       "      <td>NaN</td>\n",
       "      <td>never smoked</td>\n",
       "    </tr>\n",
       "  </tbody>\n",
       "</table>\n",
       "</div>"
      ],
      "text/plain": [
       "      id  gender  age  hypertension  heart_disease ever_married  \\\n",
       "0  47472  Female   58             0              0          Yes   \n",
       "1  36841    Male   78             1              0          Yes   \n",
       "2   3135  Female   73             0              0           No   \n",
       "3  65218    Male    2             0              0           No   \n",
       "4   1847  Female   20             0              0           No   \n",
       "\n",
       "       work_type Residence_type  avg_glucose_level   bmi   smoking_status  \n",
       "0        Private          Urban             107.26  38.6  formerly smoked  \n",
       "1  Self-employed          Rural              56.11  25.5  formerly smoked  \n",
       "2  Self-employed          Rural              69.35   NaN     never smoked  \n",
       "3       children          Rural             109.10  20.0          Unknown  \n",
       "4       Govt_job          Rural              79.53   NaN     never smoked  "
      ]
     },
     "metadata": {},
     "output_type": "display_data"
    }
   ],
   "source": [
    "import pandas as pd\n",
    "train= pd.read_csv('https://raw.githubusercontent.com/Datamanim/datarepo/main/stroke_/train.csv')\n",
    "test= pd.read_csv('https://raw.githubusercontent.com/Datamanim/datarepo/main/stroke_/test.csv')\n",
    "\n",
    "display(train.head())\n",
    "display(test.head())"
   ]
  },
  {
   "cell_type": "code",
   "execution_count": 213,
   "metadata": {},
   "outputs": [
    {
     "name": "stdout",
     "output_type": "stream",
     "text": [
      "id                   0\n",
      "gender               0\n",
      "age                  0\n",
      "hypertension         0\n",
      "heart_disease        0\n",
      "ever_married         0\n",
      "work_type            0\n",
      "Residence_type       0\n",
      "avg_glucose_level    0\n",
      "bmi                  0\n",
      "smoking_status       0\n",
      "stroke               0\n",
      "dtype: int64\n",
      "id                   0\n",
      "gender               0\n",
      "age                  0\n",
      "hypertension         0\n",
      "heart_disease        0\n",
      "ever_married         0\n",
      "work_type            0\n",
      "Residence_type       0\n",
      "avg_glucose_level    0\n",
      "bmi                  0\n",
      "smoking_status       0\n",
      "dtype: int64\n",
      "id                   1137\n",
      "gender                  3\n",
      "age                    83\n",
      "hypertension            2\n",
      "heart_disease           2\n",
      "ever_married            2\n",
      "work_type               5\n",
      "Residence_type          2\n",
      "avg_glucose_level    1069\n",
      "bmi                   309\n",
      "smoking_status          4\n",
      "stroke                  2\n",
      "dtype: int64\n",
      "id                   932\n",
      "gender                 2\n",
      "age                   83\n",
      "hypertension           2\n",
      "heart_disease          2\n",
      "ever_married           2\n",
      "work_type              5\n",
      "Residence_type         2\n",
      "avg_glucose_level    894\n",
      "bmi                  285\n",
      "smoking_status         4\n",
      "dtype: int64\n"
     ]
    }
   ],
   "source": [
    "print(train.isnull().sum())\n",
    "print(test.isnull().sum())\n",
    "print(train.nunique())\n",
    "print(test.nunique())"
   ]
  },
  {
   "cell_type": "code",
   "execution_count": 228,
   "metadata": {},
   "outputs": [],
   "source": [
    "train['bmi'] = train.bmi.fillna(train.bmi.mean())\n",
    "test['bmi'] = test.bmi.fillna(test.bmi.mean())"
   ]
  },
  {
   "cell_type": "code",
   "execution_count": 229,
   "metadata": {},
   "outputs": [
    {
     "name": "stdout",
     "output_type": "stream",
     "text": [
      "(1137, 10) (932, 10)\n",
      "(2069, 10)\n",
      "(1137, 187) (932, 187)\n",
      "(1137,)\n"
     ]
    }
   ],
   "source": [
    "X_train = train.drop(['id','stroke'],axis=1)\n",
    "y_train = train['stroke']\n",
    "X_test = test.drop('id',axis=1)\n",
    "\n",
    "print(X_train.shape, X_test.shape)\n",
    "concat = pd.concat([X_train, X_test], axis=0)\n",
    "print(concat.shape)\n",
    "concat = pd.get_dummies(concat)\n",
    "X_train_dum = concat[:1137]\n",
    "X_test_dum = concat[1137:]\n",
    "\n",
    "print(X_train_dum.shape, X_test_dum.shape)\n",
    "print(y_train.shape)"
   ]
  },
  {
   "cell_type": "code",
   "execution_count": 230,
   "metadata": {},
   "outputs": [
    {
     "name": "stdout",
     "output_type": "stream",
     "text": [
      "[0.16 0.05 0.   0.02 0.12 0.1  0.06 0.08 0.18 0.37 0.01 0.59 0.   0.01\n",
      " 0.06 0.03 0.11 0.26 0.04 0.14 0.01 0.13 0.25 0.   0.34 0.07 0.   0.\n",
      " 0.17 0.07 0.13 0.11 0.   0.07 0.   0.01 0.19 0.   0.1  0.08 0.05 0.16\n",
      " 0.12 0.02 0.14 0.07 0.02 0.08 0.   0.35 0.06 0.   0.01 0.3  0.   0.27\n",
      " 0.15 0.   0.02 0.13 0.   0.06 0.3  0.11 0.02 0.05 0.13 0.05 0.01 0.02\n",
      " 0.   0.55 0.42 0.   0.07 0.07 0.   0.11 0.02 0.25 0.31 0.13 0.21 0.03\n",
      " 0.08 0.1  0.26 0.   0.04 0.25 0.3  0.08 0.03 0.01 0.12 0.05 0.03 0.08\n",
      " 0.01 0.   0.01 0.27 0.   0.01 0.05 0.   0.13 0.12 0.02 0.02 0.12 0.18\n",
      " 0.15 0.04 0.09 0.15 0.   0.2  0.36 0.   0.04 0.   0.01 0.46 0.17 0.14\n",
      " 0.06 0.07 0.11 0.05 0.1  0.11 0.04 0.29 0.16 0.1  0.   0.18 0.15 0.02\n",
      " 0.3  0.18 0.02 0.12 0.02 0.   0.18 0.   0.18 0.07 0.   0.19 0.08 0.\n",
      " 0.05 0.16 0.08 0.15 0.06 0.06 0.   0.17 0.   0.1  0.06 0.27 0.09 0.08\n",
      " 0.01 0.17 0.03 0.05 0.13 0.02 0.07 0.01 0.06 0.07 0.09 0.08 0.06 0.\n",
      " 0.05 0.15 0.1  0.04 0.   0.02 0.08 0.02 0.25 0.08 0.29 0.04 0.03 0.05\n",
      " 0.03 0.   0.   0.12 0.   0.04 0.01 0.28 0.04 0.05 0.02 0.04 0.48 0.\n",
      " 0.   0.   0.07 0.04 0.03 0.   0.02 0.13 0.08 0.16 0.05 0.05 0.34 0.01\n",
      " 0.01 0.21 0.47 0.11 0.31 0.04 0.   0.   0.01 0.   0.17 0.07 0.36 0.02\n",
      " 0.23 0.53 0.12 0.13 0.07 0.11 0.09 0.23 0.   0.02 0.16 0.   0.   0.58\n",
      " 0.08 0.06 0.11 0.04 0.04 0.   0.27 0.12 0.   0.06 0.33 0.05 0.07 0.02\n",
      " 0.   0.68 0.04 0.04 0.   0.04 0.01 0.04 0.06 0.01 0.04 0.11 0.14 0.19\n",
      " 0.31 0.01 0.19 0.03 0.08]\n",
      "auc score: 0.7582285714285715\n"
     ]
    }
   ],
   "source": [
    "from sklearn.model_selection import train_test_split\n",
    "from sklearn.ensemble import RandomForestClassifier\n",
    "from sklearn.metrics import roc_auc_score\n",
    "\n",
    "X_train, X_val, y_train, y_val = train_test_split(X_train_dum, y_train)\n",
    "\n",
    "rf = RandomForestClassifier()\n",
    "rf.fit(X_train, y_train)\n",
    "y_val_predict = rf.predict_proba(X_val)[:,1]\n",
    "print(y_val_predict)\n",
    "\n",
    "print('auc score:', roc_auc_score(y_val, y_val_predict))"
   ]
  },
  {
   "cell_type": "code",
   "execution_count": null,
   "metadata": {},
   "outputs": [],
   "source": []
  }
 ],
 "metadata": {
  "kernelspec": {
   "display_name": "base",
   "language": "python",
   "name": "python3"
  },
  "language_info": {
   "codemirror_mode": {
    "name": "ipython",
    "version": 3
   },
   "file_extension": ".py",
   "mimetype": "text/x-python",
   "name": "python",
   "nbconvert_exporter": "python",
   "pygments_lexer": "ipython3",
   "version": "3.9.12"
  }
 },
 "nbformat": 4,
 "nbformat_minor": 2
}
